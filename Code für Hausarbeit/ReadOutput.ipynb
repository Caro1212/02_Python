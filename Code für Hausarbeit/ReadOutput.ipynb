{
 "cells": [
  {
   "cell_type": "code",
   "execution_count": 1,
   "metadata": {
    "collapsed": true
   },
   "outputs": [],
   "source": [
    "def complexity(output_file, train_data):\n",
    "\n",
    "    with open(output_file,\"r\") as file:\n",
    "        for position,line in enumerate(file):\n",
    "            if \"Total number of nodes of final tree\" in line:\n",
    "                total = line\n",
    "            elif \"******\" in line:\n",
    "                begin = position\n",
    "\n",
    "    with open(output_file,\"r\") as file:\n",
    "        lines = file.readlines()\n",
    "    lines = lines[begin::]\n",
    "    number_of_nodes = int(total[-2])\n",
    "\n",
    "    with open(\"train_data.csv\",\"r\") as file:\n",
    "        line = file.readline()\n",
    "    line = line[1:-1]\n",
    "    variables = line.split(\",\")\n",
    "    mylist=[x for x in lines for i in variables if x.startswith(\" \"+i)]\n",
    "    number_of_parameters = len(mylist)\n",
    "    return number_of_nodes, number_of_parameters"
   ]
  },
  {
   "cell_type": "code",
   "execution_count": null,
   "outputs": [],
   "source": [],
   "metadata": {
    "collapsed": false,
    "pycharm": {
     "name": "#%%\n"
    }
   }
  }
 ],
 "metadata": {
  "kernelspec": {
   "display_name": "Python 3",
   "language": "python",
   "name": "python3"
  },
  "language_info": {
   "codemirror_mode": {
    "name": "ipython",
    "version": 2
   },
   "file_extension": ".py",
   "mimetype": "text/x-python",
   "name": "python",
   "nbconvert_exporter": "python",
   "pygments_lexer": "ipython2",
   "version": "2.7.6"
  }
 },
 "nbformat": 4,
 "nbformat_minor": 0
}