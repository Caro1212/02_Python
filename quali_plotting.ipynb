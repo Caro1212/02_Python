{
 "cells": [
  {
   "cell_type": "code",
   "execution_count": 1,
   "metadata": {
    "collapsed": true
   },
   "outputs": [
    {
     "data": {
      "text/plain": "'\\nNode 1: y_0 <= -.45903500E-02\\n   Node 2: y_0 <= -.22948500\\n     Node 4: y_1-mean = -.36188186\\n   Node 2: y_0 > -.22948500 or NA\\n     Node 5: y_1-mean = -.12265689\\n Node 1: y_0 > -.45903500E-02 or NA\\n   Node 3: u_0 <= .65806000\\n     Node 6: y_1-mean = .16258794\\n   Node 3: u_0 > .65806000 or NA\\n     Node 7: y_1-mean = .34599850\\n'"
     },
     "execution_count": 1,
     "metadata": {},
     "output_type": "execute_result"
    }
   ],
   "source": [
    "\"\"\"\n",
    " Node 1: u_0 <= .79066500\n",
    "   Node 2: y_0 <= -.30678500\n",
    "     Node 4: y_1-mean = -.37739280\n",
    "   Node 2: y_0 > -.30678500 or NA\n",
    "     Node 5: y_1-mean = .68262349E-01\n",
    " Node 1: u_0 > .79066500 or NA\n",
    "   Node 3: y_1-mean = .38154653\n",
    "\n",
    "\"\"\""
   ]
  },
  {
   "cell_type": "code",
   "execution_count": 6,
   "outputs": [],
   "source": [
    "import matplotlib.pyplot as plt\n",
    "import pandas as pd"
   ],
   "metadata": {
    "collapsed": false,
    "pycharm": {
     "name": "#%%\n"
    }
   }
  },
  {
   "cell_type": "code",
   "execution_count": 7,
   "outputs": [
    {
     "data": {
      "text/plain": "       y_dach\n0   -0.064148\n1   -0.033526\n2   -0.029988\n3   -0.040094\n4   -0.050854\n..        ...\n175  0.442245\n176  0.442240\n177  0.448072\n178  0.454572\n179  0.455469\n\n[180 rows x 1 columns]",
      "text/html": "<div>\n<style scoped>\n    .dataframe tbody tr th:only-of-type {\n        vertical-align: middle;\n    }\n\n    .dataframe tbody tr th {\n        vertical-align: top;\n    }\n\n    .dataframe thead th {\n        text-align: right;\n    }\n</style>\n<table border=\"1\" class=\"dataframe\">\n  <thead>\n    <tr style=\"text-align: right;\">\n      <th></th>\n      <th>y_dach</th>\n    </tr>\n  </thead>\n  <tbody>\n    <tr>\n      <th>0</th>\n      <td>-0.064148</td>\n    </tr>\n    <tr>\n      <th>1</th>\n      <td>-0.033526</td>\n    </tr>\n    <tr>\n      <th>2</th>\n      <td>-0.029988</td>\n    </tr>\n    <tr>\n      <th>3</th>\n      <td>-0.040094</td>\n    </tr>\n    <tr>\n      <th>4</th>\n      <td>-0.050854</td>\n    </tr>\n    <tr>\n      <th>...</th>\n      <td>...</td>\n    </tr>\n    <tr>\n      <th>175</th>\n      <td>0.442245</td>\n    </tr>\n    <tr>\n      <th>176</th>\n      <td>0.442240</td>\n    </tr>\n    <tr>\n      <th>177</th>\n      <td>0.448072</td>\n    </tr>\n    <tr>\n      <th>178</th>\n      <td>0.454572</td>\n    </tr>\n    <tr>\n      <th>179</th>\n      <td>0.455469</td>\n    </tr>\n  </tbody>\n</table>\n<p>180 rows × 1 columns</p>\n</div>"
     },
     "execution_count": 7,
     "metadata": {},
     "output_type": "execute_result"
    }
   ],
   "source": [
    "pred = pd.read_csv(\"predictions.csv\", sep=\" \", header=None)\n",
    "pred = pred.transpose()\n",
    "pred.columns = [\"y_dach\"]\n",
    "\n",
    "\n",
    "\n",
    "data = pd.read_csv(\"test_data.csv\", index_col=0, sep=\",\")\n",
    "# create 2d x,y grid (both X and Y will be 2d)\n",
    "X, Y = np.meshgrid(x, y)\n",
    "\n",
    "# repeat Z to make it a 2d grid\n",
    "Z = np.tile(z, (len(z), 1))\n",
    "\n",
    "fig, ax = plt.subplots(1, figsize=(20, 18))\n",
    "\n",
    "ax = fig.add_subplot(111, projection='3d')\n",
    "\n",
    "ax.plot_surface(X, Y, Z, cmap='ocean')\n",
    "\n",
    "# rotate the axes and update\n",
    "for angle in range(0, 360):\n",
    "    ax.view_init(30, angle)\n",
    "    plt.draw()\n",
    "    plt.pause(0.01)"
   ],
   "metadata": {
    "collapsed": false,
    "pycharm": {
     "name": "#%%\n"
    }
   }
  },
  {
   "cell_type": "code",
   "execution_count": null,
   "outputs": [],
   "source": [],
   "metadata": {
    "collapsed": false,
    "pycharm": {
     "name": "#%%\n"
    }
   }
  }
 ],
 "metadata": {
  "kernelspec": {
   "display_name": "Python 3",
   "language": "python",
   "name": "python3"
  },
  "language_info": {
   "codemirror_mode": {
    "name": "ipython",
    "version": 2
   },
   "file_extension": ".py",
   "mimetype": "text/x-python",
   "name": "python",
   "nbconvert_exporter": "python",
   "pygments_lexer": "ipython2",
   "version": "2.7.6"
  }
 },
 "nbformat": 4,
 "nbformat_minor": 0
}