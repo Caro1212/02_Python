{
 "cells": [
  {
   "cell_type": "code",
   "execution_count": 8,
   "metadata": {
    "collapsed": true
   },
   "outputs": [],
   "source": [
    "import pandas as pd\n",
    "import numpy as np\n",
    "\n",
    "\n",
    "ts_size = 10\n",
    "system = \"hammerstein\"\n",
    "data = pd.read_csv(\"matlab_data.csv\", header=None)"
   ]
  },
  {
   "cell_type": "code",
   "execution_count": 9,
   "outputs": [],
   "source": [
    "def matlab_to_data(data, system, ts_size):\n",
    "\n",
    "    data_size = int(data.size / len(data))\n",
    "    values = data.iloc[:,0:ts_size].values\n",
    "    new_np = values.reshape((1,2*ts_size))\n",
    "    for i in range(1,data_size - ts_size):\n",
    "        u_y = data.iloc[:,i:i+ts_size].values\n",
    "        u_y = u_y.reshape((1,2*ts_size))\n",
    "        new_np = np.vstack((new_np, u_y))\n",
    "\n",
    "    names = [\"u_\"+str(i) for i in range(ts_size)]+[\"y_\"+str(i) for i in range(ts_size)]\n",
    "    new_data = pd.DataFrame(new_np, columns = names)\n",
    "    new_data[\"cat\"] = system\n",
    "\n",
    "    new_data.to_csv(path_or_buf=\"row_data.csv\", header=new_data.columns, index=False)"
   ],
   "metadata": {
    "collapsed": false,
    "pycharm": {
     "name": "#%%\n"
    }
   }
  },
  {
   "cell_type": "code",
   "execution_count": 10,
   "outputs": [],
   "source": [
    "matlab_to_data(data, system, ts_size)\n"
   ],
   "metadata": {
    "collapsed": false,
    "pycharm": {
     "name": "#%%\n"
    }
   }
  },
  {
   "cell_type": "code",
   "execution_count": null,
   "outputs": [],
   "source": [],
   "metadata": {
    "collapsed": false,
    "pycharm": {
     "name": "#%%\n"
    }
   }
  }
 ],
 "metadata": {
  "kernelspec": {
   "name": "python3",
   "language": "python",
   "display_name": "Python 3"
  },
  "language_info": {
   "codemirror_mode": {
    "name": "ipython",
    "version": 2
   },
   "file_extension": ".py",
   "mimetype": "text/x-python",
   "name": "python",
   "nbconvert_exporter": "python",
   "pygments_lexer": "ipython2",
   "version": "2.7.6"
  }
 },
 "nbformat": 4,
 "nbformat_minor": 0
}