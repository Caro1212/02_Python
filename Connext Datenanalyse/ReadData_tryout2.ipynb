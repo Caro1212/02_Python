{
 "cells": [
  {
   "cell_type": "code",
   "execution_count": 44,
   "metadata": {
    "collapsed": true
   },
   "outputs": [],
   "source": [
    "import pyodbc\n",
    "import pandas as pd\n",
    "import mysql.connector\n",
    "import matplotlib.pyplot as plt\n",
    "import numpy as np"
   ]
  },
  {
   "cell_type": "code",
   "execution_count": 22,
   "outputs": [],
   "source": [
    "connection = mysql.connector.connect(\n",
    "    host=\"127.0.0.1\",\n",
    "    user=\"root\",\n",
    "    password=\"FH_Master_2122\",\n",
    "    database=\"forschung\"\n",
    ")\n",
    "\n",
    "cursor = connection.cursor()\n",
    "cursor.execute(\"SELECT * FROM diagnosen\")\n",
    "myresult = cursor.fetchall()\n",
    "\n",
    "diagnoses = pd.DataFrame(myresult, columns = ['id', 'klientid','giltab','giltbis','bezeichnung','code','status','statusname'])\n",
    "\n",
    "a = diagnoses.bezeichnung.unique()\n",
    "diabetes = []\n",
    "for dia in list(a):\n",
    "    try:\n",
    "        if \"diab\" in dia:\n",
    "            diabetes.append(dia)\n",
    "    except:\n",
    "        continue\n",
    "diab_diagnoses = diagnoses[diagnoses.bezeichnung.isin(diabetes)]\n",
    "klienten1 = list(diab_diagnoses.klientid.unique())\n",
    "#klientenF1 = [int(str(id)+\"01\") for id in klienten]\n",
    "\n",
    "cursor.execute(\"SELECT * FROM vitalwerte\")\n",
    "myresult = cursor.fetchall()\n",
    "vital1 = pd.DataFrame(myresult, columns = ['id', 'klientid','datum','bezeichnung','wert','einheit','wurdeunterschritten','wurdeueberschritten'])\n",
    "vital1 = vital1[vital1.klientid.isin(klienten1)]\n",
    "\n",
    "vital1[\"klientid2\"] = vital1[\"klientid\"]*100 +1\n",
    "klienten21 = list(vital1.klientid2.unique())"
   ],
   "metadata": {
    "collapsed": false,
    "pycharm": {
     "name": "#%%\n"
    }
   }
  },
  {
   "cell_type": "code",
   "execution_count": 23,
   "outputs": [],
   "source": [
    "cursor.close()\n",
    "connection.disconnect()\n"
   ],
   "metadata": {
    "collapsed": false,
    "pycharm": {
     "name": "#%%\n"
    }
   }
  },
  {
   "cell_type": "code",
   "execution_count": 24,
   "outputs": [],
   "source": [
    "# Trusted Connection to Named Instance\n",
    "connection = pyodbc.connect('DRIVER={ODBC Driver 17 for SQL Server};'\n",
    "                            'SERVER=pc-caro;DATABASE=Forschung02;'\n",
    "                            'Trusted_Connection=yes;')\n",
    "cursor=connection.cursor()"
   ],
   "metadata": {
    "collapsed": false,
    "pycharm": {
     "name": "#%%\n"
    }
   }
  },
  {
   "cell_type": "code",
   "execution_count": 25,
   "outputs": [
    {
     "data": {
      "text/plain": "            id  klientid               giltab giltbis  \\\n474        475      1348  2014-06-10 00:00:00     NaT   \n531        532      2117  2015-01-29 00:00:00     NaT   \n535        536      2117  2015-01-29 00:00:00     NaT   \n585        586       391  2013-08-06 00:00:00     NaT   \n806        807      1356  2014-06-12 00:00:00     NaT   \n...        ...       ...                  ...     ...   \n517273  517274     10510  2016-05-26 00:00:00     NaT   \n517420  517421      4717  2016-05-27 00:00:00     NaT   \n517421  517422      4717  2016-05-27 00:00:00     NaT   \n517568  517569     10676  2016-05-28 00:00:00     NaT   \n518531  518532     10873  2016-06-03 00:00:00     NaT   \n\n                                              bezeichnung  code  status  \\\n474                           diabetes mellitus typ 2 BOT  None      -1   \n531     Immobilitätssyndrom bei Wundheilungsstörungen ...  None      -1   \n535                                Retinopathia diabetica  None      -1   \n585                                    diab. Nephropathie  None      -1   \n806         Diabetes Mellitus Typ II, orale Antidiabetika  None      -1   \n...                                                   ...   ...     ...   \n517273  13.09.2012 diabet. Polyneuropathie bei Diabete...  None      -1   \n517420                             diab. Retinopathie bds  None      -1   \n517421                            diab. Maculapathie bds.  None      -1   \n517568                       diabetische Polyneruropathie  None      -1   \n518531                          diab. Nephropathie (2010)  None      -1   \n\n          statusname  \n474     Keine Angabe  \n531     Keine Angabe  \n535     Keine Angabe  \n585     Keine Angabe  \n806     Keine Angabe  \n...              ...  \n517273  Keine Angabe  \n517420  Keine Angabe  \n517421  Keine Angabe  \n517568  Keine Angabe  \n518531  Keine Angabe  \n\n[1684 rows x 8 columns]",
      "text/html": "<div>\n<style scoped>\n    .dataframe tbody tr th:only-of-type {\n        vertical-align: middle;\n    }\n\n    .dataframe tbody tr th {\n        vertical-align: top;\n    }\n\n    .dataframe thead th {\n        text-align: right;\n    }\n</style>\n<table border=\"1\" class=\"dataframe\">\n  <thead>\n    <tr style=\"text-align: right;\">\n      <th></th>\n      <th>id</th>\n      <th>klientid</th>\n      <th>giltab</th>\n      <th>giltbis</th>\n      <th>bezeichnung</th>\n      <th>code</th>\n      <th>status</th>\n      <th>statusname</th>\n    </tr>\n  </thead>\n  <tbody>\n    <tr>\n      <th>474</th>\n      <td>475</td>\n      <td>1348</td>\n      <td>2014-06-10 00:00:00</td>\n      <td>NaT</td>\n      <td>diabetes mellitus typ 2 BOT</td>\n      <td>None</td>\n      <td>-1</td>\n      <td>Keine Angabe</td>\n    </tr>\n    <tr>\n      <th>531</th>\n      <td>532</td>\n      <td>2117</td>\n      <td>2015-01-29 00:00:00</td>\n      <td>NaT</td>\n      <td>Immobilitätssyndrom bei Wundheilungsstörungen ...</td>\n      <td>None</td>\n      <td>-1</td>\n      <td>Keine Angabe</td>\n    </tr>\n    <tr>\n      <th>535</th>\n      <td>536</td>\n      <td>2117</td>\n      <td>2015-01-29 00:00:00</td>\n      <td>NaT</td>\n      <td>Retinopathia diabetica</td>\n      <td>None</td>\n      <td>-1</td>\n      <td>Keine Angabe</td>\n    </tr>\n    <tr>\n      <th>585</th>\n      <td>586</td>\n      <td>391</td>\n      <td>2013-08-06 00:00:00</td>\n      <td>NaT</td>\n      <td>diab. Nephropathie</td>\n      <td>None</td>\n      <td>-1</td>\n      <td>Keine Angabe</td>\n    </tr>\n    <tr>\n      <th>806</th>\n      <td>807</td>\n      <td>1356</td>\n      <td>2014-06-12 00:00:00</td>\n      <td>NaT</td>\n      <td>Diabetes Mellitus Typ II, orale Antidiabetika</td>\n      <td>None</td>\n      <td>-1</td>\n      <td>Keine Angabe</td>\n    </tr>\n    <tr>\n      <th>...</th>\n      <td>...</td>\n      <td>...</td>\n      <td>...</td>\n      <td>...</td>\n      <td>...</td>\n      <td>...</td>\n      <td>...</td>\n      <td>...</td>\n    </tr>\n    <tr>\n      <th>517273</th>\n      <td>517274</td>\n      <td>10510</td>\n      <td>2016-05-26 00:00:00</td>\n      <td>NaT</td>\n      <td>13.09.2012 diabet. Polyneuropathie bei Diabete...</td>\n      <td>None</td>\n      <td>-1</td>\n      <td>Keine Angabe</td>\n    </tr>\n    <tr>\n      <th>517420</th>\n      <td>517421</td>\n      <td>4717</td>\n      <td>2016-05-27 00:00:00</td>\n      <td>NaT</td>\n      <td>diab. Retinopathie bds</td>\n      <td>None</td>\n      <td>-1</td>\n      <td>Keine Angabe</td>\n    </tr>\n    <tr>\n      <th>517421</th>\n      <td>517422</td>\n      <td>4717</td>\n      <td>2016-05-27 00:00:00</td>\n      <td>NaT</td>\n      <td>diab. Maculapathie bds.</td>\n      <td>None</td>\n      <td>-1</td>\n      <td>Keine Angabe</td>\n    </tr>\n    <tr>\n      <th>517568</th>\n      <td>517569</td>\n      <td>10676</td>\n      <td>2016-05-28 00:00:00</td>\n      <td>NaT</td>\n      <td>diabetische Polyneruropathie</td>\n      <td>None</td>\n      <td>-1</td>\n      <td>Keine Angabe</td>\n    </tr>\n    <tr>\n      <th>518531</th>\n      <td>518532</td>\n      <td>10873</td>\n      <td>2016-06-03 00:00:00</td>\n      <td>NaT</td>\n      <td>diab. Nephropathie (2010)</td>\n      <td>None</td>\n      <td>-1</td>\n      <td>Keine Angabe</td>\n    </tr>\n  </tbody>\n</table>\n<p>1684 rows × 8 columns</p>\n</div>"
     },
     "execution_count": 25,
     "metadata": {},
     "output_type": "execute_result"
    }
   ],
   "source": [
    "diagnoses = pd.read_sql_query('SELECT * FROM diagnosen', connection)\n",
    "diagnoses.columns = ['id', 'klientid','giltab','giltbis','bezeichnung','code','status','statusname']\n",
    "a = diagnoses.bezeichnung.unique()\n",
    "diabetes = []\n",
    "for dia in list(a):\n",
    "    try:\n",
    "        if \"diab\" in dia:\n",
    "            diabetes.append(dia)\n",
    "    except:\n",
    "        continue\n",
    "diab_diagnoses = diagnoses[diagnoses.bezeichnung.isin(diabetes)]\n",
    "klienten2 = list(diab_diagnoses.klientid.unique())\n",
    "diab_diagnoses"
   ],
   "metadata": {
    "collapsed": false,
    "pycharm": {
     "name": "#%%\n"
    }
   }
  },
  {
   "cell_type": "code",
   "execution_count": 26,
   "outputs": [],
   "source": [
    "vital2 = pd.read_sql_query('SELECT * FROM vitalwerte', connection)\n",
    "vital2.columns = ['id', 'klientid','datum','bezeichnung','wert','einheit','wurdeunterschritten','wurdeueberschritten']\n",
    "vital2 = vital2[vital2.klientid.isin(klienten2)]\n",
    "vital2[\"klientid2\"] = vital2[\"klientid\"]*100 +2\n",
    "klienten22 = list(vital2.klientid2.unique())"
   ],
   "metadata": {
    "collapsed": false,
    "pycharm": {
     "name": "#%%\n"
    }
   }
  },
  {
   "cell_type": "code",
   "execution_count": 27,
   "outputs": [],
   "source": [
    "cursor.close()\n",
    "connection.close()"
   ],
   "metadata": {
    "collapsed": false,
    "pycharm": {
     "name": "#%%\n"
    }
   }
  },
  {
   "cell_type": "code",
   "execution_count": 28,
   "outputs": [],
   "source": [
    "# Trusted Connection to Named Instance\n",
    "connection = pyodbc.connect('DRIVER={ODBC Driver 17 for SQL Server};'\n",
    "                            'SERVER=pc-caro;DATABASE=Forschung03;'\n",
    "                            'Trusted_Connection=yes;')\n",
    "cursor=connection.cursor()"
   ],
   "metadata": {
    "collapsed": false,
    "pycharm": {
     "name": "#%%\n"
    }
   }
  },
  {
   "cell_type": "code",
   "execution_count": 29,
   "outputs": [
    {
     "data": {
      "text/plain": "            id  klientid               giltab giltbis  \\\n523        524       399  2006-03-08 00:00:00     NaT   \n918        919       788  2005-11-08 00:00:00     NaT   \n965        966      1259  2006-03-09 00:00:00     NaT   \n1840      1841     11609  2010-06-30 00:00:00     NaT   \n1976      1977     11685  2009-06-21 00:00:00     NaT   \n...        ...       ...                  ...     ...   \n127967  127968     13622  2013-05-15 00:00:00     NaT   \n128245  128246     21016  2013-05-23 00:00:00     NaT   \n128798  128799     21220  2013-06-24 00:00:00     NaT   \n128951  128952     21258  2013-07-02 00:00:00     NaT   \n129032  129033      9665  2013-07-04 00:00:00     NaT   \n\n                                              bezeichnung   code  status  \\\n523     Insulinpfl. diab. mellitus  mit diabetischer R...   None      -1   \n918                                Retinopathia diabetica  H36.0      -1   \n965                         Insulinpfl. diabetes mellitus   None      -1   \n1840                          diabetische Polyneurophatie   None      -1   \n1976    Diabetes mellitus mit diabetischer Nephropathi...   None      -1   \n...                                                   ...    ...     ...   \n127967  Diabetes Mellitus Typ 2 mit diabetischer polyn...   None      -1   \n128245  akute auf  chronische Niereninsuffizienz unter...   None       2   \n128798                                  diabetes mellitus   None      -1   \n128951  Chronische Niereninsuffizienz Stadium III nach...   None       2   \n129032                            diabetische Neuropathie   None      -1   \n\n          statusname  \n523     Keine Angabe  \n918     Keine Angabe  \n965     Keine Angabe  \n1840    Keine Angabe  \n1976    Keine Angabe  \n...              ...  \n127967  Keine Angabe  \n128245     Gesichert  \n128798  Keine Angabe  \n128951     Gesichert  \n129032  Keine Angabe  \n\n[556 rows x 8 columns]",
      "text/html": "<div>\n<style scoped>\n    .dataframe tbody tr th:only-of-type {\n        vertical-align: middle;\n    }\n\n    .dataframe tbody tr th {\n        vertical-align: top;\n    }\n\n    .dataframe thead th {\n        text-align: right;\n    }\n</style>\n<table border=\"1\" class=\"dataframe\">\n  <thead>\n    <tr style=\"text-align: right;\">\n      <th></th>\n      <th>id</th>\n      <th>klientid</th>\n      <th>giltab</th>\n      <th>giltbis</th>\n      <th>bezeichnung</th>\n      <th>code</th>\n      <th>status</th>\n      <th>statusname</th>\n    </tr>\n  </thead>\n  <tbody>\n    <tr>\n      <th>523</th>\n      <td>524</td>\n      <td>399</td>\n      <td>2006-03-08 00:00:00</td>\n      <td>NaT</td>\n      <td>Insulinpfl. diab. mellitus  mit diabetischer R...</td>\n      <td>None</td>\n      <td>-1</td>\n      <td>Keine Angabe</td>\n    </tr>\n    <tr>\n      <th>918</th>\n      <td>919</td>\n      <td>788</td>\n      <td>2005-11-08 00:00:00</td>\n      <td>NaT</td>\n      <td>Retinopathia diabetica</td>\n      <td>H36.0</td>\n      <td>-1</td>\n      <td>Keine Angabe</td>\n    </tr>\n    <tr>\n      <th>965</th>\n      <td>966</td>\n      <td>1259</td>\n      <td>2006-03-09 00:00:00</td>\n      <td>NaT</td>\n      <td>Insulinpfl. diabetes mellitus</td>\n      <td>None</td>\n      <td>-1</td>\n      <td>Keine Angabe</td>\n    </tr>\n    <tr>\n      <th>1840</th>\n      <td>1841</td>\n      <td>11609</td>\n      <td>2010-06-30 00:00:00</td>\n      <td>NaT</td>\n      <td>diabetische Polyneurophatie</td>\n      <td>None</td>\n      <td>-1</td>\n      <td>Keine Angabe</td>\n    </tr>\n    <tr>\n      <th>1976</th>\n      <td>1977</td>\n      <td>11685</td>\n      <td>2009-06-21 00:00:00</td>\n      <td>NaT</td>\n      <td>Diabetes mellitus mit diabetischer Nephropathi...</td>\n      <td>None</td>\n      <td>-1</td>\n      <td>Keine Angabe</td>\n    </tr>\n    <tr>\n      <th>...</th>\n      <td>...</td>\n      <td>...</td>\n      <td>...</td>\n      <td>...</td>\n      <td>...</td>\n      <td>...</td>\n      <td>...</td>\n      <td>...</td>\n    </tr>\n    <tr>\n      <th>127967</th>\n      <td>127968</td>\n      <td>13622</td>\n      <td>2013-05-15 00:00:00</td>\n      <td>NaT</td>\n      <td>Diabetes Mellitus Typ 2 mit diabetischer polyn...</td>\n      <td>None</td>\n      <td>-1</td>\n      <td>Keine Angabe</td>\n    </tr>\n    <tr>\n      <th>128245</th>\n      <td>128246</td>\n      <td>21016</td>\n      <td>2013-05-23 00:00:00</td>\n      <td>NaT</td>\n      <td>akute auf  chronische Niereninsuffizienz unter...</td>\n      <td>None</td>\n      <td>2</td>\n      <td>Gesichert</td>\n    </tr>\n    <tr>\n      <th>128798</th>\n      <td>128799</td>\n      <td>21220</td>\n      <td>2013-06-24 00:00:00</td>\n      <td>NaT</td>\n      <td>diabetes mellitus</td>\n      <td>None</td>\n      <td>-1</td>\n      <td>Keine Angabe</td>\n    </tr>\n    <tr>\n      <th>128951</th>\n      <td>128952</td>\n      <td>21258</td>\n      <td>2013-07-02 00:00:00</td>\n      <td>NaT</td>\n      <td>Chronische Niereninsuffizienz Stadium III nach...</td>\n      <td>None</td>\n      <td>2</td>\n      <td>Gesichert</td>\n    </tr>\n    <tr>\n      <th>129032</th>\n      <td>129033</td>\n      <td>9665</td>\n      <td>2013-07-04 00:00:00</td>\n      <td>NaT</td>\n      <td>diabetische Neuropathie</td>\n      <td>None</td>\n      <td>-1</td>\n      <td>Keine Angabe</td>\n    </tr>\n  </tbody>\n</table>\n<p>556 rows × 8 columns</p>\n</div>"
     },
     "execution_count": 29,
     "metadata": {},
     "output_type": "execute_result"
    }
   ],
   "source": [
    "diagnoses = pd.read_sql_query('SELECT * FROM diagnosen', connection)\n",
    "diagnoses.columns = ['id', 'klientid','giltab','giltbis','bezeichnung','code','status','statusname']\n",
    "a = diagnoses.bezeichnung.unique()\n",
    "diabetes = []\n",
    "for dia in list(a):\n",
    "    try:\n",
    "        if \"diab\" in dia:\n",
    "            diabetes.append(dia)\n",
    "    except:\n",
    "        continue\n",
    "diab_diagnoses = diagnoses[diagnoses.bezeichnung.isin(diabetes)]\n",
    "klienten3 = list(diab_diagnoses.klientid.unique())\n",
    "diab_diagnoses"
   ],
   "metadata": {
    "collapsed": false,
    "pycharm": {
     "name": "#%%\n"
    }
   }
  },
  {
   "cell_type": "code",
   "execution_count": 30,
   "outputs": [],
   "source": [
    "vital3 = pd.read_sql_query('SELECT * FROM vitalwerte', connection)\n",
    "vital3.columns = ['id', 'klientid','datum','bezeichnung','wert','einheit','wurdeunterschritten','wurdeueberschritten']\n",
    "vital3 = vital3[vital3.klientid.isin(klienten3)]\n",
    "vital3[\"klientid2\"] = vital3[\"klientid\"]*100 +3\n",
    "klienten23 = list(vital3.klientid2.unique())"
   ],
   "metadata": {
    "collapsed": false,
    "pycharm": {
     "name": "#%%\n"
    }
   }
  },
  {
   "cell_type": "code",
   "execution_count": 31,
   "outputs": [],
   "source": [
    "cursor.close()\n",
    "connection.close()"
   ],
   "metadata": {
    "collapsed": false,
    "pycharm": {
     "name": "#%%\n"
    }
   }
  },
  {
   "cell_type": "code",
   "execution_count": 34,
   "outputs": [
    {
     "data": {
      "text/plain": "(205, 1356, 330)"
     },
     "execution_count": 34,
     "metadata": {},
     "output_type": "execute_result"
    }
   ],
   "source": [
    "len(klienten21), len(klienten22), len(klienten23)"
   ],
   "metadata": {
    "collapsed": false,
    "pycharm": {
     "name": "#%%\n"
    }
   }
  },
  {
   "cell_type": "code",
   "execution_count": 35,
   "outputs": [
    {
     "data": {
      "text/plain": "1891"
     },
     "execution_count": 35,
     "metadata": {},
     "output_type": "execute_result"
    }
   ],
   "source": [
    "allklienten = klienten21 + klienten22 + klienten23\n",
    "len(allklienten)\n",
    "#1891 Patienten mit Diabeteserkrankung"
   ],
   "metadata": {
    "collapsed": false,
    "pycharm": {
     "name": "#%%\n"
    }
   }
  },
  {
   "cell_type": "code",
   "execution_count": 63,
   "outputs": [
    {
     "data": {
      "text/plain": "1380"
     },
     "execution_count": 63,
     "metadata": {},
     "output_type": "execute_result"
    }
   ],
   "source": [
    "vital = pd.concat([vital1, vital2, vital3], ignore_index=True)\n",
    "vital_bz = vital[vital.bezeichnung == 'Blutzucker']\n",
    "bz_klienten = list(vital_bz.klientid2.unique())\n",
    "len(bz_klienten)\n",
    "#1380 Patienten mit Blutzucker als Vitalparameter"
   ],
   "metadata": {
    "collapsed": false,
    "pycharm": {
     "name": "#%%\n"
    }
   }
  },
  {
   "cell_type": "code",
   "execution_count": null,
   "outputs": [],
   "source": [
    "anzahl_je_klient = vital_bz.klientid2.value_counts()\n",
    "klienten_with_data = list(anzahl_je_klient[anzahl_je_klient > 100].index)\n",
    "len(klienten_with_data)\n",
    "\n",
    "#616 Patienten mit mindestens 100 Messungen"
   ],
   "metadata": {
    "collapsed": false,
    "pycharm": {
     "name": "#%%\n"
    }
   }
  },
  {
   "cell_type": "code",
   "execution_count": 61,
   "outputs": [
    {
     "data": {
      "text/plain": "1323503    8963\n593401     8889\n1758003    8702\n196902     8680\n982901     8340\n           ... \n643802      102\n4742402     102\n1568201     102\n6027702     101\n1043501     101\nName: klientid2, Length: 616, dtype: int64"
     },
     "execution_count": 61,
     "metadata": {},
     "output_type": "execute_result"
    },
    {
     "data": {
      "text/plain": "<Figure size 432x288 with 1 Axes>",
      "image/png": "[encoded data removed]"
     },
     "metadata": {
      "needs_background": "light"
     },
     "output_type": "display_data"
    }
   ],
   "source": [
    "vital_bz2 = vital_bz[vital_bz.klientid2.isin(klienten_with_data)]\n",
    "anzahl = vital_bz2.klientid2.value_counts()\n",
    "anzahl.hist(cumulative=False, bins = int(np.sqrt(len(anzahl))*2))\n",
    "anzahl"
   ],
   "metadata": {
    "collapsed": false,
    "pycharm": {
     "name": "#%%\n"
    }
   }
  },
  {
   "cell_type": "code",
   "execution_count": 60,
   "outputs": [
    {
     "data": {
      "text/plain": "<Figure size 432x288 with 1 Axes>",
      "image/png": "[encoded data removed]"
     },
     "metadata": {
      "needs_background": "light"
     },
     "output_type": "display_data"
    }
   ],
   "source": [
    "\n",
    "import scipy.stats as stats\n",
    "\n",
    "series = anzahl_je_klient.to_numpy()\n",
    "positions = np.linspace(series.min(),series.max(),len(series))\n",
    "dichtefunktion = stats.gaussian_kde(series)\n",
    "plt.figure()\n",
    "plt.plot(positions,dichtefunktion(positions))\n",
    "plt.show()"
   ],
   "metadata": {
    "collapsed": false,
    "pycharm": {
     "name": "#%%\n"
    }
   }
  },
  {
   "cell_type": "code",
   "execution_count": 69,
   "outputs": [
    {
     "data": {
      "text/plain": "Timestamp('2006-02-14 08:39:00')"
     },
     "execution_count": 69,
     "metadata": {},
     "output_type": "execute_result"
    }
   ],
   "source": [],
   "metadata": {
    "collapsed": false,
    "pycharm": {
     "name": "#%%\n"
    }
   }
  },
  {
   "cell_type": "code",
   "execution_count": 72,
   "outputs": [],
   "source": [
    "d = {}\n",
    "for klient in klienten_with_data:\n",
    "    data = vital_bz2[vital_bz2.klientid2 == klient]\n",
    "    delta = data.datum.max() - data.datum.min()\n",
    "    f = len(data)\n",
    "    d[klient] = [delta, f]"
   ],
   "metadata": {
    "collapsed": false,
    "pycharm": {
     "name": "#%%\n"
    }
   }
  },
  {
   "cell_type": "code",
   "execution_count": 88,
   "outputs": [],
   "source": [
    "days = [x[0].days for x in d.values()]\n",
    "counts = [x[1] for x in d.values()]\n",
    "freq = [x[1]/x[0].days for x in d.values()] #Frequenz pro Trag"
   ],
   "metadata": {
    "collapsed": false,
    "pycharm": {
     "name": "#%%\n"
    }
   }
  },
  {
   "cell_type": "code",
   "execution_count": 98,
   "outputs": [
    {
     "data": {
      "text/plain": "<Figure size 432x288 with 1 Axes>",
      "image/png": "[encoded data removed]"
     },
     "metadata": {
      "needs_background": "light"
     },
     "output_type": "display_data"
    }
   ],
   "source": [
    "plt.figure()\n",
    "series = np.array(days)\n",
    "positions = np.linspace(series.min(),series.max(),len(series))\n",
    "dichtefunktion = stats.gaussian_kde(series)\n",
    "\n",
    "plt.plot(positions,dichtefunktion(positions), label=\"days\")\n",
    "\n",
    "series = np.array(counts)\n",
    "positions = np.linspace(series.min(),series.max(),len(series))\n",
    "dichtefunktion = stats.gaussian_kde(series)\n",
    "\n",
    "plt.plot(positions,dichtefunktion(positions), label=\"measures\")\n",
    "\n",
    "plt.legend()\n",
    "plt.show()"
   ],
   "metadata": {
    "collapsed": false,
    "pycharm": {
     "name": "#%%\n"
    }
   }
  },
  {
   "cell_type": "code",
   "execution_count": 101,
   "outputs": [
    {
     "data": {
      "text/plain": "<Figure size 432x288 with 1 Axes>",
      "image/png": "[encoded data removed]"
     },
     "metadata": {
      "needs_background": "light"
     },
     "output_type": "display_data"
    }
   ],
   "source": [
    "plt.figure()\n",
    "series = np.array(freq)\n",
    "positions = np.linspace(series.min(),series.max(),len(series))\n",
    "dichtefunktion = stats.gaussian_kde(series)\n",
    "\n",
    "plt.plot(positions,dichtefunktion(positions), label=\"frequencies\")\n",
    "\n",
    "plt.legend()\n",
    "plt.show()"
   ],
   "metadata": {
    "collapsed": false,
    "pycharm": {
     "name": "#%%\n"
    }
   }
  },
  {
   "cell_type": "code",
   "execution_count": null,
   "outputs": [],
   "source": [],
   "metadata": {
    "collapsed": false,
    "pycharm": {
     "name": "#%%\n"
    }
   }
  }
 ],
 "metadata": {
  "kernelspec": {
   "display_name": "Python 3",
   "language": "python",
   "name": "python3"
  },
  "language_info": {
   "codemirror_mode": {
    "name": "ipython",
    "version": 2
   },
   "file_extension": ".py",
   "mimetype": "text/x-python",
   "name": "python",
   "nbconvert_exporter": "python",
   "pygments_lexer": "ipython2",
   "version": "2.7.6"
  }
 },
 "nbformat": 4,
 "nbformat_minor": 0
}