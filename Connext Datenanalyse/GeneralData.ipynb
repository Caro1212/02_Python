{
 "cells": [
  {
   "cell_type": "code",
   "execution_count": 8,
   "metadata": {
    "collapsed": true
   },
   "outputs": [
    {
     "name": "stderr",
     "output_type": "stream",
     "text": [
      "<ipython-input-8-63703d0abdbc>:34: SettingWithCopyWarning: \n",
      "A value is trying to be set on a copy of a slice from a DataFrame.\n",
      "Try using .loc[row_indexer,col_indexer] = value instead\n",
      "\n",
      "See the caveats in the documentation: https://pandas.pydata.org/pandas-docs/stable/user_guide/indexing.html#returning-a-view-versus-a-copy\n",
      "  diab_diagnoses[\"klientid2\"] = diab_diagnoses[\"klientid\"]*100 +1\n"
     ]
    }
   ],
   "source": [
    "import mysql.connector\n",
    "import pandas as pd\n",
    "import numpy as np\n",
    "import pyodbc\n",
    "\n",
    "\n",
    "\n",
    "#Connection to the Database\n",
    "mydb = mysql.connector.connect(\n",
    "    host=\"127.0.0.1\",\n",
    "    user=\"root\",\n",
    "    password=\"FH_Master_2122\",\n",
    "    database=\"forschung\"\n",
    ")\n",
    "\n",
    "\n",
    "#Diagnosen - wähle diejenigen Klienten aus, die eine in Verbindung mit Diabetes stehende Krankheit haben\n",
    "mycursor = mydb.cursor()\n",
    "mycursor.execute(\"SELECT * FROM diagnosen\")\n",
    "myresult = mycursor.fetchall()\n",
    "\n",
    "diagnoses = pd.DataFrame(myresult, columns = ['id', 'klientid','giltab','giltbis','bezeichnung','code','status','statusname'])\n",
    "\n",
    "a = diagnoses.bezeichnung.unique()\n",
    "diabetes = []\n",
    "for dia in list(a):\n",
    "    try:\n",
    "        if \"diab\" in dia:\n",
    "            diabetes.append(dia)\n",
    "    except:\n",
    "        continue\n",
    "diab_diagnoses = diagnoses[diagnoses.bezeichnung.isin(diabetes)]\n",
    "klienten = list(diab_diagnoses.klientid.unique())\n",
    "diab_diagnoses[\"klientid2\"] = diab_diagnoses[\"klientid\"]*100 +1"
   ]
  },
  {
   "cell_type": "code",
   "execution_count": 10,
   "outputs": [
    {
     "name": "stderr",
     "output_type": "stream",
     "text": [
      "<ipython-input-10-8a9ceaf431ea>:20: SettingWithCopyWarning: \n",
      "A value is trying to be set on a copy of a slice from a DataFrame.\n",
      "Try using .loc[row_indexer,col_indexer] = value instead\n",
      "\n",
      "See the caveats in the documentation: https://pandas.pydata.org/pandas-docs/stable/user_guide/indexing.html#returning-a-view-versus-a-copy\n",
      "  diab_diagnoses2[\"klientid2\"] = diab_diagnoses2[\"klientid\"]*100 +2\n"
     ]
    }
   ],
   "source": [
    "connection = pyodbc.connect('DRIVER={ODBC Driver 17 for SQL Server};'\n",
    "                            'SERVER=pc-caro;DATABASE=Forschung02;'\n",
    "                            'Trusted_Connection=yes;')\n",
    "cursor=connection.cursor()\n",
    "\n",
    "sql_query = \"SELECT * FROM diagnosen\"\n",
    "\n",
    "diagnoses2 = pd.read_sql_query(sql_query, connection)\n",
    "diagnoses2.columns = ['id', 'klientid','giltab','giltbis','bezeichnung','code','status','statusname']\n",
    "a = diagnoses2.bezeichnung.unique()\n",
    "diabetes = []\n",
    "for dia in list(a):\n",
    "    try:\n",
    "        if \"diab\" in dia:\n",
    "            diabetes.append(dia)\n",
    "    except:\n",
    "        continue\n",
    "diab_diagnoses2 = diagnoses2[diagnoses2.bezeichnung.isin(diabetes)]\n",
    "klienten2 = list(diab_diagnoses2.klientid.unique())\n",
    "diab_diagnoses2[\"klientid2\"] = diab_diagnoses2[\"klientid\"]*100 +2"
   ],
   "metadata": {
    "collapsed": false,
    "pycharm": {
     "name": "#%%\n"
    }
   }
  },
  {
   "cell_type": "code",
   "execution_count": 11,
   "outputs": [
    {
     "name": "stderr",
     "output_type": "stream",
     "text": [
      "<ipython-input-11-4cb1720c1a5a>:20: SettingWithCopyWarning: \n",
      "A value is trying to be set on a copy of a slice from a DataFrame.\n",
      "Try using .loc[row_indexer,col_indexer] = value instead\n",
      "\n",
      "See the caveats in the documentation: https://pandas.pydata.org/pandas-docs/stable/user_guide/indexing.html#returning-a-view-versus-a-copy\n",
      "  diab_diagnoses3[\"klientid2\"] = diab_diagnoses3[\"klientid\"]*100 +3\n"
     ]
    }
   ],
   "source": [
    "connection = pyodbc.connect('DRIVER={ODBC Driver 17 for SQL Server};'\n",
    "                            'SERVER=pc-caro;DATABASE=Forschung03;'\n",
    "                            'Trusted_Connection=yes;')\n",
    "cursor=connection.cursor()\n",
    "\n",
    "sql_query = \"SELECT * FROM diagnosen\"\n",
    "\n",
    "diagnoses3 = pd.read_sql_query(sql_query, connection)\n",
    "diagnoses3.columns = ['id', 'klientid','giltab','giltbis','bezeichnung','code','status','statusname']\n",
    "a = diagnoses3.bezeichnung.unique()\n",
    "diabetes = []\n",
    "for dia in list(a):\n",
    "    try:\n",
    "        if \"diab\" in dia:\n",
    "            diabetes.append(dia)\n",
    "    except:\n",
    "        continue\n",
    "diab_diagnoses3 = diagnoses3[diagnoses3.bezeichnung.isin(diabetes)]\n",
    "klienten3 = list(diab_diagnoses3.klientid.unique())\n",
    "diab_diagnoses3[\"klientid2\"] = diab_diagnoses3[\"klientid\"]*100 +3"
   ],
   "metadata": {
    "collapsed": false,
    "pycharm": {
     "name": "#%%\n"
    }
   }
  },
  {
   "cell_type": "code",
   "execution_count": 12,
   "outputs": [
    {
     "data": {
      "text/plain": "2135"
     },
     "execution_count": 12,
     "metadata": {},
     "output_type": "execute_result"
    }
   ],
   "source": [
    "len(klienten + klienten2 + klienten3)"
   ],
   "metadata": {
    "collapsed": false,
    "pycharm": {
     "name": "#%%\n"
    }
   }
  },
  {
   "cell_type": "code",
   "execution_count": null,
   "outputs": [],
   "source": [],
   "metadata": {
    "collapsed": false,
    "pycharm": {
     "name": "#%%\n"
    }
   }
  }
 ],
 "metadata": {
  "kernelspec": {
   "display_name": "Python 3",
   "language": "python",
   "name": "python3"
  },
  "language_info": {
   "codemirror_mode": {
    "name": "ipython",
    "version": 2
   },
   "file_extension": ".py",
   "mimetype": "text/x-python",
   "name": "python",
   "nbconvert_exporter": "python",
   "pygments_lexer": "ipython2",
   "version": "2.7.6"
  }
 },
 "nbformat": 4,
 "nbformat_minor": 0
}