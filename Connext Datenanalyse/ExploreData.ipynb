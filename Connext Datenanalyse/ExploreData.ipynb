{
 "cells": [
  {
   "cell_type": "code",
   "execution_count": 101,
   "metadata": {
    "collapsed": true
   },
   "outputs": [],
   "source": [
    "import matplotlib.pyplot as plt\n",
    "import numpy as np\n",
    "import mysql.connector\n",
    "\n",
    "import pandas as pd\n",
    "\n",
    "mydb = mysql.connector.connect(\n",
    "    host=\"127.0.0.1\",\n",
    "    user=\"root\",\n",
    "    password=\"FH_Master_2122\",\n",
    "    database=\"forschung\"\n",
    ")\n",
    "\n",
    "mycursor = mydb.cursor()\n"
   ]
  },
  {
   "cell_type": "code",
   "execution_count": 104,
   "metadata": {
    "pycharm": {
     "name": "#%%\n"
    }
   },
   "outputs": [],
   "source": [
    "mycursor = mydb.cursor()\n",
    "\n",
    "mycursor.execute(\"SELECT * FROM diagnosen\")\n",
    "myresult = mycursor.fetchall()\n",
    "\n",
    "df = pd.DataFrame(myresult, columns = ['id', 'klientid','giltab','giltbis','bezeichnung','code','status','statusname'])\n",
    "diagnoses = df\n",
    "a = df.bezeichnung.unique()\n",
    "diabetes = []\n",
    "for dia in list(a):\n",
    "    try:\n",
    "        if \"diab\" in dia:\n",
    "            diabetes.append(dia)\n",
    "    except:\n",
    "        continue\n",
    "\n",
    "#diabetes = ['Diabetes', 'Diab. mellitus', 'Diabetes mellitus', 'Diabetes mellitus Typ 2', 'Diabetes mellitus Typ II']\n",
    "df_filter = df[df.bezeichnung.isin(diabetes)]\n",
    "# 245 Klienten haben eine Krankheit mit Diabetes, es gibt 304 Diagnosen\n",
    "klienten = list(df_filter.klientid.unique())"
   ]
  },
  {
   "cell_type": "code",
   "execution_count": 106,
   "outputs": [
    {
     "data": {
      "text/plain": "          id  klientid     giltab giltbis  \\\n0          1       718 2007-01-10     NaT   \n1          2       718 2007-01-10     NaT   \n2          3      2681 2006-04-01     NaT   \n3          4      2681 2006-04-01     NaT   \n4          5       420 1997-05-02     NaT   \n...      ...       ...        ...     ...   \n69867  69868     23488 2021-11-10     NaT   \n69868  69869     23488 2021-11-10     NaT   \n69869  69870     23488 2021-11-10     NaT   \n69870  69871     21910 2021-11-10     NaT   \n69871  69872     21910 2021-11-10     NaT   \n\n                                             bezeichnung  code  status  \\\n0                  Hyertensive Krise bei art. Hypertonus  None      -1   \n1                       Rezidiv Vertigo mit Sturzneigung  None      -1   \n2                                      cerebeläre Ataxie  None      -1   \n3                                            Osteoporose  None      -1   \n4                                          senile Demenz  None      -1   \n...                                                  ...   ...     ...   \n69867                           akute Niereninsuffizienz  None      -1   \n69868                 Subilieus bei Koprostase (10/2021)  None      -1   \n69869     COVID19-Infektion (nachgewiesen am 13.10.2021)  None      -1   \n69870  Pertrochantäre Femurfraktur links mit laterale...  None      -1   \n69871       Transfusionsbedürftigte postoperative Anämie  None      -1   \n\n         statusname  \n0      Keine Angabe  \n1      Keine Angabe  \n2      Keine Angabe  \n3      Keine Angabe  \n4      Keine Angabe  \n...             ...  \n69867  Keine Angabe  \n69868  Keine Angabe  \n69869  Keine Angabe  \n69870  Keine Angabe  \n69871  Keine Angabe  \n\n[69872 rows x 8 columns]",
      "text/html": "<div>\n<style scoped>\n    .dataframe tbody tr th:only-of-type {\n        vertical-align: middle;\n    }\n\n    .dataframe tbody tr th {\n        vertical-align: top;\n    }\n\n    .dataframe thead th {\n        text-align: right;\n    }\n</style>\n<table border=\"1\" class=\"dataframe\">\n  <thead>\n    <tr style=\"text-align: right;\">\n      <th></th>\n      <th>id</th>\n      <th>klientid</th>\n      <th>giltab</th>\n      <th>giltbis</th>\n      <th>bezeichnung</th>\n      <th>code</th>\n      <th>status</th>\n      <th>statusname</th>\n    </tr>\n  </thead>\n  <tbody>\n    <tr>\n      <th>0</th>\n      <td>1</td>\n      <td>718</td>\n      <td>2007-01-10</td>\n      <td>NaT</td>\n      <td>Hyertensive Krise bei art. Hypertonus</td>\n      <td>None</td>\n      <td>-1</td>\n      <td>Keine Angabe</td>\n    </tr>\n    <tr>\n      <th>1</th>\n      <td>2</td>\n      <td>718</td>\n      <td>2007-01-10</td>\n      <td>NaT</td>\n      <td>Rezidiv Vertigo mit Sturzneigung</td>\n      <td>None</td>\n      <td>-1</td>\n      <td>Keine Angabe</td>\n    </tr>\n    <tr>\n      <th>2</th>\n      <td>3</td>\n      <td>2681</td>\n      <td>2006-04-01</td>\n      <td>NaT</td>\n      <td>cerebeläre Ataxie</td>\n      <td>None</td>\n      <td>-1</td>\n      <td>Keine Angabe</td>\n    </tr>\n    <tr>\n      <th>3</th>\n      <td>4</td>\n      <td>2681</td>\n      <td>2006-04-01</td>\n      <td>NaT</td>\n      <td>Osteoporose</td>\n      <td>None</td>\n      <td>-1</td>\n      <td>Keine Angabe</td>\n    </tr>\n    <tr>\n      <th>4</th>\n      <td>5</td>\n      <td>420</td>\n      <td>1997-05-02</td>\n      <td>NaT</td>\n      <td>senile Demenz</td>\n      <td>None</td>\n      <td>-1</td>\n      <td>Keine Angabe</td>\n    </tr>\n    <tr>\n      <th>...</th>\n      <td>...</td>\n      <td>...</td>\n      <td>...</td>\n      <td>...</td>\n      <td>...</td>\n      <td>...</td>\n      <td>...</td>\n      <td>...</td>\n    </tr>\n    <tr>\n      <th>69867</th>\n      <td>69868</td>\n      <td>23488</td>\n      <td>2021-11-10</td>\n      <td>NaT</td>\n      <td>akute Niereninsuffizienz</td>\n      <td>None</td>\n      <td>-1</td>\n      <td>Keine Angabe</td>\n    </tr>\n    <tr>\n      <th>69868</th>\n      <td>69869</td>\n      <td>23488</td>\n      <td>2021-11-10</td>\n      <td>NaT</td>\n      <td>Subilieus bei Koprostase (10/2021)</td>\n      <td>None</td>\n      <td>-1</td>\n      <td>Keine Angabe</td>\n    </tr>\n    <tr>\n      <th>69869</th>\n      <td>69870</td>\n      <td>23488</td>\n      <td>2021-11-10</td>\n      <td>NaT</td>\n      <td>COVID19-Infektion (nachgewiesen am 13.10.2021)</td>\n      <td>None</td>\n      <td>-1</td>\n      <td>Keine Angabe</td>\n    </tr>\n    <tr>\n      <th>69870</th>\n      <td>69871</td>\n      <td>21910</td>\n      <td>2021-11-10</td>\n      <td>NaT</td>\n      <td>Pertrochantäre Femurfraktur links mit laterale...</td>\n      <td>None</td>\n      <td>-1</td>\n      <td>Keine Angabe</td>\n    </tr>\n    <tr>\n      <th>69871</th>\n      <td>69872</td>\n      <td>21910</td>\n      <td>2021-11-10</td>\n      <td>NaT</td>\n      <td>Transfusionsbedürftigte postoperative Anämie</td>\n      <td>None</td>\n      <td>-1</td>\n      <td>Keine Angabe</td>\n    </tr>\n  </tbody>\n</table>\n<p>69872 rows × 8 columns</p>\n</div>"
     },
     "execution_count": 106,
     "metadata": {},
     "output_type": "execute_result"
    }
   ],
   "source": [
    "diagnoses"
   ],
   "metadata": {
    "collapsed": false,
    "pycharm": {
     "name": "#%%\n"
    }
   }
  },
  {
   "cell_type": "code",
   "execution_count": 107,
   "metadata": {
    "pycharm": {
     "name": "#%%\n"
    }
   },
   "outputs": [],
   "source": [
    "mycursor.execute(\"SELECT * FROM vitalwerte\")\n",
    "myresult = mycursor.fetchall()\n",
    "\n",
    "vp = pd.DataFrame(myresult, columns = ['id', 'klientid','datum','bezeichnung','wert','einheit','wurdeunterschritten','wurdeueberschritten'])"
   ]
  },
  {
   "cell_type": "code",
   "execution_count": 108,
   "metadata": {
    "pycharm": {
     "name": "#%%\n"
    }
   },
   "outputs": [],
   "source": [
    "vp_filter = vp[vp.klientid.isin(klienten)]\n",
    "len(vp_filter.klientid.unique())\n",
    "klienten = list(vp_filter.klientid.unique())"
   ]
  },
  {
   "cell_type": "code",
   "execution_count": 109,
   "metadata": {
    "pycharm": {
     "name": "#%%\n"
    }
   },
   "outputs": [],
   "source": [
    "mycursor = mydb.cursor()\n",
    "\n",
    "mycursor.execute(\"SELECT * FROM medikamentgaben\")\n",
    "myresult = mycursor.fetchall()\n",
    "\n",
    "medi = pd.DataFrame(myresult, columns=['id','klientid','tag','datum','bezeichnung','pzn','menge','einheit','atccode'])"
   ]
  },
  {
   "cell_type": "code",
   "execution_count": 110,
   "metadata": {
    "pycharm": {
     "name": "#%%\n"
    }
   },
   "outputs": [],
   "source": [
    "mycursor.execute(\"SELECT * FROM medikamentinhaltsstoffe\")\n",
    "myresult = mycursor.fetchall()\n",
    "inhalt = pd.DataFrame(myresult, columns = ['id','pzn','bezeichnung','menge','einheit'])"
   ]
  },
  {
   "cell_type": "code",
   "execution_count": 111,
   "metadata": {
    "pycharm": {
     "name": "#%%\n"
    }
   },
   "outputs": [
    {
     "data": {
      "text/plain": "74"
     },
     "execution_count": 111,
     "metadata": {},
     "output_type": "execute_result"
    }
   ],
   "source": [
    "# Blutzucker 175 Personen\n",
    "# 140 Personen mit mehr als 12 Blutzuckerwerten\n",
    "# 74 Personen mit mehr als 100 Blutzuckerwerten\n",
    "vp_blutzucker = vp_filter[vp_filter.bezeichnung == 'Blutzucker']\n",
    "anzahl = vp_blutzucker.klientid.value_counts()\n",
    "klienten = list(anzahl[anzahl > 100].index)\n",
    "len(klienten)"
   ]
  },
  {
   "cell_type": "code",
   "execution_count": 112,
   "outputs": [],
   "source": [
    "my_diagnoses = diagnoses[diagnoses[\"klientid\"].isin(klienten)]"
   ],
   "metadata": {
    "collapsed": false,
    "pycharm": {
     "name": "#%%\n"
    }
   }
  },
  {
   "cell_type": "code",
   "execution_count": 113,
   "outputs": [],
   "source": [
    "vp_filter_bz = vp_blutzucker[vp_blutzucker.klientid.isin(klienten)]"
   ],
   "metadata": {
    "collapsed": false,
    "pycharm": {
     "name": "#%%\n"
    }
   }
  },
  {
   "cell_type": "code",
   "execution_count": 114,
   "metadata": {
    "pycharm": {
     "name": "#%%\n"
    }
   },
   "outputs": [
    {
     "data": {
      "text/plain": "{5934: [Timestamp('2009-05-04 07:30:00'),\n  Timestamp('2020-10-20 06:30:00'),\n  8889],\n 9829: [Timestamp('2012-11-30 17:26:00'),\n  Timestamp('2019-09-27 06:30:00'),\n  8340],\n 12079: [Timestamp('2014-08-06 22:00:00'),\n  Timestamp('2021-11-10 22:00:00'),\n  7924],\n 10532: [Timestamp('2013-04-05 17:46:00'),\n  Timestamp('2021-11-02 18:00:00'),\n  7508],\n 8711: [Timestamp('2011-08-23 17:29:00'),\n  Timestamp('2019-01-26 18:00:00'),\n  7408],\n 4197: [Timestamp('2007-11-12 12:20:00'),\n  Timestamp('2013-11-05 06:30:00'),\n  6878],\n 13277: [Timestamp('2016-07-17 11:12:00'),\n  Timestamp('2021-06-17 18:00:00'),\n  5250],\n 7672: [Timestamp('2010-09-24 17:30:00'),\n  Timestamp('2017-06-03 13:37:00'),\n  5203],\n 10773: [Timestamp('2013-06-06 18:00:00'),\n  Timestamp('2018-08-01 06:30:00'),\n  5058],\n 12982: [Timestamp('2015-05-09 12:38:00'),\n  Timestamp('2020-11-24 19:00:00'),\n  4793],\n 14242: [Timestamp('2016-04-05 06:30:00'),\n  Timestamp('2021-11-11 06:30:00'),\n  4154],\n 19578: [Timestamp('2019-06-14 18:00:00'),\n  Timestamp('2021-11-11 03:30:00'),\n  4097],\n 17353: [Timestamp('2018-03-04 12:00:00'),\n  Timestamp('2020-12-10 21:00:00'),\n  3107],\n 17485: [Timestamp('2018-03-27 12:00:00'),\n  Timestamp('2020-11-27 18:00:00'),\n  2561],\n 10362: [Timestamp('2013-03-01 08:00:00'),\n  Timestamp('2016-10-14 17:15:00'),\n  2511],\n 14472: [Timestamp('2016-06-02 19:51:00'),\n  Timestamp('2020-03-22 11:18:00'),\n  2499],\n 13206: [Timestamp('2015-07-04 11:32:00'),\n  Timestamp('2021-03-04 06:30:00'),\n  2330],\n 21073: [Timestamp('2020-04-17 14:20:00'),\n  Timestamp('2021-11-11 06:30:00'),\n  2256],\n 10788: [Timestamp('2013-06-11 17:23:00'),\n  Timestamp('2016-07-27 02:30:00'),\n  1865],\n 15055: [Timestamp('2016-10-24 11:30:00'),\n  Timestamp('2018-07-02 12:00:00'),\n  1811],\n 13973: [Timestamp('2016-02-10 18:00:00'),\n  Timestamp('2019-07-08 18:00:00'),\n  1807],\n 16721: [Timestamp('2017-10-31 11:25:00'),\n  Timestamp('2021-04-11 06:30:00'),\n  1721],\n 8274: [Timestamp('2011-04-12 17:15:00'),\n  Timestamp('2015-05-30 08:19:00'),\n  1705],\n 14393: [Timestamp('2016-05-19 21:45:00'),\n  Timestamp('2021-05-26 12:00:00'),\n  1691],\n 16328: [Timestamp('2017-10-27 08:00:00'),\n  Timestamp('2020-08-23 06:30:00'),\n  1647],\n 10227: [Timestamp('2013-01-06 17:15:00'),\n  Timestamp('2015-05-18 09:05:00'),\n  1634],\n 14742: [Timestamp('2016-08-04 18:58:00'),\n  Timestamp('2019-05-08 12:00:00'),\n  1622],\n 10554: [Timestamp('2013-04-13 08:00:00'),\n  Timestamp('2018-10-18 20:40:00'),\n  1538],\n 13114: [Timestamp('2015-10-02 12:17:00'),\n  Timestamp('2020-12-15 03:35:00'),\n  1535],\n 13611: [Timestamp('2015-10-08 15:54:00'),\n  Timestamp('2017-03-14 19:15:00'),\n  1464],\n 9370: [Timestamp('2012-06-08 08:00:00'),\n  Timestamp('2021-11-10 18:00:00'),\n  1179],\n 15514: [Timestamp('2017-02-10 12:43:00'),\n  Timestamp('2019-01-08 17:15:00'),\n  1061],\n 16525: [Timestamp('2017-09-12 10:54:00'),\n  Timestamp('2019-06-28 23:05:00'),\n  1000],\n 19007: [Timestamp('2019-02-25 11:23:00'),\n  Timestamp('2021-06-23 09:50:00'),\n  978],\n 7957: [Timestamp('2011-01-09 08:20:00'),\n  Timestamp('2014-10-24 11:40:00'),\n  962],\n 12756: [Timestamp('2015-02-17 17:10:00'),\n  Timestamp('2015-12-24 19:56:00'),\n  953],\n 3181: [Timestamp('2007-10-01 08:00:00'),\n  Timestamp('2014-08-21 06:30:00'),\n  908],\n 9622: [Timestamp('2012-06-11 19:28:00'),\n  Timestamp('2017-02-01 06:30:00'),\n  709],\n 21286: [Timestamp('2020-06-04 22:00:00'),\n  Timestamp('2021-11-10 21:00:00'),\n  670],\n 13730: [Timestamp('2015-11-11 12:28:00'),\n  Timestamp('2016-09-25 21:00:00'),\n  635],\n 15821: [Timestamp('2017-04-20 18:00:00'),\n  Timestamp('2017-11-12 18:00:00'),\n  612],\n 17365: [Timestamp('2018-03-02 06:30:00'),\n  Timestamp('2019-09-12 08:06:00'),\n  506],\n 22239: [Timestamp('2021-02-19 18:00:00'),\n  Timestamp('2021-09-17 07:57:00'),\n  501],\n 22906: [Timestamp('2021-07-13 13:10:00'),\n  Timestamp('2021-11-10 22:00:00'),\n  452],\n 22415: [Timestamp('2021-04-01 18:00:00'),\n  Timestamp('2021-08-26 21:00:00'),\n  449],\n 15129: [Timestamp('2016-11-04 12:00:00'),\n  Timestamp('2019-06-25 06:30:00'),\n  375],\n 21650: [Timestamp('2020-09-03 23:24:00'),\n  Timestamp('2021-11-10 21:00:00'),\n  354],\n 8327: [Timestamp('2011-04-27 18:00:00'),\n  Timestamp('2015-04-22 06:30:00'),\n  349],\n 11477: [Timestamp('2014-01-24 17:38:00'),\n  Timestamp('2017-04-19 10:51:00'),\n  338],\n 15757: [Timestamp('2018-01-25 18:00:00'),\n  Timestamp('2018-05-31 12:00:00'),\n  321],\n 16060: [Timestamp('2017-06-23 12:00:00'),\n  Timestamp('2020-01-14 12:00:00'),\n  318],\n 22145: [Timestamp('2021-01-21 12:50:00'),\n  Timestamp('2021-03-31 08:33:00'),\n  310],\n 18387: [Timestamp('2018-09-20 18:37:00'),\n  Timestamp('2019-02-16 07:30:00'),\n  298],\n 19459: [Timestamp('2019-07-30 08:20:00'),\n  Timestamp('2021-07-15 20:42:00'),\n  293],\n 9994: [Timestamp('2012-10-20 12:41:00'),\n  Timestamp('2019-10-08 10:05:00'),\n  272],\n 10542: [Timestamp('2013-04-11 12:00:00'),\n  Timestamp('2014-10-25 21:00:00'),\n  270],\n 21027: [Timestamp('2020-04-08 07:18:00'),\n  Timestamp('2020-08-10 13:04:00'),\n  263],\n 14668: [Timestamp('2016-08-15 08:00:00'),\n  Timestamp('2020-04-14 17:20:00'),\n  247],\n 6186: [Timestamp('2012-11-23 03:27:00'),\n  Timestamp('2013-12-01 07:45:00'),\n  244],\n 19679: [Timestamp('2019-07-08 14:06:00'),\n  Timestamp('2020-02-10 08:00:00'),\n  224],\n 9569: [Timestamp('2012-05-23 18:00:00'),\n  Timestamp('2014-06-30 18:00:00'),\n  195],\n 19184: [Timestamp('2019-03-28 10:26:00'),\n  Timestamp('2019-07-16 20:07:00'),\n  175],\n 3734: [Timestamp('2007-08-20 09:57:00'),\n  Timestamp('2014-09-15 16:30:00'),\n  155],\n 19046: [Timestamp('2019-04-04 18:00:00'),\n  Timestamp('2019-06-02 18:00:00'),\n  140],\n 15653: [Timestamp('2017-03-09 09:30:00'),\n  Timestamp('2017-05-27 06:30:00'),\n  140],\n 17619: [Timestamp('2018-04-26 10:08:00'),\n  Timestamp('2020-02-25 17:20:00'),\n  137],\n 13759: [Timestamp('2015-11-23 09:58:00'),\n  Timestamp('2016-11-30 07:24:00'),\n  135],\n 16731: [Timestamp('2017-11-02 20:22:00'),\n  Timestamp('2019-07-08 01:00:00'),\n  131],\n 10802: [Timestamp('2013-06-15 06:30:00'),\n  Timestamp('2013-07-09 12:00:00'),\n  129],\n 18220: [Timestamp('2018-08-21 18:00:00'),\n  Timestamp('2018-11-08 06:30:00'),\n  127],\n 20112: [Timestamp('2019-09-16 21:38:00'),\n  Timestamp('2019-10-14 07:30:00'),\n  111],\n 5509: [Timestamp('2011-05-12 09:30:00'),\n  Timestamp('2018-01-03 08:54:00'),\n  105],\n 15682: [Timestamp('2017-03-11 06:30:00'),\n  Timestamp('2017-04-13 21:14:00'),\n  102],\n 10435: [Timestamp('2013-03-09 08:00:00'),\n  Timestamp('2013-10-16 09:30:00'),\n  101]}"
     },
     "execution_count": 114,
     "metadata": {},
     "output_type": "execute_result"
    }
   ],
   "source": [
    "ergebnisse = {}\n",
    "for klient in klienten:\n",
    "    df = vp_filter_bz[vp_filter_bz.klientid == klient].sort_values('datum')\n",
    "    datum = list(df.datum)\n",
    "    beginn = datum[0]\n",
    "    ende = datum[-1]\n",
    "    anzahl = len(datum)\n",
    "    ergebnisse[klient] = [beginn, ende, anzahl]\n",
    "ergebnisse"
   ]
  },
  {
   "cell_type": "code",
   "execution_count": 115,
   "metadata": {
    "pycharm": {
     "name": "#%%\n"
    }
   },
   "outputs": [
    {
     "data": {
      "text/plain": "                   Anfang                Ende Anzahl_Messungen Zeitspanne\n5934  2009-05-04 07:30:00 2020-10-20 06:30:00             8889  4187 days\n9829  2012-11-30 17:26:00 2019-09-27 06:30:00             8340  2492 days\n12079 2014-08-06 22:00:00 2021-11-10 22:00:00             7924  2653 days\n10532 2013-04-05 17:46:00 2021-11-02 18:00:00             7508  3133 days\n8711  2011-08-23 17:29:00 2019-01-26 18:00:00             7408  2713 days\n...                   ...                 ...              ...        ...\n18220 2018-08-21 18:00:00 2018-11-08 06:30:00              127    79 days\n20112 2019-09-16 21:38:00 2019-10-14 07:30:00              111    27 days\n5509  2011-05-12 09:30:00 2018-01-03 08:54:00              105  2428 days\n15682 2017-03-11 06:30:00 2017-04-13 21:14:00              102    34 days\n10435 2013-03-09 08:00:00 2013-10-16 09:30:00              101   221 days\n\n[74 rows x 4 columns]",
      "text/html": "<div>\n<style scoped>\n    .dataframe tbody tr th:only-of-type {\n        vertical-align: middle;\n    }\n\n    .dataframe tbody tr th {\n        vertical-align: top;\n    }\n\n    .dataframe thead th {\n        text-align: right;\n    }\n</style>\n<table border=\"1\" class=\"dataframe\">\n  <thead>\n    <tr style=\"text-align: right;\">\n      <th></th>\n      <th>Anfang</th>\n      <th>Ende</th>\n      <th>Anzahl_Messungen</th>\n      <th>Zeitspanne</th>\n    </tr>\n  </thead>\n  <tbody>\n    <tr>\n      <th>5934</th>\n      <td>2009-05-04 07:30:00</td>\n      <td>2020-10-20 06:30:00</td>\n      <td>8889</td>\n      <td>4187 days</td>\n    </tr>\n    <tr>\n      <th>9829</th>\n      <td>2012-11-30 17:26:00</td>\n      <td>2019-09-27 06:30:00</td>\n      <td>8340</td>\n      <td>2492 days</td>\n    </tr>\n    <tr>\n      <th>12079</th>\n      <td>2014-08-06 22:00:00</td>\n      <td>2021-11-10 22:00:00</td>\n      <td>7924</td>\n      <td>2653 days</td>\n    </tr>\n    <tr>\n      <th>10532</th>\n      <td>2013-04-05 17:46:00</td>\n      <td>2021-11-02 18:00:00</td>\n      <td>7508</td>\n      <td>3133 days</td>\n    </tr>\n    <tr>\n      <th>8711</th>\n      <td>2011-08-23 17:29:00</td>\n      <td>2019-01-26 18:00:00</td>\n      <td>7408</td>\n      <td>2713 days</td>\n    </tr>\n    <tr>\n      <th>...</th>\n      <td>...</td>\n      <td>...</td>\n      <td>...</td>\n      <td>...</td>\n    </tr>\n    <tr>\n      <th>18220</th>\n      <td>2018-08-21 18:00:00</td>\n      <td>2018-11-08 06:30:00</td>\n      <td>127</td>\n      <td>79 days</td>\n    </tr>\n    <tr>\n      <th>20112</th>\n      <td>2019-09-16 21:38:00</td>\n      <td>2019-10-14 07:30:00</td>\n      <td>111</td>\n      <td>27 days</td>\n    </tr>\n    <tr>\n      <th>5509</th>\n      <td>2011-05-12 09:30:00</td>\n      <td>2018-01-03 08:54:00</td>\n      <td>105</td>\n      <td>2428 days</td>\n    </tr>\n    <tr>\n      <th>15682</th>\n      <td>2017-03-11 06:30:00</td>\n      <td>2017-04-13 21:14:00</td>\n      <td>102</td>\n      <td>34 days</td>\n    </tr>\n    <tr>\n      <th>10435</th>\n      <td>2013-03-09 08:00:00</td>\n      <td>2013-10-16 09:30:00</td>\n      <td>101</td>\n      <td>221 days</td>\n    </tr>\n  </tbody>\n</table>\n<p>74 rows × 4 columns</p>\n</div>"
     },
     "execution_count": 115,
     "metadata": {},
     "output_type": "execute_result"
    }
   ],
   "source": [
    "ergebnisse = pd.DataFrame(ergebnisse)\n",
    "ergebnisse = ergebnisse.transpose()\n",
    "ergebnisse.columns = [\"Anfang\",\"Ende\",\"Anzahl_Messungen\"]\n",
    "ergebnisse[\"Zeitspanne\"] = (ergebnisse.Ende - ergebnisse.Anfang).round('D')\n",
    "ergebnisse\n",
    "\n",
    "# hohe Standardabweichung, Mittelwert = 1129 Tage, Median = 907, Quartilsbox = 332 - 1823"
   ]
  },
  {
   "cell_type": "code",
   "execution_count": 116,
   "metadata": {
    "pycharm": {
     "name": "#%%\n"
    }
   },
   "outputs": [],
   "source": [
    "my_vp = vp_filter[vp_filter.klientid.isin(klienten)]\n",
    "my_medi = medi[medi.klientid.isin(klienten)]\n",
    "my_dia = my_diagnoses\n"
   ]
  },
  {
   "cell_type": "code",
   "execution_count": 117,
   "outputs": [
    {
     "name": "stderr",
     "output_type": "stream",
     "text": [
      "<ipython-input-117-9a984c4a286a>:5: SettingWithCopyWarning: \n",
      "A value is trying to be set on a copy of a slice from a DataFrame.\n",
      "Try using .loc[row_indexer,col_indexer] = value instead\n",
      "\n",
      "See the caveats in the documentation: https://pandas.pydata.org/pandas-docs/stable/user_guide/indexing.html#returning-a-view-versus-a-copy\n",
      "  my_vp[\"werte\"] = neu\n"
     ]
    }
   ],
   "source": [
    "import numpy as np\n",
    "werte = list(my_vp.wert.apply(str))\n",
    "werte = [w.replace(',','.') for w in werte]\n",
    "neu = [float(x.split(\"/\")[0]) if len(x)>1 else np.NaN for x in werte]\n",
    "my_vp[\"werte\"] = neu"
   ],
   "metadata": {
    "collapsed": false,
    "pycharm": {
     "name": "#%%\n"
    }
   }
  },
  {
   "cell_type": "code",
   "execution_count": 93,
   "outputs": [],
   "source": [],
   "metadata": {
    "collapsed": false,
    "pycharm": {
     "name": "#%%\n"
    }
   }
  },
  {
   "cell_type": "code",
   "execution_count": 118,
   "metadata": {
    "pycharm": {
     "name": "#%%\n"
    }
   },
   "outputs": [],
   "source": [
    "my_vp.to_csv(\"C:/Users/Caroline Kries/sciebo/Forschungsprojekt Medikamenteninteraktion/03_Daten/my_vp\")\n",
    "my_medi.to_csv(\"C:/Users/Caroline Kries/sciebo/Forschungsprojekt Medikamenteninteraktion/03_Daten/my_medi\")\n",
    "my_dia.to_csv(\"C:/Users/Caroline Kries/sciebo/Forschungsprojekt Medikamenteninteraktion/03_Daten/my_dia\")"
   ]
  },
  {
   "cell_type": "code",
   "execution_count": 95,
   "metadata": {
    "pycharm": {
     "name": "#%%\n"
    }
   },
   "outputs": [
    {
     "data": {
      "text/plain": "              id  klientid               datum bezeichnung    wert einheit  \\\n953          954      4197 2011-04-26 07:45:00  Blutzucker     160   mg/dl   \n954          955      4197 2011-04-26 11:15:00  Blutzucker     175   mg/dl   \n955          956      4197 2011-04-26 17:15:00  Blutzucker     224   mg/dl   \n956          957      4197 2011-04-27 07:45:00  Blutzucker     182   mg/dl   \n957          958      4197 2011-04-27 11:15:00  Blutzucker     256   mg/dl   \n...          ...       ...                 ...         ...     ...     ...   \n1072097  1072098      7957 2014-10-23 18:00:00  Blutzucker     124   mg/dl   \n1072098  1072099      7957 2014-10-23 23:44:00  Blutzucker     130   mg/dl   \n1072099  1072100      7957 2014-10-24 08:05:00  Blutzucker     110   mg/dl   \n1072100  1072101      7957 2014-10-24 11:30:00   Blutdruck  126/74   mm Hg   \n1072101  1072102      7957 2014-10-24 11:40:00  Blutzucker     118   mg/dl   \n\n         wurdeunterschritten  wurdeueberschritten  werte  \n953                        0                    0  160.0  \n954                        0                    0  175.0  \n955                        0                    0  224.0  \n956                        0                    0  182.0  \n957                        0                    0  256.0  \n...                      ...                  ...    ...  \n1072097                    0                    0  124.0  \n1072098                    0                    0  130.0  \n1072099                    0                    0  110.0  \n1072100                    0                    0  126.0  \n1072101                    0                    0  118.0  \n\n[147064 rows x 9 columns]",
      "text/html": "<div>\n<style scoped>\n    .dataframe tbody tr th:only-of-type {\n        vertical-align: middle;\n    }\n\n    .dataframe tbody tr th {\n        vertical-align: top;\n    }\n\n    .dataframe thead th {\n        text-align: right;\n    }\n</style>\n<table border=\"1\" class=\"dataframe\">\n  <thead>\n    <tr style=\"text-align: right;\">\n      <th></th>\n      <th>id</th>\n      <th>klientid</th>\n      <th>datum</th>\n      <th>bezeichnung</th>\n      <th>wert</th>\n      <th>einheit</th>\n      <th>wurdeunterschritten</th>\n      <th>wurdeueberschritten</th>\n      <th>werte</th>\n    </tr>\n  </thead>\n  <tbody>\n    <tr>\n      <th>953</th>\n      <td>954</td>\n      <td>4197</td>\n      <td>2011-04-26 07:45:00</td>\n      <td>Blutzucker</td>\n      <td>160</td>\n      <td>mg/dl</td>\n      <td>0</td>\n      <td>0</td>\n      <td>160.0</td>\n    </tr>\n    <tr>\n      <th>954</th>\n      <td>955</td>\n      <td>4197</td>\n      <td>2011-04-26 11:15:00</td>\n      <td>Blutzucker</td>\n      <td>175</td>\n      <td>mg/dl</td>\n      <td>0</td>\n      <td>0</td>\n      <td>175.0</td>\n    </tr>\n    <tr>\n      <th>955</th>\n      <td>956</td>\n      <td>4197</td>\n      <td>2011-04-26 17:15:00</td>\n      <td>Blutzucker</td>\n      <td>224</td>\n      <td>mg/dl</td>\n      <td>0</td>\n      <td>0</td>\n      <td>224.0</td>\n    </tr>\n    <tr>\n      <th>956</th>\n      <td>957</td>\n      <td>4197</td>\n      <td>2011-04-27 07:45:00</td>\n      <td>Blutzucker</td>\n      <td>182</td>\n      <td>mg/dl</td>\n      <td>0</td>\n      <td>0</td>\n      <td>182.0</td>\n    </tr>\n    <tr>\n      <th>957</th>\n      <td>958</td>\n      <td>4197</td>\n      <td>2011-04-27 11:15:00</td>\n      <td>Blutzucker</td>\n      <td>256</td>\n      <td>mg/dl</td>\n      <td>0</td>\n      <td>0</td>\n      <td>256.0</td>\n    </tr>\n    <tr>\n      <th>...</th>\n      <td>...</td>\n      <td>...</td>\n      <td>...</td>\n      <td>...</td>\n      <td>...</td>\n      <td>...</td>\n      <td>...</td>\n      <td>...</td>\n      <td>...</td>\n    </tr>\n    <tr>\n      <th>1072097</th>\n      <td>1072098</td>\n      <td>7957</td>\n      <td>2014-10-23 18:00:00</td>\n      <td>Blutzucker</td>\n      <td>124</td>\n      <td>mg/dl</td>\n      <td>0</td>\n      <td>0</td>\n      <td>124.0</td>\n    </tr>\n    <tr>\n      <th>1072098</th>\n      <td>1072099</td>\n      <td>7957</td>\n      <td>2014-10-23 23:44:00</td>\n      <td>Blutzucker</td>\n      <td>130</td>\n      <td>mg/dl</td>\n      <td>0</td>\n      <td>0</td>\n      <td>130.0</td>\n    </tr>\n    <tr>\n      <th>1072099</th>\n      <td>1072100</td>\n      <td>7957</td>\n      <td>2014-10-24 08:05:00</td>\n      <td>Blutzucker</td>\n      <td>110</td>\n      <td>mg/dl</td>\n      <td>0</td>\n      <td>0</td>\n      <td>110.0</td>\n    </tr>\n    <tr>\n      <th>1072100</th>\n      <td>1072101</td>\n      <td>7957</td>\n      <td>2014-10-24 11:30:00</td>\n      <td>Blutdruck</td>\n      <td>126/74</td>\n      <td>mm Hg</td>\n      <td>0</td>\n      <td>0</td>\n      <td>126.0</td>\n    </tr>\n    <tr>\n      <th>1072101</th>\n      <td>1072102</td>\n      <td>7957</td>\n      <td>2014-10-24 11:40:00</td>\n      <td>Blutzucker</td>\n      <td>118</td>\n      <td>mg/dl</td>\n      <td>0</td>\n      <td>0</td>\n      <td>118.0</td>\n    </tr>\n  </tbody>\n</table>\n<p>147064 rows × 9 columns</p>\n</div>"
     },
     "execution_count": 95,
     "metadata": {},
     "output_type": "execute_result"
    }
   ],
   "source": [
    "\n"
   ]
  }
 ],
 "metadata": {
  "kernelspec": {
   "display_name": "Python 3",
   "language": "python",
   "name": "python3"
  },
  "language_info": {
   "codemirror_mode": {
    "name": "ipython",
    "version": 3
   },
   "file_extension": ".py",
   "mimetype": "text/x-python",
   "name": "python",
   "nbconvert_exporter": "python",
   "pygments_lexer": "ipython3",
   "version": "3.8.8"
  }
 },
 "nbformat": 4,
 "nbformat_minor": 1
}