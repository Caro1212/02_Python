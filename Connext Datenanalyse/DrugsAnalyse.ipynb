{
 "cells": [
  {
   "cell_type": "code",
   "execution_count": 1,
   "metadata": {
    "collapsed": true
   },
   "outputs": [],
   "source": [
    "import pandas as pd\n",
    "import matplotlib.pyplot as plt\n",
    "import numpy as np\n",
    "import matplotlib.dates as mdates\n",
    "import datetime"
   ]
  },
  {
   "cell_type": "code",
   "execution_count": 2,
   "outputs": [
    {
     "name": "stderr",
     "output_type": "stream",
     "text": [
      "C:\\Users\\Caroline Kries\\anaconda3\\lib\\site-packages\\IPython\\core\\interactiveshell.py:3165: DtypeWarning: Columns (6) have mixed types.Specify dtype option on import or set low_memory=False.\n",
      "  has_raised = await self.run_ast_nodes(code_ast.body, cell_name,\n"
     ]
    }
   ],
   "source": [
    "my_dia = pd.read_csv(\"C:/Users/Caroline Kries/sciebo/Forschungsprojekt Medikamenteninteraktion/03_Daten/my_dia\")\n",
    "my_medi = pd.read_csv(\"C:/Users/Caroline Kries/sciebo/Forschungsprojekt Medikamenteninteraktion/03_Daten/my_medi\")\n",
    "my_inhalt = pd.read_csv(\"C:/Users/Caroline Kries/sciebo/Forschungsprojekt Medikamenteninteraktion/03_Daten/my_inhalt\")\n",
    "\n",
    "\n",
    "my_dia[\"giltab\"] = pd.to_datetime(my_dia.giltab)\n",
    "pzn_wirk = my_inhalt[[\"pzn\",\"bezeichnung\"]]\n",
    "pzn_wirk = pzn_wirk.rename(columns={\"pzn\":\"pzn\",\"bezeichnung\":\"wirkstoff\"})\n",
    "my_medi_wirk = pd.merge(my_medi, pzn_wirk,how=\"left\",on=\"pzn\")\n",
    "my_medi_wirk[\"tag\"] = pd.to_datetime(my_medi_wirk[\"tag\"])\n",
    "\n",
    "klienten = my_dia.klientid.unique()\n"
   ],
   "metadata": {
    "collapsed": false,
    "pycharm": {
     "name": "#%%\n"
    }
   }
  },
  {
   "cell_type": "code",
   "execution_count": 3,
   "outputs": [
    {
     "data": {
      "text/plain": "         Unnamed: 0        id  klientid        tag                datum  \\\n0             38851     38852      3734 2007-08-18  2007-08-18 06:30:00   \n1             38852     38853      3734 2007-08-19  2007-08-19 06:30:00   \n2             38853     38854      3734 2007-08-20  2007-08-20 06:30:00   \n3             38854     38855      3734 2007-08-21  2007-08-21 06:30:00   \n4             38855     38856      3734 2007-08-22  2007-08-22 06:30:00   \n...             ...       ...       ...        ...                  ...   \n1314188    26335959  26335960     22906 2021-11-08  2021-11-08 18:00:00   \n1314189    26335960  26335961     22906 2021-11-09  2021-11-09 06:30:00   \n1314190    26335961  26335962     22906 2021-11-09  2021-11-09 18:00:00   \n1314191    26335962  26335963     22906 2021-11-10  2021-11-10 06:30:00   \n1314192    26335963  26335964     22906 2021-11-10  2021-11-10 18:00:00   \n\n                        bezeichnung        pzn  menge einheit  \\\n0        Euthyrox 75 Mikrogramm TAB    2754708      1    Stck   \n1        Euthyrox 75 Mikrogramm TAB    2754708      1    Stck   \n2        Euthyrox 75 Mikrogramm TAB    2754708      1    Stck   \n3        Euthyrox 75 Mikrogramm TAB    2754708      1    Stck   \n4        Euthyrox 75 Mikrogramm TAB    2754708      1    Stck   \n...                             ...        ...    ...     ...   \n1314188           Eliquis 2,5mg FTA  8400029.0      1    Stck   \n1314189           Eliquis 2,5mg FTA  8400029.0      1    Stck   \n1314190           Eliquis 2,5mg FTA  8400029.0      1    Stck   \n1314191           Eliquis 2,5mg FTA  8400029.0      1    Stck   \n1314192           Eliquis 2,5mg FTA  8400029.0      1    Stck   \n\n                    wirkstoff  \n0        Levothyroxin natrium  \n1        Levothyroxin natrium  \n2        Levothyroxin natrium  \n3        Levothyroxin natrium  \n4        Levothyroxin natrium  \n...                       ...  \n1314188              Apixaban  \n1314189              Apixaban  \n1314190              Apixaban  \n1314191              Apixaban  \n1314192              Apixaban  \n\n[1314193 rows x 10 columns]",
      "text/html": "<div>\n<style scoped>\n    .dataframe tbody tr th:only-of-type {\n        vertical-align: middle;\n    }\n\n    .dataframe tbody tr th {\n        vertical-align: top;\n    }\n\n    .dataframe thead th {\n        text-align: right;\n    }\n</style>\n<table border=\"1\" class=\"dataframe\">\n  <thead>\n    <tr style=\"text-align: right;\">\n      <th></th>\n      <th>Unnamed: 0</th>\n      <th>id</th>\n      <th>klientid</th>\n      <th>tag</th>\n      <th>datum</th>\n      <th>bezeichnung</th>\n      <th>pzn</th>\n      <th>menge</th>\n      <th>einheit</th>\n      <th>wirkstoff</th>\n    </tr>\n  </thead>\n  <tbody>\n    <tr>\n      <th>0</th>\n      <td>38851</td>\n      <td>38852</td>\n      <td>3734</td>\n      <td>2007-08-18</td>\n      <td>2007-08-18 06:30:00</td>\n      <td>Euthyrox 75 Mikrogramm TAB</td>\n      <td>2754708</td>\n      <td>1</td>\n      <td>Stck</td>\n      <td>Levothyroxin natrium</td>\n    </tr>\n    <tr>\n      <th>1</th>\n      <td>38852</td>\n      <td>38853</td>\n      <td>3734</td>\n      <td>2007-08-19</td>\n      <td>2007-08-19 06:30:00</td>\n      <td>Euthyrox 75 Mikrogramm TAB</td>\n      <td>2754708</td>\n      <td>1</td>\n      <td>Stck</td>\n      <td>Levothyroxin natrium</td>\n    </tr>\n    <tr>\n      <th>2</th>\n      <td>38853</td>\n      <td>38854</td>\n      <td>3734</td>\n      <td>2007-08-20</td>\n      <td>2007-08-20 06:30:00</td>\n      <td>Euthyrox 75 Mikrogramm TAB</td>\n      <td>2754708</td>\n      <td>1</td>\n      <td>Stck</td>\n      <td>Levothyroxin natrium</td>\n    </tr>\n    <tr>\n      <th>3</th>\n      <td>38854</td>\n      <td>38855</td>\n      <td>3734</td>\n      <td>2007-08-21</td>\n      <td>2007-08-21 06:30:00</td>\n      <td>Euthyrox 75 Mikrogramm TAB</td>\n      <td>2754708</td>\n      <td>1</td>\n      <td>Stck</td>\n      <td>Levothyroxin natrium</td>\n    </tr>\n    <tr>\n      <th>4</th>\n      <td>38855</td>\n      <td>38856</td>\n      <td>3734</td>\n      <td>2007-08-22</td>\n      <td>2007-08-22 06:30:00</td>\n      <td>Euthyrox 75 Mikrogramm TAB</td>\n      <td>2754708</td>\n      <td>1</td>\n      <td>Stck</td>\n      <td>Levothyroxin natrium</td>\n    </tr>\n    <tr>\n      <th>...</th>\n      <td>...</td>\n      <td>...</td>\n      <td>...</td>\n      <td>...</td>\n      <td>...</td>\n      <td>...</td>\n      <td>...</td>\n      <td>...</td>\n      <td>...</td>\n      <td>...</td>\n    </tr>\n    <tr>\n      <th>1314188</th>\n      <td>26335959</td>\n      <td>26335960</td>\n      <td>22906</td>\n      <td>2021-11-08</td>\n      <td>2021-11-08 18:00:00</td>\n      <td>Eliquis 2,5mg FTA</td>\n      <td>8400029.0</td>\n      <td>1</td>\n      <td>Stck</td>\n      <td>Apixaban</td>\n    </tr>\n    <tr>\n      <th>1314189</th>\n      <td>26335960</td>\n      <td>26335961</td>\n      <td>22906</td>\n      <td>2021-11-09</td>\n      <td>2021-11-09 06:30:00</td>\n      <td>Eliquis 2,5mg FTA</td>\n      <td>8400029.0</td>\n      <td>1</td>\n      <td>Stck</td>\n      <td>Apixaban</td>\n    </tr>\n    <tr>\n      <th>1314190</th>\n      <td>26335961</td>\n      <td>26335962</td>\n      <td>22906</td>\n      <td>2021-11-09</td>\n      <td>2021-11-09 18:00:00</td>\n      <td>Eliquis 2,5mg FTA</td>\n      <td>8400029.0</td>\n      <td>1</td>\n      <td>Stck</td>\n      <td>Apixaban</td>\n    </tr>\n    <tr>\n      <th>1314191</th>\n      <td>26335962</td>\n      <td>26335963</td>\n      <td>22906</td>\n      <td>2021-11-10</td>\n      <td>2021-11-10 06:30:00</td>\n      <td>Eliquis 2,5mg FTA</td>\n      <td>8400029.0</td>\n      <td>1</td>\n      <td>Stck</td>\n      <td>Apixaban</td>\n    </tr>\n    <tr>\n      <th>1314192</th>\n      <td>26335963</td>\n      <td>26335964</td>\n      <td>22906</td>\n      <td>2021-11-10</td>\n      <td>2021-11-10 18:00:00</td>\n      <td>Eliquis 2,5mg FTA</td>\n      <td>8400029.0</td>\n      <td>1</td>\n      <td>Stck</td>\n      <td>Apixaban</td>\n    </tr>\n  </tbody>\n</table>\n<p>1314193 rows × 10 columns</p>\n</div>"
     },
     "execution_count": 3,
     "metadata": {},
     "output_type": "execute_result"
    }
   ],
   "source": [
    "my_medi_wirk"
   ],
   "metadata": {
    "collapsed": false,
    "pycharm": {
     "name": "#%%\n"
    }
   }
  },
  {
   "cell_type": "code",
   "execution_count": 4,
   "outputs": [
    {
     "data": {
      "text/plain": "[4, 4, 4]"
     },
     "execution_count": 4,
     "metadata": {},
     "output_type": "execute_result"
    }
   ],
   "source": [],
   "metadata": {
    "collapsed": false,
    "pycharm": {
     "name": "#%%\n"
    }
   }
  },
  {
   "cell_type": "code",
   "execution_count": 16,
   "outputs": [
    {
     "name": "stderr",
     "output_type": "stream",
     "text": [
      "<ipython-input-16-c5682b40d9aa>:5: SettingWithCopyWarning: \n",
      "A value is trying to be set on a copy of a slice from a DataFrame\n",
      "\n",
      "See the caveats in the documentation: https://pandas.pydata.org/pandas-docs/stable/user_guide/indexing.html#returning-a-view-versus-a-copy\n",
      "  df.dropna(how=\"any\", inplace=True)\n",
      "<ipython-input-16-c5682b40d9aa>:5: SettingWithCopyWarning: \n",
      "A value is trying to be set on a copy of a slice from a DataFrame\n",
      "\n",
      "See the caveats in the documentation: https://pandas.pydata.org/pandas-docs/stable/user_guide/indexing.html#returning-a-view-versus-a-copy\n",
      "  df.dropna(how=\"any\", inplace=True)\n",
      "<ipython-input-16-c5682b40d9aa>:5: SettingWithCopyWarning: \n",
      "A value is trying to be set on a copy of a slice from a DataFrame\n",
      "\n",
      "See the caveats in the documentation: https://pandas.pydata.org/pandas-docs/stable/user_guide/indexing.html#returning-a-view-versus-a-copy\n",
      "  df.dropna(how=\"any\", inplace=True)\n",
      "<ipython-input-16-c5682b40d9aa>:5: SettingWithCopyWarning: \n",
      "A value is trying to be set on a copy of a slice from a DataFrame\n",
      "\n",
      "See the caveats in the documentation: https://pandas.pydata.org/pandas-docs/stable/user_guide/indexing.html#returning-a-view-versus-a-copy\n",
      "  df.dropna(how=\"any\", inplace=True)\n",
      "<ipython-input-16-c5682b40d9aa>:5: SettingWithCopyWarning: \n",
      "A value is trying to be set on a copy of a slice from a DataFrame\n",
      "\n",
      "See the caveats in the documentation: https://pandas.pydata.org/pandas-docs/stable/user_guide/indexing.html#returning-a-view-versus-a-copy\n",
      "  df.dropna(how=\"any\", inplace=True)\n",
      "<ipython-input-16-c5682b40d9aa>:5: SettingWithCopyWarning: \n",
      "A value is trying to be set on a copy of a slice from a DataFrame\n",
      "\n",
      "See the caveats in the documentation: https://pandas.pydata.org/pandas-docs/stable/user_guide/indexing.html#returning-a-view-versus-a-copy\n",
      "  df.dropna(how=\"any\", inplace=True)\n",
      "<ipython-input-16-c5682b40d9aa>:5: SettingWithCopyWarning: \n",
      "A value is trying to be set on a copy of a slice from a DataFrame\n",
      "\n",
      "See the caveats in the documentation: https://pandas.pydata.org/pandas-docs/stable/user_guide/indexing.html#returning-a-view-versus-a-copy\n",
      "  df.dropna(how=\"any\", inplace=True)\n",
      "<ipython-input-16-c5682b40d9aa>:5: SettingWithCopyWarning: \n",
      "A value is trying to be set on a copy of a slice from a DataFrame\n",
      "\n",
      "See the caveats in the documentation: https://pandas.pydata.org/pandas-docs/stable/user_guide/indexing.html#returning-a-view-versus-a-copy\n",
      "  df.dropna(how=\"any\", inplace=True)\n",
      "<ipython-input-16-c5682b40d9aa>:5: SettingWithCopyWarning: \n",
      "A value is trying to be set on a copy of a slice from a DataFrame\n",
      "\n",
      "See the caveats in the documentation: https://pandas.pydata.org/pandas-docs/stable/user_guide/indexing.html#returning-a-view-versus-a-copy\n",
      "  df.dropna(how=\"any\", inplace=True)\n",
      "<ipython-input-16-c5682b40d9aa>:5: SettingWithCopyWarning: \n",
      "A value is trying to be set on a copy of a slice from a DataFrame\n",
      "\n",
      "See the caveats in the documentation: https://pandas.pydata.org/pandas-docs/stable/user_guide/indexing.html#returning-a-view-versus-a-copy\n",
      "  df.dropna(how=\"any\", inplace=True)\n",
      "<ipython-input-16-c5682b40d9aa>:5: SettingWithCopyWarning: \n",
      "A value is trying to be set on a copy of a slice from a DataFrame\n",
      "\n",
      "See the caveats in the documentation: https://pandas.pydata.org/pandas-docs/stable/user_guide/indexing.html#returning-a-view-versus-a-copy\n",
      "  df.dropna(how=\"any\", inplace=True)\n",
      "<ipython-input-16-c5682b40d9aa>:5: SettingWithCopyWarning: \n",
      "A value is trying to be set on a copy of a slice from a DataFrame\n",
      "\n",
      "See the caveats in the documentation: https://pandas.pydata.org/pandas-docs/stable/user_guide/indexing.html#returning-a-view-versus-a-copy\n",
      "  df.dropna(how=\"any\", inplace=True)\n",
      "<ipython-input-16-c5682b40d9aa>:5: SettingWithCopyWarning: \n",
      "A value is trying to be set on a copy of a slice from a DataFrame\n",
      "\n",
      "See the caveats in the documentation: https://pandas.pydata.org/pandas-docs/stable/user_guide/indexing.html#returning-a-view-versus-a-copy\n",
      "  df.dropna(how=\"any\", inplace=True)\n",
      "<ipython-input-16-c5682b40d9aa>:5: SettingWithCopyWarning: \n",
      "A value is trying to be set on a copy of a slice from a DataFrame\n",
      "\n",
      "See the caveats in the documentation: https://pandas.pydata.org/pandas-docs/stable/user_guide/indexing.html#returning-a-view-versus-a-copy\n",
      "  df.dropna(how=\"any\", inplace=True)\n",
      "<ipython-input-16-c5682b40d9aa>:5: SettingWithCopyWarning: \n",
      "A value is trying to be set on a copy of a slice from a DataFrame\n",
      "\n",
      "See the caveats in the documentation: https://pandas.pydata.org/pandas-docs/stable/user_guide/indexing.html#returning-a-view-versus-a-copy\n",
      "  df.dropna(how=\"any\", inplace=True)\n",
      "<ipython-input-16-c5682b40d9aa>:5: SettingWithCopyWarning: \n",
      "A value is trying to be set on a copy of a slice from a DataFrame\n",
      "\n",
      "See the caveats in the documentation: https://pandas.pydata.org/pandas-docs/stable/user_guide/indexing.html#returning-a-view-versus-a-copy\n",
      "  df.dropna(how=\"any\", inplace=True)\n",
      "<ipython-input-16-c5682b40d9aa>:5: SettingWithCopyWarning: \n",
      "A value is trying to be set on a copy of a slice from a DataFrame\n",
      "\n",
      "See the caveats in the documentation: https://pandas.pydata.org/pandas-docs/stable/user_guide/indexing.html#returning-a-view-versus-a-copy\n",
      "  df.dropna(how=\"any\", inplace=True)\n",
      "<ipython-input-16-c5682b40d9aa>:5: SettingWithCopyWarning: \n",
      "A value is trying to be set on a copy of a slice from a DataFrame\n",
      "\n",
      "See the caveats in the documentation: https://pandas.pydata.org/pandas-docs/stable/user_guide/indexing.html#returning-a-view-versus-a-copy\n",
      "  df.dropna(how=\"any\", inplace=True)\n",
      "<ipython-input-16-c5682b40d9aa>:5: SettingWithCopyWarning: \n",
      "A value is trying to be set on a copy of a slice from a DataFrame\n",
      "\n",
      "See the caveats in the documentation: https://pandas.pydata.org/pandas-docs/stable/user_guide/indexing.html#returning-a-view-versus-a-copy\n",
      "  df.dropna(how=\"any\", inplace=True)\n",
      "<ipython-input-16-c5682b40d9aa>:5: SettingWithCopyWarning: \n",
      "A value is trying to be set on a copy of a slice from a DataFrame\n",
      "\n",
      "See the caveats in the documentation: https://pandas.pydata.org/pandas-docs/stable/user_guide/indexing.html#returning-a-view-versus-a-copy\n",
      "  df.dropna(how=\"any\", inplace=True)\n",
      "<ipython-input-16-c5682b40d9aa>:5: SettingWithCopyWarning: \n",
      "A value is trying to be set on a copy of a slice from a DataFrame\n",
      "\n",
      "See the caveats in the documentation: https://pandas.pydata.org/pandas-docs/stable/user_guide/indexing.html#returning-a-view-versus-a-copy\n",
      "  df.dropna(how=\"any\", inplace=True)\n",
      "<ipython-input-16-c5682b40d9aa>:5: SettingWithCopyWarning: \n",
      "A value is trying to be set on a copy of a slice from a DataFrame\n",
      "\n",
      "See the caveats in the documentation: https://pandas.pydata.org/pandas-docs/stable/user_guide/indexing.html#returning-a-view-versus-a-copy\n",
      "  df.dropna(how=\"any\", inplace=True)\n",
      "<ipython-input-16-c5682b40d9aa>:5: SettingWithCopyWarning: \n",
      "A value is trying to be set on a copy of a slice from a DataFrame\n",
      "\n",
      "See the caveats in the documentation: https://pandas.pydata.org/pandas-docs/stable/user_guide/indexing.html#returning-a-view-versus-a-copy\n",
      "  df.dropna(how=\"any\", inplace=True)\n",
      "<ipython-input-16-c5682b40d9aa>:5: SettingWithCopyWarning: \n",
      "A value is trying to be set on a copy of a slice from a DataFrame\n",
      "\n",
      "See the caveats in the documentation: https://pandas.pydata.org/pandas-docs/stable/user_guide/indexing.html#returning-a-view-versus-a-copy\n",
      "  df.dropna(how=\"any\", inplace=True)\n",
      "<ipython-input-16-c5682b40d9aa>:5: SettingWithCopyWarning: \n",
      "A value is trying to be set on a copy of a slice from a DataFrame\n",
      "\n",
      "See the caveats in the documentation: https://pandas.pydata.org/pandas-docs/stable/user_guide/indexing.html#returning-a-view-versus-a-copy\n",
      "  df.dropna(how=\"any\", inplace=True)\n",
      "<ipython-input-16-c5682b40d9aa>:5: SettingWithCopyWarning: \n",
      "A value is trying to be set on a copy of a slice from a DataFrame\n",
      "\n",
      "See the caveats in the documentation: https://pandas.pydata.org/pandas-docs/stable/user_guide/indexing.html#returning-a-view-versus-a-copy\n",
      "  df.dropna(how=\"any\", inplace=True)\n",
      "<ipython-input-16-c5682b40d9aa>:5: SettingWithCopyWarning: \n",
      "A value is trying to be set on a copy of a slice from a DataFrame\n",
      "\n",
      "See the caveats in the documentation: https://pandas.pydata.org/pandas-docs/stable/user_guide/indexing.html#returning-a-view-versus-a-copy\n",
      "  df.dropna(how=\"any\", inplace=True)\n",
      "<ipython-input-16-c5682b40d9aa>:5: SettingWithCopyWarning: \n",
      "A value is trying to be set on a copy of a slice from a DataFrame\n",
      "\n",
      "See the caveats in the documentation: https://pandas.pydata.org/pandas-docs/stable/user_guide/indexing.html#returning-a-view-versus-a-copy\n",
      "  df.dropna(how=\"any\", inplace=True)\n",
      "<ipython-input-16-c5682b40d9aa>:5: SettingWithCopyWarning: \n",
      "A value is trying to be set on a copy of a slice from a DataFrame\n",
      "\n",
      "See the caveats in the documentation: https://pandas.pydata.org/pandas-docs/stable/user_guide/indexing.html#returning-a-view-versus-a-copy\n",
      "  df.dropna(how=\"any\", inplace=True)\n",
      "<ipython-input-16-c5682b40d9aa>:5: SettingWithCopyWarning: \n",
      "A value is trying to be set on a copy of a slice from a DataFrame\n",
      "\n",
      "See the caveats in the documentation: https://pandas.pydata.org/pandas-docs/stable/user_guide/indexing.html#returning-a-view-versus-a-copy\n",
      "  df.dropna(how=\"any\", inplace=True)\n",
      "<ipython-input-16-c5682b40d9aa>:5: SettingWithCopyWarning: \n",
      "A value is trying to be set on a copy of a slice from a DataFrame\n",
      "\n",
      "See the caveats in the documentation: https://pandas.pydata.org/pandas-docs/stable/user_guide/indexing.html#returning-a-view-versus-a-copy\n",
      "  df.dropna(how=\"any\", inplace=True)\n",
      "<ipython-input-16-c5682b40d9aa>:5: SettingWithCopyWarning: \n",
      "A value is trying to be set on a copy of a slice from a DataFrame\n",
      "\n",
      "See the caveats in the documentation: https://pandas.pydata.org/pandas-docs/stable/user_guide/indexing.html#returning-a-view-versus-a-copy\n",
      "  df.dropna(how=\"any\", inplace=True)\n",
      "<ipython-input-16-c5682b40d9aa>:5: SettingWithCopyWarning: \n",
      "A value is trying to be set on a copy of a slice from a DataFrame\n",
      "\n",
      "See the caveats in the documentation: https://pandas.pydata.org/pandas-docs/stable/user_guide/indexing.html#returning-a-view-versus-a-copy\n",
      "  df.dropna(how=\"any\", inplace=True)\n",
      "<ipython-input-16-c5682b40d9aa>:5: SettingWithCopyWarning: \n",
      "A value is trying to be set on a copy of a slice from a DataFrame\n",
      "\n",
      "See the caveats in the documentation: https://pandas.pydata.org/pandas-docs/stable/user_guide/indexing.html#returning-a-view-versus-a-copy\n",
      "  df.dropna(how=\"any\", inplace=True)\n",
      "<ipython-input-16-c5682b40d9aa>:5: SettingWithCopyWarning: \n",
      "A value is trying to be set on a copy of a slice from a DataFrame\n",
      "\n",
      "See the caveats in the documentation: https://pandas.pydata.org/pandas-docs/stable/user_guide/indexing.html#returning-a-view-versus-a-copy\n",
      "  df.dropna(how=\"any\", inplace=True)\n",
      "<ipython-input-16-c5682b40d9aa>:5: SettingWithCopyWarning: \n",
      "A value is trying to be set on a copy of a slice from a DataFrame\n",
      "\n",
      "See the caveats in the documentation: https://pandas.pydata.org/pandas-docs/stable/user_guide/indexing.html#returning-a-view-versus-a-copy\n",
      "  df.dropna(how=\"any\", inplace=True)\n",
      "<ipython-input-16-c5682b40d9aa>:5: SettingWithCopyWarning: \n",
      "A value is trying to be set on a copy of a slice from a DataFrame\n",
      "\n",
      "See the caveats in the documentation: https://pandas.pydata.org/pandas-docs/stable/user_guide/indexing.html#returning-a-view-versus-a-copy\n",
      "  df.dropna(how=\"any\", inplace=True)\n",
      "<ipython-input-16-c5682b40d9aa>:5: SettingWithCopyWarning: \n",
      "A value is trying to be set on a copy of a slice from a DataFrame\n",
      "\n",
      "See the caveats in the documentation: https://pandas.pydata.org/pandas-docs/stable/user_guide/indexing.html#returning-a-view-versus-a-copy\n",
      "  df.dropna(how=\"any\", inplace=True)\n",
      "<ipython-input-16-c5682b40d9aa>:5: SettingWithCopyWarning: \n",
      "A value is trying to be set on a copy of a slice from a DataFrame\n",
      "\n",
      "See the caveats in the documentation: https://pandas.pydata.org/pandas-docs/stable/user_guide/indexing.html#returning-a-view-versus-a-copy\n",
      "  df.dropna(how=\"any\", inplace=True)\n",
      "<ipython-input-16-c5682b40d9aa>:5: SettingWithCopyWarning: \n",
      "A value is trying to be set on a copy of a slice from a DataFrame\n",
      "\n",
      "See the caveats in the documentation: https://pandas.pydata.org/pandas-docs/stable/user_guide/indexing.html#returning-a-view-versus-a-copy\n",
      "  df.dropna(how=\"any\", inplace=True)\n",
      "<ipython-input-16-c5682b40d9aa>:5: SettingWithCopyWarning: \n",
      "A value is trying to be set on a copy of a slice from a DataFrame\n",
      "\n",
      "See the caveats in the documentation: https://pandas.pydata.org/pandas-docs/stable/user_guide/indexing.html#returning-a-view-versus-a-copy\n",
      "  df.dropna(how=\"any\", inplace=True)\n",
      "<ipython-input-16-c5682b40d9aa>:5: SettingWithCopyWarning: \n",
      "A value is trying to be set on a copy of a slice from a DataFrame\n",
      "\n",
      "See the caveats in the documentation: https://pandas.pydata.org/pandas-docs/stable/user_guide/indexing.html#returning-a-view-versus-a-copy\n",
      "  df.dropna(how=\"any\", inplace=True)\n",
      "<ipython-input-16-c5682b40d9aa>:5: SettingWithCopyWarning: \n",
      "A value is trying to be set on a copy of a slice from a DataFrame\n",
      "\n",
      "See the caveats in the documentation: https://pandas.pydata.org/pandas-docs/stable/user_guide/indexing.html#returning-a-view-versus-a-copy\n",
      "  df.dropna(how=\"any\", inplace=True)\n",
      "<ipython-input-16-c5682b40d9aa>:5: SettingWithCopyWarning: \n",
      "A value is trying to be set on a copy of a slice from a DataFrame\n",
      "\n",
      "See the caveats in the documentation: https://pandas.pydata.org/pandas-docs/stable/user_guide/indexing.html#returning-a-view-versus-a-copy\n",
      "  df.dropna(how=\"any\", inplace=True)\n",
      "<ipython-input-16-c5682b40d9aa>:5: SettingWithCopyWarning: \n",
      "A value is trying to be set on a copy of a slice from a DataFrame\n",
      "\n",
      "See the caveats in the documentation: https://pandas.pydata.org/pandas-docs/stable/user_guide/indexing.html#returning-a-view-versus-a-copy\n",
      "  df.dropna(how=\"any\", inplace=True)\n",
      "<ipython-input-16-c5682b40d9aa>:5: SettingWithCopyWarning: \n",
      "A value is trying to be set on a copy of a slice from a DataFrame\n",
      "\n",
      "See the caveats in the documentation: https://pandas.pydata.org/pandas-docs/stable/user_guide/indexing.html#returning-a-view-versus-a-copy\n",
      "  df.dropna(how=\"any\", inplace=True)\n",
      "<ipython-input-16-c5682b40d9aa>:5: SettingWithCopyWarning: \n",
      "A value is trying to be set on a copy of a slice from a DataFrame\n",
      "\n",
      "See the caveats in the documentation: https://pandas.pydata.org/pandas-docs/stable/user_guide/indexing.html#returning-a-view-versus-a-copy\n",
      "  df.dropna(how=\"any\", inplace=True)\n",
      "<ipython-input-16-c5682b40d9aa>:5: SettingWithCopyWarning: \n",
      "A value is trying to be set on a copy of a slice from a DataFrame\n",
      "\n",
      "See the caveats in the documentation: https://pandas.pydata.org/pandas-docs/stable/user_guide/indexing.html#returning-a-view-versus-a-copy\n",
      "  df.dropna(how=\"any\", inplace=True)\n",
      "<ipython-input-16-c5682b40d9aa>:5: SettingWithCopyWarning: \n",
      "A value is trying to be set on a copy of a slice from a DataFrame\n",
      "\n",
      "See the caveats in the documentation: https://pandas.pydata.org/pandas-docs/stable/user_guide/indexing.html#returning-a-view-versus-a-copy\n",
      "  df.dropna(how=\"any\", inplace=True)\n",
      "<ipython-input-16-c5682b40d9aa>:5: SettingWithCopyWarning: \n",
      "A value is trying to be set on a copy of a slice from a DataFrame\n",
      "\n",
      "See the caveats in the documentation: https://pandas.pydata.org/pandas-docs/stable/user_guide/indexing.html#returning-a-view-versus-a-copy\n",
      "  df.dropna(how=\"any\", inplace=True)\n",
      "<ipython-input-16-c5682b40d9aa>:5: SettingWithCopyWarning: \n",
      "A value is trying to be set on a copy of a slice from a DataFrame\n",
      "\n",
      "See the caveats in the documentation: https://pandas.pydata.org/pandas-docs/stable/user_guide/indexing.html#returning-a-view-versus-a-copy\n",
      "  df.dropna(how=\"any\", inplace=True)\n",
      "<ipython-input-16-c5682b40d9aa>:5: SettingWithCopyWarning: \n",
      "A value is trying to be set on a copy of a slice from a DataFrame\n",
      "\n",
      "See the caveats in the documentation: https://pandas.pydata.org/pandas-docs/stable/user_guide/indexing.html#returning-a-view-versus-a-copy\n",
      "  df.dropna(how=\"any\", inplace=True)\n",
      "<ipython-input-16-c5682b40d9aa>:5: SettingWithCopyWarning: \n",
      "A value is trying to be set on a copy of a slice from a DataFrame\n",
      "\n",
      "See the caveats in the documentation: https://pandas.pydata.org/pandas-docs/stable/user_guide/indexing.html#returning-a-view-versus-a-copy\n",
      "  df.dropna(how=\"any\", inplace=True)\n",
      "<ipython-input-16-c5682b40d9aa>:5: SettingWithCopyWarning: \n",
      "A value is trying to be set on a copy of a slice from a DataFrame\n",
      "\n",
      "See the caveats in the documentation: https://pandas.pydata.org/pandas-docs/stable/user_guide/indexing.html#returning-a-view-versus-a-copy\n",
      "  df.dropna(how=\"any\", inplace=True)\n",
      "<ipython-input-16-c5682b40d9aa>:5: SettingWithCopyWarning: \n",
      "A value is trying to be set on a copy of a slice from a DataFrame\n",
      "\n",
      "See the caveats in the documentation: https://pandas.pydata.org/pandas-docs/stable/user_guide/indexing.html#returning-a-view-versus-a-copy\n",
      "  df.dropna(how=\"any\", inplace=True)\n",
      "<ipython-input-16-c5682b40d9aa>:5: SettingWithCopyWarning: \n",
      "A value is trying to be set on a copy of a slice from a DataFrame\n",
      "\n",
      "See the caveats in the documentation: https://pandas.pydata.org/pandas-docs/stable/user_guide/indexing.html#returning-a-view-versus-a-copy\n",
      "  df.dropna(how=\"any\", inplace=True)\n",
      "<ipython-input-16-c5682b40d9aa>:5: SettingWithCopyWarning: \n",
      "A value is trying to be set on a copy of a slice from a DataFrame\n",
      "\n",
      "See the caveats in the documentation: https://pandas.pydata.org/pandas-docs/stable/user_guide/indexing.html#returning-a-view-versus-a-copy\n",
      "  df.dropna(how=\"any\", inplace=True)\n",
      "<ipython-input-16-c5682b40d9aa>:5: SettingWithCopyWarning: \n",
      "A value is trying to be set on a copy of a slice from a DataFrame\n",
      "\n",
      "See the caveats in the documentation: https://pandas.pydata.org/pandas-docs/stable/user_guide/indexing.html#returning-a-view-versus-a-copy\n",
      "  df.dropna(how=\"any\", inplace=True)\n",
      "<ipython-input-16-c5682b40d9aa>:5: SettingWithCopyWarning: \n",
      "A value is trying to be set on a copy of a slice from a DataFrame\n",
      "\n",
      "See the caveats in the documentation: https://pandas.pydata.org/pandas-docs/stable/user_guide/indexing.html#returning-a-view-versus-a-copy\n",
      "  df.dropna(how=\"any\", inplace=True)\n",
      "<ipython-input-16-c5682b40d9aa>:5: SettingWithCopyWarning: \n",
      "A value is trying to be set on a copy of a slice from a DataFrame\n",
      "\n",
      "See the caveats in the documentation: https://pandas.pydata.org/pandas-docs/stable/user_guide/indexing.html#returning-a-view-versus-a-copy\n",
      "  df.dropna(how=\"any\", inplace=True)\n",
      "<ipython-input-16-c5682b40d9aa>:5: SettingWithCopyWarning: \n",
      "A value is trying to be set on a copy of a slice from a DataFrame\n",
      "\n",
      "See the caveats in the documentation: https://pandas.pydata.org/pandas-docs/stable/user_guide/indexing.html#returning-a-view-versus-a-copy\n",
      "  df.dropna(how=\"any\", inplace=True)\n",
      "<ipython-input-16-c5682b40d9aa>:5: SettingWithCopyWarning: \n",
      "A value is trying to be set on a copy of a slice from a DataFrame\n",
      "\n",
      "See the caveats in the documentation: https://pandas.pydata.org/pandas-docs/stable/user_guide/indexing.html#returning-a-view-versus-a-copy\n",
      "  df.dropna(how=\"any\", inplace=True)\n",
      "<ipython-input-16-c5682b40d9aa>:5: SettingWithCopyWarning: \n",
      "A value is trying to be set on a copy of a slice from a DataFrame\n",
      "\n",
      "See the caveats in the documentation: https://pandas.pydata.org/pandas-docs/stable/user_guide/indexing.html#returning-a-view-versus-a-copy\n",
      "  df.dropna(how=\"any\", inplace=True)\n",
      "<ipython-input-16-c5682b40d9aa>:5: SettingWithCopyWarning: \n",
      "A value is trying to be set on a copy of a slice from a DataFrame\n",
      "\n",
      "See the caveats in the documentation: https://pandas.pydata.org/pandas-docs/stable/user_guide/indexing.html#returning-a-view-versus-a-copy\n",
      "  df.dropna(how=\"any\", inplace=True)\n",
      "<ipython-input-16-c5682b40d9aa>:5: SettingWithCopyWarning: \n",
      "A value is trying to be set on a copy of a slice from a DataFrame\n",
      "\n",
      "See the caveats in the documentation: https://pandas.pydata.org/pandas-docs/stable/user_guide/indexing.html#returning-a-view-versus-a-copy\n",
      "  df.dropna(how=\"any\", inplace=True)\n",
      "<ipython-input-16-c5682b40d9aa>:5: SettingWithCopyWarning: \n",
      "A value is trying to be set on a copy of a slice from a DataFrame\n",
      "\n",
      "See the caveats in the documentation: https://pandas.pydata.org/pandas-docs/stable/user_guide/indexing.html#returning-a-view-versus-a-copy\n",
      "  df.dropna(how=\"any\", inplace=True)\n",
      "<ipython-input-16-c5682b40d9aa>:5: SettingWithCopyWarning: \n",
      "A value is trying to be set on a copy of a slice from a DataFrame\n",
      "\n",
      "See the caveats in the documentation: https://pandas.pydata.org/pandas-docs/stable/user_guide/indexing.html#returning-a-view-versus-a-copy\n",
      "  df.dropna(how=\"any\", inplace=True)\n",
      "<ipython-input-16-c5682b40d9aa>:5: SettingWithCopyWarning: \n",
      "A value is trying to be set on a copy of a slice from a DataFrame\n",
      "\n",
      "See the caveats in the documentation: https://pandas.pydata.org/pandas-docs/stable/user_guide/indexing.html#returning-a-view-versus-a-copy\n",
      "  df.dropna(how=\"any\", inplace=True)\n",
      "<ipython-input-16-c5682b40d9aa>:5: SettingWithCopyWarning: \n",
      "A value is trying to be set on a copy of a slice from a DataFrame\n",
      "\n",
      "See the caveats in the documentation: https://pandas.pydata.org/pandas-docs/stable/user_guide/indexing.html#returning-a-view-versus-a-copy\n",
      "  df.dropna(how=\"any\", inplace=True)\n",
      "<ipython-input-16-c5682b40d9aa>:5: SettingWithCopyWarning: \n",
      "A value is trying to be set on a copy of a slice from a DataFrame\n",
      "\n",
      "See the caveats in the documentation: https://pandas.pydata.org/pandas-docs/stable/user_guide/indexing.html#returning-a-view-versus-a-copy\n",
      "  df.dropna(how=\"any\", inplace=True)\n",
      "<ipython-input-16-c5682b40d9aa>:5: SettingWithCopyWarning: \n",
      "A value is trying to be set on a copy of a slice from a DataFrame\n",
      "\n",
      "See the caveats in the documentation: https://pandas.pydata.org/pandas-docs/stable/user_guide/indexing.html#returning-a-view-versus-a-copy\n",
      "  df.dropna(how=\"any\", inplace=True)\n",
      "<ipython-input-16-c5682b40d9aa>:5: SettingWithCopyWarning: \n",
      "A value is trying to be set on a copy of a slice from a DataFrame\n",
      "\n",
      "See the caveats in the documentation: https://pandas.pydata.org/pandas-docs/stable/user_guide/indexing.html#returning-a-view-versus-a-copy\n",
      "  df.dropna(how=\"any\", inplace=True)\n",
      "<ipython-input-16-c5682b40d9aa>:5: SettingWithCopyWarning: \n",
      "A value is trying to be set on a copy of a slice from a DataFrame\n",
      "\n",
      "See the caveats in the documentation: https://pandas.pydata.org/pandas-docs/stable/user_guide/indexing.html#returning-a-view-versus-a-copy\n",
      "  df.dropna(how=\"any\", inplace=True)\n",
      "<ipython-input-16-c5682b40d9aa>:5: SettingWithCopyWarning: \n",
      "A value is trying to be set on a copy of a slice from a DataFrame\n",
      "\n",
      "See the caveats in the documentation: https://pandas.pydata.org/pandas-docs/stable/user_guide/indexing.html#returning-a-view-versus-a-copy\n",
      "  df.dropna(how=\"any\", inplace=True)\n"
     ]
    }
   ],
   "source": [
    "for klient in klienten:\n",
    "\n",
    "    medi1 = my_medi_wirk[my_medi_wirk.klientid == klient]\n",
    "    df = medi1[[\"tag\", \"wirkstoff\"]]\n",
    "    df.dropna(how=\"any\", inplace=True)\n",
    "\n",
    "    names = list(df.wirkstoff)\n",
    "    uniquenames = list(set(names))\n",
    "    dates = list(df.tag)\n",
    "    zip_list = list(zip(names, dates))\n",
    "\n",
    "    #mydict = {\"Medikament\":[Timestamp1, Timestamp2, ...],...}\n",
    "    mydict = {}\n",
    "    for x in uniquenames:\n",
    "        mydict[x] = []\n",
    "        for z in zip_list:\n",
    "            if z[0] == x:\n",
    "                mydict[x].append(z[1])\n",
    "\n",
    "    #begin = {\"Medikament\":[Timestamp1, Timestamp2, ...],...}\n",
    "    # Timestamps geben ersten bzw. letzten Tag der Medikamentation an\n",
    "    begin = {}\n",
    "    end = {}\n",
    "    for name in mydict.keys():\n",
    "        newtime = [mydict[name][0]]\n",
    "        endtime = []\n",
    "        currenttime = mydict[name][0]\n",
    "        for timestamp in mydict[name]:\n",
    "            if timestamp - currenttime > datetime.timedelta(days=14):\n",
    "                newtime.append(timestamp)\n",
    "                endtime.append(currenttime)\n",
    "            currenttime = timestamp\n",
    "        endtime.append(mydict[name][-1])\n",
    "        begin[name] = newtime\n",
    "        end[name] = endtime\n",
    "\n",
    "    #names und dates für die plot_timeline Methode mit je einem Zeitstempel für jedes Medikament\n",
    "    names = []\n",
    "    begin_dates = []\n",
    "    end_dates = []\n",
    "    for name in list(begin.keys()):\n",
    "        timelist = begin[name]\n",
    "        for time in timelist:\n",
    "            names.append(name)\n",
    "            begin_dates.append(time)\n",
    "        timelist2 = end[name]\n",
    "        for time in timelist2:\n",
    "            end_dates.append(time)\n",
    "\n",
    "    klientid = [klient] * len(names)\n",
    "    dict = {\"klientid\": klientid, \"tag_beginn\": begin_dates, \"tag_ende\": end_dates, \"wirkstoff\": names}\n",
    "\n",
    "    if klient == klienten[0]:\n",
    "        current_df = pd.DataFrame(dict)\n",
    "    else:\n",
    "        new_df = pd.DataFrame(dict)\n",
    "        current_df = pd.concat([current_df, new_df])\n",
    "\n",
    "    drugs = list(set(names))\n",
    "    klientid = [klient] * len(drugs)\n",
    "    dict2 = {\"klientid\": klientid, \"wirkstoff\": drugs}\n",
    "\n",
    "    if klient == klienten[0]:\n",
    "        only_drugs = pd.DataFrame(dict2)\n",
    "    else:\n",
    "        new_only_drugs = pd.DataFrame(dict2)\n",
    "        only_drugs = pd.concat([only_drugs, new_only_drugs])"
   ],
   "metadata": {
    "collapsed": false,
    "pycharm": {
     "name": "#%%\n"
    }
   }
  },
  {
   "cell_type": "code",
   "execution_count": 17,
   "outputs": [
    {
     "data": {
      "text/plain": "    klientid                   wirkstoff\n0     3181.0              Kombi-Präparat\n1     3181.0               Macrogol 3350\n2     3181.0                   Furosemid\n3     3181.0                Dexamethason\n4     3181.0                   Omeprazol\n..       ...                         ...\n27   22906.0               Kaliumchlorid\n28   22906.0  Metamizol natrium-1-Wasser\n29   22906.0               Levetiracetam\n30   22906.0      Goserelin acetat (1:x)\n31   22906.0                    Primidon\n\n[1397 rows x 2 columns]",
      "text/html": "<div>\n<style scoped>\n    .dataframe tbody tr th:only-of-type {\n        vertical-align: middle;\n    }\n\n    .dataframe tbody tr th {\n        vertical-align: top;\n    }\n\n    .dataframe thead th {\n        text-align: right;\n    }\n</style>\n<table border=\"1\" class=\"dataframe\">\n  <thead>\n    <tr style=\"text-align: right;\">\n      <th></th>\n      <th>klientid</th>\n      <th>wirkstoff</th>\n    </tr>\n  </thead>\n  <tbody>\n    <tr>\n      <th>0</th>\n      <td>3181.0</td>\n      <td>Kombi-Präparat</td>\n    </tr>\n    <tr>\n      <th>1</th>\n      <td>3181.0</td>\n      <td>Macrogol 3350</td>\n    </tr>\n    <tr>\n      <th>2</th>\n      <td>3181.0</td>\n      <td>Furosemid</td>\n    </tr>\n    <tr>\n      <th>3</th>\n      <td>3181.0</td>\n      <td>Dexamethason</td>\n    </tr>\n    <tr>\n      <th>4</th>\n      <td>3181.0</td>\n      <td>Omeprazol</td>\n    </tr>\n    <tr>\n      <th>...</th>\n      <td>...</td>\n      <td>...</td>\n    </tr>\n    <tr>\n      <th>27</th>\n      <td>22906.0</td>\n      <td>Kaliumchlorid</td>\n    </tr>\n    <tr>\n      <th>28</th>\n      <td>22906.0</td>\n      <td>Metamizol natrium-1-Wasser</td>\n    </tr>\n    <tr>\n      <th>29</th>\n      <td>22906.0</td>\n      <td>Levetiracetam</td>\n    </tr>\n    <tr>\n      <th>30</th>\n      <td>22906.0</td>\n      <td>Goserelin acetat (1:x)</td>\n    </tr>\n    <tr>\n      <th>31</th>\n      <td>22906.0</td>\n      <td>Primidon</td>\n    </tr>\n  </tbody>\n</table>\n<p>1397 rows × 2 columns</p>\n</div>"
     },
     "execution_count": 17,
     "metadata": {},
     "output_type": "execute_result"
    }
   ],
   "source": [
    "only_drugs"
   ],
   "metadata": {
    "collapsed": false,
    "pycharm": {
     "name": "#%%\n"
    }
   }
  },
  {
   "cell_type": "code",
   "execution_count": 22,
   "outputs": [],
   "source": [
    "counts = current_df.wirkstoff.value_counts()"
   ],
   "metadata": {
    "collapsed": false,
    "pycharm": {
     "name": "#%%\n"
    }
   }
  },
  {
   "cell_type": "code",
   "execution_count": 23,
   "outputs": [
    {
     "data": {
      "text/plain": "Metamizol natrium-1-Wasser    126\nInsulin, normal (human)       123\nInsulin-Isophan (human)       107\nTorasemid                      85\nAcetylsalicylsäure             72\n                             ... \nPipamperon dihydrochlorid      10\nTamsulosin hydrochlorid         9\nCaptopril                       9\nOlmesartan medoxomil            9\nGlibenclamid                    9\nName: wirkstoff, Length: 80, dtype: int64"
     },
     "execution_count": 23,
     "metadata": {},
     "output_type": "execute_result"
    }
   ],
   "source": [
    "counts[:80]"
   ],
   "metadata": {
    "collapsed": false,
    "pycharm": {
     "name": "#%%\n"
    }
   }
  },
  {
   "cell_type": "code",
   "execution_count": 24,
   "outputs": [
    {
     "data": {
      "text/plain": "Metamizol natrium-1-Wasser        39\nTorasemid                         37\nInsulin, normal (human)           34\nPantoprazol natrium-1,5-Wasser    30\nInsulin-Isophan (human)           29\n                                  ..\nHydrocortison                      1\nAnamirta cocculus                  1\nDocusat natrium                    1\nFlurazepam                         1\nPfefferminzöl                      1\nName: wirkstoff, Length: 393, dtype: int64"
     },
     "execution_count": 24,
     "metadata": {},
     "output_type": "execute_result"
    }
   ],
   "source": [
    "counts = only_drugs.wirkstoff.value_counts()\n",
    "counts"
   ],
   "metadata": {
    "collapsed": false,
    "pycharm": {
     "name": "#%%\n"
    }
   }
  },
  {
   "cell_type": "code",
   "execution_count": 29,
   "outputs": [],
   "source": [
    "binarytable = only_drugs.groupby(['klientid', 'wirkstoff']).size().unstack(fill_value=0)"
   ],
   "metadata": {
    "collapsed": false,
    "pycharm": {
     "name": "#%%\n"
    }
   }
  },
  {
   "cell_type": "code",
   "execution_count": 30,
   "outputs": [
    {
     "data": {
      "text/plain": "wirkstoff\nAcetylcystein                     12\nAcetylsalicylsäure                27\nAciclovir                          2\nAlendronsäure natrium              1\nAlendronsäure natrium-1-Wasser     1\n                                  ..\nZinkoxid                           4\nZitronenöl-Destillat               1\nZolpidem hemitartrat               1\nZopiclon                           7\nbeta-Acetyldigoxin                 1\nLength: 393, dtype: int64"
     },
     "execution_count": 30,
     "metadata": {},
     "output_type": "execute_result"
    }
   ],
   "source": [
    "binarytable.sum()"
   ],
   "metadata": {
    "collapsed": false,
    "pycharm": {
     "name": "#%%\n"
    }
   }
  },
  {
   "cell_type": "code",
   "execution_count": null,
   "outputs": [],
   "source": [],
   "metadata": {
    "collapsed": false,
    "pycharm": {
     "name": "#%%\n"
    }
   }
  }
 ],
 "metadata": {
  "kernelspec": {
   "display_name": "Python 3",
   "language": "python",
   "name": "python3"
  },
  "language_info": {
   "codemirror_mode": {
    "name": "ipython",
    "version": 2
   },
   "file_extension": ".py",
   "mimetype": "text/x-python",
   "name": "python",
   "nbconvert_exporter": "python",
   "pygments_lexer": "ipython2",
   "version": "2.7.6"
  }
 },
 "nbformat": 4,
 "nbformat_minor": 0
}