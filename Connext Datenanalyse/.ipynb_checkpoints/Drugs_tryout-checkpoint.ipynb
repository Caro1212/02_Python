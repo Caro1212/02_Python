{
 "cells": [
  {
   "cell_type": "code",
   "execution_count": 1,
   "metadata": {},
   "outputs": [],
   "source": [
    "import pyodbc\n",
    "import pyodbc\n",
    "import pandas as pd\n",
    "import mysql.connector\n",
    "import matplotlib.pyplot as plt\n",
    "import numpy as np\n",
    "\n",
    "klients = []\n",
    "with open(\"patientenliste.txt\", \"r\") as patienten:\n",
    "\tlines = patienten.readlines()\n",
    "\n",
    "klients = [int(x.replace(\"\\n\",\"\")) for x in lines]"
   ]
  },
  {
   "cell_type": "code",
   "execution_count": 24,
   "metadata": {
    "pycharm": {
     "is_executing": true,
     "name": "#%%\n"
    }
   },
   "outputs": [],
   "source": [
    "klients01 = tuple([str(x)[:-2] for x in klients if x%10==1])\n",
    "klients02 = tuple([str(x)[:-2] for x in klients if x%10==2])\n",
    "klients03 = tuple([str(x)[:-2] for x in klients if x%10==3])"
   ]
  },
  {
   "cell_type": "code",
   "execution_count": 25,
   "metadata": {
    "pycharm": {
     "name": "#%%\n"
    }
   },
   "outputs": [],
   "source": [
    "connection = mysql.connector.connect(\n",
    "    host=\"127.0.0.1\",\n",
    "    user=\"root\",\n",
    "    password=\"FH_Master_2122\",\n",
    "    database=\"forschung\"\n",
    ")\n",
    "\n",
    "cursor = connection.cursor()\n",
    "\n",
    "sql_query = \"SELECT * FROM medikamentgaben WHERE KlientId IN\"+str(klients01)\n",
    "cursor.execute(sql_query)\n",
    "myresult = cursor.fetchall()\n",
    "drugs01 = pd.DataFrame(myresult, columns = ['id', 'klientid','datum','zeitpunkt',\n",
    "                                          'bezeichnung','pzn','menge','einheit','atccode'])\n",
    "\n",
    "\n",
    "drugs01[\"klientid2\"] = drugs01[\"klientid\"]*100 +1\n",
    "drugs01 = drugs01[drugs01.klientid2.isin(klients)]\n",
    "\n",
    "cursor.execute(\"SELECT * FROM medikamentinhaltsstoffe\")\n",
    "myresult = cursor.fetchall()\n",
    "inhalt01 = pd.DataFrame(myresult, columns = ['id', 'pzn','bezeichnung','menge','einheit'])\n",
    "\n",
    "cursor.close()\n",
    "connection.disconnect()"
   ]
  },
  {
   "cell_type": "code",
   "execution_count": 26,
   "metadata": {
    "pycharm": {
     "is_executing": true,
     "name": "#%%\n"
    }
   },
   "outputs": [],
   "source": [
    "connection = pyodbc.connect('DRIVER={ODBC Driver 17 for SQL Server};'\n",
    "                            'SERVER=pc-caro;DATABASE=Forschung02;'\n",
    "                            'Trusted_Connection=yes;')\n",
    "cursor=connection.cursor()\n",
    "\n",
    "sql_query = \"SELECT * FROM medikamentgaben WHERE KlientId IN\"+str(klients02)\n",
    "\n",
    "drugs02 = pd.read_sql_query(sql_query, connection)\n",
    "drugs02.columns = ['id', 'klientid','datum','zeitpunkt',\n",
    "                'bezeichnung','pzn','menge','einheit','atccode']\n",
    "\n",
    "\n",
    "drugs02[\"klientid2\"] = drugs02[\"klientid\"]*100 +2\n",
    "drugs02 = drugs02[drugs02.klientid2.isin(klients)]\n",
    "\n",
    "inhalt02 = pd.read_sql_query('SELECT * FROM medikamentinhaltsstoffe', connection)\n",
    "inhalt02.columns = ['id', 'pzn','bezeichnung','menge','einheit']\n",
    "\n",
    "cursor.close()\n",
    "connection.close()"
   ]
  },
  {
   "cell_type": "code",
   "execution_count": 27,
   "metadata": {
    "pycharm": {
     "is_executing": true,
     "name": "#%%\n"
    }
   },
   "outputs": [],
   "source": [
    "connection = pyodbc.connect('DRIVER={ODBC Driver 17 for SQL Server};'\n",
    "                            'SERVER=pc-caro;DATABASE=Forschung03;'\n",
    "                            'Trusted_Connection=yes;')\n",
    "cursor=connection.cursor()\n",
    "sql_query = \"SELECT * FROM medikamentgaben WHERE KlientId IN\"+str(klients03)\n",
    "\n",
    "drugs03 = pd.read_sql_query(sql_query, connection)\n",
    "drugs03.columns = ['id', 'klientid','datum','zeitpunkt',\n",
    "                'bezeichnung','pzn','menge','einheit','atccode']\n",
    "\n",
    "\n",
    "drugs03[\"klientid2\"] = drugs03[\"klientid\"]*100 +3\n",
    "drugs03 = drugs03[drugs03.klientid2.isin(klients)]\n",
    "\n",
    "inhalt03 = pd.read_sql_query('SELECT * FROM medikamentinhaltsstoffe', connection)\n",
    "inhalt03.columns = ['id', 'pzn','bezeichnung','menge','einheit']\n",
    "\n",
    "cursor.close()\n",
    "connection.close()"
   ]
  },
  {
   "cell_type": "code",
   "execution_count": 34,
   "metadata": {
    "pycharm": {
     "is_executing": true,
     "name": "#%%\n"
    }
   },
   "outputs": [],
   "source": [
    "drugs = pd.concat([drugs01, drugs02, drugs03], ignore_index=True)\n",
    "inhalt = pd.concat([inhalt01, inhalt02, inhalt03], ignore_index=True)\n",
    "myinhalt = inhalt[[\"pzn\",\"bezeichnung\",\"menge\",\"einheit\"]]\n",
    "di = pd.merge(drugs, myinhalt, on='pzn', how='inner')\n",
    "di.columns = [\"id\",\"klientid\",\"datum\",\"zeitpunkt\",\"medikamentbezeichnung\",\n",
    "              \"pzn\",\"anzahl_eingenommen\",\"einheit_eingenommen\",\"atccode\",\"klientid2\",\n",
    "              \"inhaltsstoff\",\"menge_pro_medikament\",\"einheit\"]\n",
    "\n"
   ]
  },
  {
   "cell_type": "code",
   "execution_count": 38,
   "metadata": {
    "pycharm": {
     "is_executing": true,
     "name": "#%%\n"
    }
   },
   "outputs": [
    {
     "data": {
      "text/plain": [
       "['Torasemid',\n",
       " 'Metamizol natrium-1-Wasser',\n",
       " 'Ramipril',\n",
       " 'Acetylsalicylsäure',\n",
       " 'Metformin hydrochlorid',\n",
       " 'Pantoprazol natrium-1,5-Wasser']"
      ]
     },
     "execution_count": 38,
     "metadata": {},
     "output_type": "execute_result"
    }
   ],
   "source": [
    "top10 = list(di.inhaltsstoff.value_counts()[:10].index)\n",
    "top10_ohneInsulin=[]\n",
    "for x in top10:\n",
    "    if x.startswith(\"Insulin\"):\n",
    "        continue\n",
    "    else:\n",
    "        top10_ohneInsulin.append(x)\n",
    "top10_ohneInsulin"
   ]
  },
  {
   "cell_type": "code",
   "execution_count": 66,
   "metadata": {
    "pycharm": {
     "is_executing": true,
     "name": "#%%\n"
    }
   },
   "outputs": [],
   "source": [
    "allklients = list(di[di.inhaltsstoff.isin(top10_ohneInsulin)].klientid2.unique())"
   ]
  },
  {
   "cell_type": "code",
   "execution_count": 61,
   "metadata": {
    "pycharm": {
     "is_executing": true,
     "name": "#%%\n"
    }
   },
   "outputs": [],
   "source": [
    "panto_klients = list(di[di.inhaltsstoff==\"Pantoprazol natrium-1,5-Wasser\"].klientid2.unique())\n",
    "metamo_klients = list(di[di.inhaltsstoff==\"Metamizol natrium-1-Wasser\"].klientid2.unique())\n",
    "rami_klients = list(di[di.inhaltsstoff==\"Ramipril\"].klientid2.unique())\n",
    "acetyl_klients = list(di[di.inhaltsstoff==\"Acetylsalicylsäure\"].klientid2.unique())\n",
    "metform_klients = list(di[di.inhaltsstoff==\"Metformin hydrochlorid\"].klientid2.unique())\n",
    "tora_klients = list(di[di.inhaltsstoff==\"Torasemid\"].klientid2.unique())\n"
   ]
  },
  {
   "cell_type": "code",
   "execution_count": 62,
   "metadata": {},
   "outputs": [
    {
     "data": {
      "text/plain": [
       "{'panto': 123,\n",
       " 'metamo': 146,\n",
       " 'rami': 89,\n",
       " 'acetyl': 99,\n",
       " 'metform': 54,\n",
       " 'tora': 132}"
      ]
     },
     "execution_count": 62,
     "metadata": {},
     "output_type": "execute_result"
    }
   ],
   "source": [
    "d = {}\n",
    "d[\"panto\"] = len(panto_klients)\n",
    "d[\"metamo\"] = len(metamo_klients)\n",
    "d[\"rami\"] = len(rami_klients)\n",
    "d[\"acetyl\"] = len(acetyl_klients)\n",
    "d[\"metform\"] = len(metform_klients)\n",
    "d[\"tora\"] = len(tora_klients)\n",
    "d"
   ]
  },
  {
   "cell_type": "code",
   "execution_count": 67,
   "metadata": {},
   "outputs": [],
   "source": [
    "b = []\n",
    "for klient in allklients:\n",
    "    a=0\n",
    "    if klient in panto_klients:\n",
    "        a +=1\n",
    "    if klient in metamo_klients:\n",
    "        a+=1\n",
    "    if klient in rami_klients:\n",
    "        a+=1\n",
    "    if klient in acetyl_klients:\n",
    "        a+=1\n",
    "    if klient in metform_klients:\n",
    "        a+=1\n",
    "    if klient in tora_klients:\n",
    "        a+=1\n",
    "    b.append(a)"
   ]
  },
  {
   "cell_type": "code",
   "execution_count": 75,
   "metadata": {},
   "outputs": [
    {
     "data": {
      "text/plain": [
       "4    55\n",
       "3    49\n",
       "5    34\n",
       "2    30\n",
       "1    10\n",
       "6     6\n",
       "Name: anzahl, dtype: int64"
      ]
     },
     "execution_count": 75,
     "metadata": {},
     "output_type": "execute_result"
    }
   ],
   "source": [
    "df =pd.DataFrame(list(zip(allklients, b)), columns=[\"klientid2\",\"anzahl\"])\n",
    "df.anzahl.value_counts()"
   ]
  },
  {
   "cell_type": "code",
   "execution_count": 76,
   "metadata": {},
   "outputs": [],
   "source": [
    "mydi = di[di.inhaltsstoff.isin(top10_ohneInsulin)]"
   ]
  },
  {
   "cell_type": "code",
   "execution_count": 83,
   "metadata": {},
   "outputs": [
    {
     "data": {
      "text/plain": [
       "id                                int64\n",
       "klientid                          int64\n",
       "datum                    datetime64[ns]\n",
       "zeitpunkt                datetime64[ns]\n",
       "medikamentbezeichnung            object\n",
       "pzn                              object\n",
       "anzahl_eingenommen                int64\n",
       "einheit_eingenommen              object\n",
       "atccode                          object\n",
       "klientid2                         int64\n",
       "inhaltsstoff                     object\n",
       "menge_pro_medikament            float64\n",
       "einheit                          object\n",
       "dtype: object"
      ]
     },
     "execution_count": 83,
     "metadata": {},
     "output_type": "execute_result"
    }
   ],
   "source": [
    "mydi.dtypes"
   ]
  },
  {
   "cell_type": "code",
   "execution_count": 84,
   "metadata": {},
   "outputs": [
    {
     "name": "stderr",
     "output_type": "stream",
     "text": [
      "<ipython-input-84-1a03cf55102f>:1: SettingWithCopyWarning: \n",
      "A value is trying to be set on a copy of a slice from a DataFrame.\n",
      "Try using .loc[row_indexer,col_indexer] = value instead\n",
      "\n",
      "See the caveats in the documentation: https://pandas.pydata.org/pandas-docs/stable/user_guide/indexing.html#returning-a-view-versus-a-copy\n",
      "  mydi[\"eingenommene_menge\"] = mydi[\"anzahl_eingenommen\"]*mydi[\"menge_pro_medikament\"]\n"
     ]
    }
   ],
   "source": [
    "mydi[\"eingenommene_menge\"] = mydi[\"anzahl_eingenommen\"]*mydi[\"menge_pro_medikament\"]"
   ]
  },
  {
   "cell_type": "code",
   "execution_count": 108,
   "metadata": {},
   "outputs": [
    {
     "data": {
      "image/png": "[encoded data removed]",
      "text/plain": [
       "<Figure size 432x288 with 1 Axes>"
      ]
     },
     "metadata": {
      "needs_background": "light"
     },
     "output_type": "display_data"
    },
    {
     "data": {
      "image/png": "[encoded data removed]",
      "text/plain": [
       "<Figure size 432x288 with 1 Axes>"
      ]
     },
     "metadata": {
      "needs_background": "light"
     },
     "output_type": "display_data"
    },
    {
     "data": {
      "image/png": "[encoded data removed]",
      "text/plain": [
       "<Figure size 432x288 with 1 Axes>"
      ]
     },
     "metadata": {
      "needs_background": "light"
     },
     "output_type": "display_data"
    }
   ],
   "source": [
    "mydi_klient = mydi[mydi.klientid2 == allklients[88]]\n",
    "medikamente = list(mydi_klient.inhaltsstoff.unique())\n",
    "for m in medikamente:\n",
    "    df_temp = mydi_klient[mydi_klient.inhaltsstoff == m]\n",
    "    df_temp = df_temp[[\"datum\",\"eingenommene_menge\"]]\n",
    "    df_temp.sort_values(by='datum',inplace=True)\n",
    "    df_temp.set_index(\"datum\", inplace=True)\n",
    "    df = df_temp.resample('1d').sum()\n",
    "    plt.scatter(df.index, df.eingenommene_menge,label=m)\n",
    "    plt.legend()\n",
    "    plt.show()"
   ]
  },
  {
   "cell_type": "code",
   "execution_count": null,
   "metadata": {},
   "outputs": [],
   "source": []
  }
 ],
 "metadata": {
  "kernelspec": {
   "display_name": "Python 3",
   "language": "python",
   "name": "python3"
  },
  "language_info": {
   "codemirror_mode": {
    "name": "ipython",
    "version": 3
   },
   "file_extension": ".py",
   "mimetype": "text/x-python",
   "name": "python",
   "nbconvert_exporter": "python",
   "pygments_lexer": "ipython3",
   "version": "3.8.5"
  }
 },
 "nbformat": 4,
 "nbformat_minor": 1
}
