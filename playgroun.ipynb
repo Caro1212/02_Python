{
 "cells": [
  {
   "cell_type": "code",
   "execution_count": 40,
   "metadata": {
    "collapsed": true,
    "pycharm": {
     "name": "#%%\n"
    }
   },
   "outputs": [],
   "source": [
    "import tsfresh\n",
    "import os\n",
    "import pandas as pd\n",
    "from tsfresh import extract_relevant_features\n",
    "from multiprocessing import freeze_support\n",
    "from tsfresh import extract_features\n",
    "from tsfresh import select_features\n",
    "from tsfresh.utilities.dataframe_functions import impute\n",
    "from tsfresh.feature_extraction.settings import MinimalFCParameters\n",
    "from sklearn.model_selection import train_test_split"
   ]
  },
  {
   "cell_type": "code",
   "execution_count": 41,
   "outputs": [
    {
     "data": {
      "text/plain": "          u_0      u_1      u_2      u_3      u_4       u_5       u_6  \\\n83   0.091048  0.13656  0.15830  0.15397  0.12417  0.072242  0.004004   \n52   1.027500  0.90393  0.80091  0.72354  0.67431  0.652840  0.655940   \n364 -1.830800 -1.86180 -1.85860 -1.82200 -1.75520 -1.664200 -1.556600   \n491  0.499200  0.44394  0.40211  0.38056  0.38397  0.414370  0.470960   \n254  0.787180  0.75546  0.69580  0.60906  0.49887  0.371330  0.234420   \n..        ...      ...      ...      ...      ...       ...       ...   \n282 -0.217030 -0.26692 -0.29233 -0.28855 -0.25353 -0.188080 -0.095828   \n54   0.800910  0.72354  0.67431  0.65284  0.65594  0.677970  0.711390   \n431  1.164300  1.02750  0.90393  0.80091  0.72354  0.674310  0.652840   \n151 -0.455680 -0.61401 -0.75714 -0.87776 -0.97072 -1.033500 -1.066600   \n243  0.903930  0.80091  0.72354  0.67431  0.65284  0.655940  0.677970   \n\n          u_7       u_8      u_9  ...       y_1       y_2       y_3       y_4  \\\n83  -0.072858 -0.149550 -0.21703  ... -0.234460 -0.238830 -0.228490 -0.206180   \n52   0.677970  0.711390  0.74754  ...  0.986980  0.969900  0.946350  0.916380   \n364 -1.441500 -1.328000 -1.22470  ... -0.428950 -0.433940 -0.435500 -0.433980   \n491  0.550140  0.645840  0.75013  ...  0.122740  0.169010  0.210580  0.245590   \n254  0.097206 -0.030973 -0.14145  ...  0.296470  0.303420  0.305480  0.301380   \n..        ...       ...      ...  ...       ...       ...       ...       ...   \n282  0.017123  0.142780  0.27201  ...  0.060658  0.052231  0.033291  0.006109   \n54   0.747540  0.777490  0.79298  ...  0.946350  0.916380  0.880780  0.841000   \n431  0.655940  0.677970  0.71139  ...  1.320100  1.342700  1.354500  1.353800   \n151 -1.073000 -1.058500 -1.03050  ...  0.116320  0.056185 -0.016790 -0.100690   \n243  0.711390  0.747540  0.77749  ...  0.340880  0.322510  0.304850  0.288960   \n\n          y_5       y_6       y_7       y_8       y_9          cat  \n83  -0.175500 -0.140540 -0.105520 -0.074317 -0.050134  hammerstein  \n52   0.880780  0.841000  0.799000  0.757040  0.717300  hammerstein  \n364 -0.429650 -0.422760 -0.413570 -0.402440 -0.389910       wiener  \n491  0.272900  0.292220  0.304120  0.310000  0.311880          nde  \n254  0.290560  0.273070  0.249250  0.219510  0.184210       wiener  \n..        ...       ...       ...       ...       ...          ...  \n282 -0.026121 -0.059422 -0.089257 -0.110990 -0.120610       wiener  \n54   0.799000  0.757040  0.717300  0.681650  0.651400  hammerstein  \n431  1.339500  1.311800  1.271800  1.221600  1.164000          nde  \n151 -0.192710 -0.289520 -0.387590 -0.483480 -0.574060  hammerstein  \n243  0.275930  0.266760  0.262220  0.262620  0.267660       wiener  \n\n[285 rows x 21 columns]",
      "text/html": "<div>\n<style scoped>\n    .dataframe tbody tr th:only-of-type {\n        vertical-align: middle;\n    }\n\n    .dataframe tbody tr th {\n        vertical-align: top;\n    }\n\n    .dataframe thead th {\n        text-align: right;\n    }\n</style>\n<table border=\"1\" class=\"dataframe\">\n  <thead>\n    <tr style=\"text-align: right;\">\n      <th></th>\n      <th>u_0</th>\n      <th>u_1</th>\n      <th>u_2</th>\n      <th>u_3</th>\n      <th>u_4</th>\n      <th>u_5</th>\n      <th>u_6</th>\n      <th>u_7</th>\n      <th>u_8</th>\n      <th>u_9</th>\n      <th>...</th>\n      <th>y_1</th>\n      <th>y_2</th>\n      <th>y_3</th>\n      <th>y_4</th>\n      <th>y_5</th>\n      <th>y_6</th>\n      <th>y_7</th>\n      <th>y_8</th>\n      <th>y_9</th>\n      <th>cat</th>\n    </tr>\n  </thead>\n  <tbody>\n    <tr>\n      <th>83</th>\n      <td>0.091048</td>\n      <td>0.13656</td>\n      <td>0.15830</td>\n      <td>0.15397</td>\n      <td>0.12417</td>\n      <td>0.072242</td>\n      <td>0.004004</td>\n      <td>-0.072858</td>\n      <td>-0.149550</td>\n      <td>-0.21703</td>\n      <td>...</td>\n      <td>-0.234460</td>\n      <td>-0.238830</td>\n      <td>-0.228490</td>\n      <td>-0.206180</td>\n      <td>-0.175500</td>\n      <td>-0.140540</td>\n      <td>-0.105520</td>\n      <td>-0.074317</td>\n      <td>-0.050134</td>\n      <td>hammerstein</td>\n    </tr>\n    <tr>\n      <th>52</th>\n      <td>1.027500</td>\n      <td>0.90393</td>\n      <td>0.80091</td>\n      <td>0.72354</td>\n      <td>0.67431</td>\n      <td>0.652840</td>\n      <td>0.655940</td>\n      <td>0.677970</td>\n      <td>0.711390</td>\n      <td>0.74754</td>\n      <td>...</td>\n      <td>0.986980</td>\n      <td>0.969900</td>\n      <td>0.946350</td>\n      <td>0.916380</td>\n      <td>0.880780</td>\n      <td>0.841000</td>\n      <td>0.799000</td>\n      <td>0.757040</td>\n      <td>0.717300</td>\n      <td>hammerstein</td>\n    </tr>\n    <tr>\n      <th>364</th>\n      <td>-1.830800</td>\n      <td>-1.86180</td>\n      <td>-1.85860</td>\n      <td>-1.82200</td>\n      <td>-1.75520</td>\n      <td>-1.664200</td>\n      <td>-1.556600</td>\n      <td>-1.441500</td>\n      <td>-1.328000</td>\n      <td>-1.22470</td>\n      <td>...</td>\n      <td>-0.428950</td>\n      <td>-0.433940</td>\n      <td>-0.435500</td>\n      <td>-0.433980</td>\n      <td>-0.429650</td>\n      <td>-0.422760</td>\n      <td>-0.413570</td>\n      <td>-0.402440</td>\n      <td>-0.389910</td>\n      <td>wiener</td>\n    </tr>\n    <tr>\n      <th>491</th>\n      <td>0.499200</td>\n      <td>0.44394</td>\n      <td>0.40211</td>\n      <td>0.38056</td>\n      <td>0.38397</td>\n      <td>0.414370</td>\n      <td>0.470960</td>\n      <td>0.550140</td>\n      <td>0.645840</td>\n      <td>0.75013</td>\n      <td>...</td>\n      <td>0.122740</td>\n      <td>0.169010</td>\n      <td>0.210580</td>\n      <td>0.245590</td>\n      <td>0.272900</td>\n      <td>0.292220</td>\n      <td>0.304120</td>\n      <td>0.310000</td>\n      <td>0.311880</td>\n      <td>nde</td>\n    </tr>\n    <tr>\n      <th>254</th>\n      <td>0.787180</td>\n      <td>0.75546</td>\n      <td>0.69580</td>\n      <td>0.60906</td>\n      <td>0.49887</td>\n      <td>0.371330</td>\n      <td>0.234420</td>\n      <td>0.097206</td>\n      <td>-0.030973</td>\n      <td>-0.14145</td>\n      <td>...</td>\n      <td>0.296470</td>\n      <td>0.303420</td>\n      <td>0.305480</td>\n      <td>0.301380</td>\n      <td>0.290560</td>\n      <td>0.273070</td>\n      <td>0.249250</td>\n      <td>0.219510</td>\n      <td>0.184210</td>\n      <td>wiener</td>\n    </tr>\n    <tr>\n      <th>...</th>\n      <td>...</td>\n      <td>...</td>\n      <td>...</td>\n      <td>...</td>\n      <td>...</td>\n      <td>...</td>\n      <td>...</td>\n      <td>...</td>\n      <td>...</td>\n      <td>...</td>\n      <td>...</td>\n      <td>...</td>\n      <td>...</td>\n      <td>...</td>\n      <td>...</td>\n      <td>...</td>\n      <td>...</td>\n      <td>...</td>\n      <td>...</td>\n      <td>...</td>\n      <td>...</td>\n    </tr>\n    <tr>\n      <th>282</th>\n      <td>-0.217030</td>\n      <td>-0.26692</td>\n      <td>-0.29233</td>\n      <td>-0.28855</td>\n      <td>-0.25353</td>\n      <td>-0.188080</td>\n      <td>-0.095828</td>\n      <td>0.017123</td>\n      <td>0.142780</td>\n      <td>0.27201</td>\n      <td>...</td>\n      <td>0.060658</td>\n      <td>0.052231</td>\n      <td>0.033291</td>\n      <td>0.006109</td>\n      <td>-0.026121</td>\n      <td>-0.059422</td>\n      <td>-0.089257</td>\n      <td>-0.110990</td>\n      <td>-0.120610</td>\n      <td>wiener</td>\n    </tr>\n    <tr>\n      <th>54</th>\n      <td>0.800910</td>\n      <td>0.72354</td>\n      <td>0.67431</td>\n      <td>0.65284</td>\n      <td>0.65594</td>\n      <td>0.677970</td>\n      <td>0.711390</td>\n      <td>0.747540</td>\n      <td>0.777490</td>\n      <td>0.79298</td>\n      <td>...</td>\n      <td>0.946350</td>\n      <td>0.916380</td>\n      <td>0.880780</td>\n      <td>0.841000</td>\n      <td>0.799000</td>\n      <td>0.757040</td>\n      <td>0.717300</td>\n      <td>0.681650</td>\n      <td>0.651400</td>\n      <td>hammerstein</td>\n    </tr>\n    <tr>\n      <th>431</th>\n      <td>1.164300</td>\n      <td>1.02750</td>\n      <td>0.90393</td>\n      <td>0.80091</td>\n      <td>0.72354</td>\n      <td>0.674310</td>\n      <td>0.652840</td>\n      <td>0.655940</td>\n      <td>0.677970</td>\n      <td>0.71139</td>\n      <td>...</td>\n      <td>1.320100</td>\n      <td>1.342700</td>\n      <td>1.354500</td>\n      <td>1.353800</td>\n      <td>1.339500</td>\n      <td>1.311800</td>\n      <td>1.271800</td>\n      <td>1.221600</td>\n      <td>1.164000</td>\n      <td>nde</td>\n    </tr>\n    <tr>\n      <th>151</th>\n      <td>-0.455680</td>\n      <td>-0.61401</td>\n      <td>-0.75714</td>\n      <td>-0.87776</td>\n      <td>-0.97072</td>\n      <td>-1.033500</td>\n      <td>-1.066600</td>\n      <td>-1.073000</td>\n      <td>-1.058500</td>\n      <td>-1.03050</td>\n      <td>...</td>\n      <td>0.116320</td>\n      <td>0.056185</td>\n      <td>-0.016790</td>\n      <td>-0.100690</td>\n      <td>-0.192710</td>\n      <td>-0.289520</td>\n      <td>-0.387590</td>\n      <td>-0.483480</td>\n      <td>-0.574060</td>\n      <td>hammerstein</td>\n    </tr>\n    <tr>\n      <th>243</th>\n      <td>0.903930</td>\n      <td>0.80091</td>\n      <td>0.72354</td>\n      <td>0.67431</td>\n      <td>0.65284</td>\n      <td>0.655940</td>\n      <td>0.677970</td>\n      <td>0.711390</td>\n      <td>0.747540</td>\n      <td>0.77749</td>\n      <td>...</td>\n      <td>0.340880</td>\n      <td>0.322510</td>\n      <td>0.304850</td>\n      <td>0.288960</td>\n      <td>0.275930</td>\n      <td>0.266760</td>\n      <td>0.262220</td>\n      <td>0.262620</td>\n      <td>0.267660</td>\n      <td>wiener</td>\n    </tr>\n  </tbody>\n</table>\n<p>285 rows × 21 columns</p>\n</div>"
     },
     "execution_count": 41,
     "metadata": {},
     "output_type": "execute_result"
    }
   ],
   "source": [
    "import numpy as np\n",
    "freeze_support()\n",
    "\n",
    "#names = [\"v\"+str(x) for x in range(1,10)]+[\"d\"]+[\"c\"]\n",
    "data = pd.read_csv(\"train_data.csv\" ,sep=\",\",index_col=0)\n",
    "data = data.fillna(value = 100)\n",
    "data_size = len(data)\n",
    "data"
   ],
   "metadata": {
    "collapsed": false,
    "pycharm": {
     "name": "#%%\n"
    }
   }
  },
  {
   "cell_type": "code",
   "execution_count": 42,
   "outputs": [
    {
     "data": {
      "text/plain": "83    -0.050134\n52     0.717300\n364   -0.389910\n491    0.311880\n254    0.184210\n         ...   \n282   -0.120610\n54     0.651400\n431    1.164000\n151   -0.574060\n243    0.267660\nName: y_9, Length: 285, dtype: float64"
     },
     "execution_count": 42,
     "metadata": {},
     "output_type": "execute_result"
    }
   ],
   "source": [
    "mydata = data.transpose()\n",
    "my_y = data.iloc[:,-2]\n",
    "mydata\n",
    "my_y"
   ],
   "metadata": {
    "collapsed": false,
    "pycharm": {
     "name": "#%%\n"
    }
   }
  },
  {
   "cell_type": "code",
   "execution_count": 43,
   "outputs": [
    {
     "data": {
      "text/plain": "19"
     },
     "execution_count": 43,
     "metadata": {},
     "output_type": "execute_result"
    }
   ],
   "source": [
    "mydata = mydata.drop(mydata.index[[-1,-2]])\n",
    "mydata\n",
    "len(mydata)"
   ],
   "metadata": {
    "collapsed": false,
    "pycharm": {
     "name": "#%%\n"
    }
   }
  },
  {
   "cell_type": "code",
   "execution_count": 44,
   "outputs": [
    {
     "data": {
      "text/plain": "(5415, 1)"
     },
     "execution_count": 44,
     "metadata": {},
     "output_type": "execute_result"
    }
   ],
   "source": [
    "new = mydata.values.transpose().reshape(-1,1)\n",
    "new.shape"
   ],
   "metadata": {
    "collapsed": false,
    "pycharm": {
     "name": "#%%\n"
    }
   }
  },
  {
   "cell_type": "code",
   "execution_count": 45,
   "outputs": [
    {
     "data": {
      "text/plain": "0         0\n1         0\n2         0\n3         0\n4         0\n       ... \n5410    284\n5411    284\n5412    284\n5413    284\n5414    284\nLength: 5415, dtype: int64"
     },
     "execution_count": 45,
     "metadata": {},
     "output_type": "execute_result"
    }
   ],
   "source": [
    "id_list = []\n",
    "for x in range(data_size):\n",
    "    id_list.extend(len(mydata)*[x])\n",
    "my_id = pd.Series(id_list)\n",
    "my_id"
   ],
   "metadata": {
    "collapsed": false,
    "pycharm": {
     "name": "#%%\n"
    }
   }
  },
  {
   "cell_type": "code",
   "execution_count": 46,
   "outputs": [
    {
     "data": {
      "text/plain": "       id  time     value\n0       0     0  0.091048\n1       0     1   0.13656\n2       0     2    0.1583\n3       0     3   0.15397\n4       0     4   0.12417\n...   ...   ...       ...\n5410  284    14   0.28896\n5411  284    15   0.27593\n5412  284    16   0.26676\n5413  284    17   0.26222\n5414  284    18   0.26262\n\n[5415 rows x 3 columns]",
      "text/html": "<div>\n<style scoped>\n    .dataframe tbody tr th:only-of-type {\n        vertical-align: middle;\n    }\n\n    .dataframe tbody tr th {\n        vertical-align: top;\n    }\n\n    .dataframe thead th {\n        text-align: right;\n    }\n</style>\n<table border=\"1\" class=\"dataframe\">\n  <thead>\n    <tr style=\"text-align: right;\">\n      <th></th>\n      <th>id</th>\n      <th>time</th>\n      <th>value</th>\n    </tr>\n  </thead>\n  <tbody>\n    <tr>\n      <th>0</th>\n      <td>0</td>\n      <td>0</td>\n      <td>0.091048</td>\n    </tr>\n    <tr>\n      <th>1</th>\n      <td>0</td>\n      <td>1</td>\n      <td>0.13656</td>\n    </tr>\n    <tr>\n      <th>2</th>\n      <td>0</td>\n      <td>2</td>\n      <td>0.1583</td>\n    </tr>\n    <tr>\n      <th>3</th>\n      <td>0</td>\n      <td>3</td>\n      <td>0.15397</td>\n    </tr>\n    <tr>\n      <th>4</th>\n      <td>0</td>\n      <td>4</td>\n      <td>0.12417</td>\n    </tr>\n    <tr>\n      <th>...</th>\n      <td>...</td>\n      <td>...</td>\n      <td>...</td>\n    </tr>\n    <tr>\n      <th>5410</th>\n      <td>284</td>\n      <td>14</td>\n      <td>0.28896</td>\n    </tr>\n    <tr>\n      <th>5411</th>\n      <td>284</td>\n      <td>15</td>\n      <td>0.27593</td>\n    </tr>\n    <tr>\n      <th>5412</th>\n      <td>284</td>\n      <td>16</td>\n      <td>0.26676</td>\n    </tr>\n    <tr>\n      <th>5413</th>\n      <td>284</td>\n      <td>17</td>\n      <td>0.26222</td>\n    </tr>\n    <tr>\n      <th>5414</th>\n      <td>284</td>\n      <td>18</td>\n      <td>0.26262</td>\n    </tr>\n  </tbody>\n</table>\n<p>5415 rows × 3 columns</p>\n</div>"
     },
     "execution_count": 46,
     "metadata": {},
     "output_type": "execute_result"
    }
   ],
   "source": [
    "tsdata = pd.DataFrame()\n",
    "tsdata[\"id\"] = my_id\n",
    "tsdata[\"time\"] = data_size*[x for x in range(len(mydata))]\n",
    "tsdata[\"value\"] = new\n",
    "tsdata"
   ],
   "metadata": {
    "collapsed": false,
    "pycharm": {
     "name": "#%%\n"
    }
   }
  },
  {
   "cell_type": "code",
   "execution_count": 47,
   "outputs": [
    {
     "name": "stderr",
     "output_type": "stream",
     "text": [
      "Feature Extraction: 100%|██████████| 36/36 [00:01<00:00, 19.02it/s]\n"
     ]
    }
   ],
   "source": [
    "extracted_features = extract_features(tsdata, column_id=\"id\", column_sort=\"time\", default_fc_parameters=MinimalFCParameters())"
   ],
   "metadata": {
    "collapsed": false,
    "pycharm": {
     "name": "#%%\n"
    }
   }
  },
  {
   "cell_type": "code",
   "execution_count": 48,
   "outputs": [],
   "source": [
    "features = extracted_features.dropna(axis=1, how=\"any\")"
   ],
   "metadata": {
    "collapsed": false,
    "pycharm": {
     "name": "#%%\n"
    }
   }
  },
  {
   "cell_type": "code",
   "execution_count": 49,
   "outputs": [
    {
     "data": {
      "text/plain": "     value__sum_values  value__mean  value__median  value__maximum  \\\n0            -1.316731    -0.069302      -0.105520         0.15830   \n1            15.671420     0.824812       0.800910         1.02750   \n2           -20.164360    -1.061282      -1.224700        -0.40244   \n3             6.942598     0.365400       0.380560         0.75013   \n4             6.402663     0.336982       0.296470         0.78718   \n..                 ...          ...            ...             ...   \n280          -1.246450    -0.065603      -0.059422         0.27201   \n281          14.724310     0.774964       0.757040         0.96990   \n282          19.797630     1.041981       1.164300         1.35450   \n283         -10.072715    -0.530143      -0.483480         0.16297   \n284          10.009600     0.526821       0.652840         0.90393   \n\n     value__minimum  value__root_mean_square  \n0         -0.238830                 0.160716  \n1          0.652840                 0.833966  \n2         -1.861800                 1.231816  \n3          0.074218                 0.402522  \n4         -0.141450                 0.412512  \n..              ...                      ...  \n280       -0.292330                 0.166373  \n281        0.652840                 0.780814  \n282        0.652840                 1.080208  \n283       -1.073000                 0.687050  \n284        0.262220                 0.572749  \n\n[285 rows x 6 columns]",
      "text/html": "<div>\n<style scoped>\n    .dataframe tbody tr th:only-of-type {\n        vertical-align: middle;\n    }\n\n    .dataframe tbody tr th {\n        vertical-align: top;\n    }\n\n    .dataframe thead th {\n        text-align: right;\n    }\n</style>\n<table border=\"1\" class=\"dataframe\">\n  <thead>\n    <tr style=\"text-align: right;\">\n      <th></th>\n      <th>value__sum_values</th>\n      <th>value__mean</th>\n      <th>value__median</th>\n      <th>value__maximum</th>\n      <th>value__minimum</th>\n      <th>value__root_mean_square</th>\n    </tr>\n  </thead>\n  <tbody>\n    <tr>\n      <th>0</th>\n      <td>-1.316731</td>\n      <td>-0.069302</td>\n      <td>-0.105520</td>\n      <td>0.15830</td>\n      <td>-0.238830</td>\n      <td>0.160716</td>\n    </tr>\n    <tr>\n      <th>1</th>\n      <td>15.671420</td>\n      <td>0.824812</td>\n      <td>0.800910</td>\n      <td>1.02750</td>\n      <td>0.652840</td>\n      <td>0.833966</td>\n    </tr>\n    <tr>\n      <th>2</th>\n      <td>-20.164360</td>\n      <td>-1.061282</td>\n      <td>-1.224700</td>\n      <td>-0.40244</td>\n      <td>-1.861800</td>\n      <td>1.231816</td>\n    </tr>\n    <tr>\n      <th>3</th>\n      <td>6.942598</td>\n      <td>0.365400</td>\n      <td>0.380560</td>\n      <td>0.75013</td>\n      <td>0.074218</td>\n      <td>0.402522</td>\n    </tr>\n    <tr>\n      <th>4</th>\n      <td>6.402663</td>\n      <td>0.336982</td>\n      <td>0.296470</td>\n      <td>0.78718</td>\n      <td>-0.141450</td>\n      <td>0.412512</td>\n    </tr>\n    <tr>\n      <th>...</th>\n      <td>...</td>\n      <td>...</td>\n      <td>...</td>\n      <td>...</td>\n      <td>...</td>\n      <td>...</td>\n    </tr>\n    <tr>\n      <th>280</th>\n      <td>-1.246450</td>\n      <td>-0.065603</td>\n      <td>-0.059422</td>\n      <td>0.27201</td>\n      <td>-0.292330</td>\n      <td>0.166373</td>\n    </tr>\n    <tr>\n      <th>281</th>\n      <td>14.724310</td>\n      <td>0.774964</td>\n      <td>0.757040</td>\n      <td>0.96990</td>\n      <td>0.652840</td>\n      <td>0.780814</td>\n    </tr>\n    <tr>\n      <th>282</th>\n      <td>19.797630</td>\n      <td>1.041981</td>\n      <td>1.164300</td>\n      <td>1.35450</td>\n      <td>0.652840</td>\n      <td>1.080208</td>\n    </tr>\n    <tr>\n      <th>283</th>\n      <td>-10.072715</td>\n      <td>-0.530143</td>\n      <td>-0.483480</td>\n      <td>0.16297</td>\n      <td>-1.073000</td>\n      <td>0.687050</td>\n    </tr>\n    <tr>\n      <th>284</th>\n      <td>10.009600</td>\n      <td>0.526821</td>\n      <td>0.652840</td>\n      <td>0.90393</td>\n      <td>0.262220</td>\n      <td>0.572749</td>\n    </tr>\n  </tbody>\n</table>\n<p>285 rows × 6 columns</p>\n</div>"
     },
     "execution_count": 49,
     "metadata": {},
     "output_type": "execute_result"
    }
   ],
   "source": [
    "selected = select_features(features, my_y.values, ml_task = \"regression\", fdr_level=0.1 )\n",
    "\n",
    "selected"
   ],
   "metadata": {
    "collapsed": false,
    "pycharm": {
     "name": "#%%\n"
    }
   }
  },
  {
   "cell_type": "code",
   "execution_count": 50,
   "outputs": [
    {
     "data": {
      "text/plain": "     value__sum_values  value__mean  value__median  value__maximum  \\\n0            -1.316731    -0.069302      -0.105520         0.15830   \n1            15.671420     0.824812       0.800910         1.02750   \n2           -20.164360    -1.061282      -1.224700        -0.40244   \n3             6.942598     0.365400       0.380560         0.75013   \n4             6.402663     0.336982       0.296470         0.78718   \n..                 ...          ...            ...             ...   \n280          -1.246450    -0.065603      -0.059422         0.27201   \n281          14.724310     0.774964       0.757040         0.96990   \n282          19.797630     1.041981       1.164300         1.35450   \n283         -10.072715    -0.530143      -0.483480         0.16297   \n284          10.009600     0.526821       0.652840         0.90393   \n\n     value__minimum  value__root_mean_square         y  \n0         -0.238830                 0.160716 -0.050134  \n1          0.652840                 0.833966  0.717300  \n2         -1.861800                 1.231816 -0.389910  \n3          0.074218                 0.402522  0.311880  \n4         -0.141450                 0.412512  0.184210  \n..              ...                      ...       ...  \n280       -0.292330                 0.166373 -0.120610  \n281        0.652840                 0.780814  0.651400  \n282        0.652840                 1.080208  1.164000  \n283       -1.073000                 0.687050 -0.574060  \n284        0.262220                 0.572749  0.267660  \n\n[285 rows x 7 columns]",
      "text/html": "<div>\n<style scoped>\n    .dataframe tbody tr th:only-of-type {\n        vertical-align: middle;\n    }\n\n    .dataframe tbody tr th {\n        vertical-align: top;\n    }\n\n    .dataframe thead th {\n        text-align: right;\n    }\n</style>\n<table border=\"1\" class=\"dataframe\">\n  <thead>\n    <tr style=\"text-align: right;\">\n      <th></th>\n      <th>value__sum_values</th>\n      <th>value__mean</th>\n      <th>value__median</th>\n      <th>value__maximum</th>\n      <th>value__minimum</th>\n      <th>value__root_mean_square</th>\n      <th>y</th>\n    </tr>\n  </thead>\n  <tbody>\n    <tr>\n      <th>0</th>\n      <td>-1.316731</td>\n      <td>-0.069302</td>\n      <td>-0.105520</td>\n      <td>0.15830</td>\n      <td>-0.238830</td>\n      <td>0.160716</td>\n      <td>-0.050134</td>\n    </tr>\n    <tr>\n      <th>1</th>\n      <td>15.671420</td>\n      <td>0.824812</td>\n      <td>0.800910</td>\n      <td>1.02750</td>\n      <td>0.652840</td>\n      <td>0.833966</td>\n      <td>0.717300</td>\n    </tr>\n    <tr>\n      <th>2</th>\n      <td>-20.164360</td>\n      <td>-1.061282</td>\n      <td>-1.224700</td>\n      <td>-0.40244</td>\n      <td>-1.861800</td>\n      <td>1.231816</td>\n      <td>-0.389910</td>\n    </tr>\n    <tr>\n      <th>3</th>\n      <td>6.942598</td>\n      <td>0.365400</td>\n      <td>0.380560</td>\n      <td>0.75013</td>\n      <td>0.074218</td>\n      <td>0.402522</td>\n      <td>0.311880</td>\n    </tr>\n    <tr>\n      <th>4</th>\n      <td>6.402663</td>\n      <td>0.336982</td>\n      <td>0.296470</td>\n      <td>0.78718</td>\n      <td>-0.141450</td>\n      <td>0.412512</td>\n      <td>0.184210</td>\n    </tr>\n    <tr>\n      <th>...</th>\n      <td>...</td>\n      <td>...</td>\n      <td>...</td>\n      <td>...</td>\n      <td>...</td>\n      <td>...</td>\n      <td>...</td>\n    </tr>\n    <tr>\n      <th>280</th>\n      <td>-1.246450</td>\n      <td>-0.065603</td>\n      <td>-0.059422</td>\n      <td>0.27201</td>\n      <td>-0.292330</td>\n      <td>0.166373</td>\n      <td>-0.120610</td>\n    </tr>\n    <tr>\n      <th>281</th>\n      <td>14.724310</td>\n      <td>0.774964</td>\n      <td>0.757040</td>\n      <td>0.96990</td>\n      <td>0.652840</td>\n      <td>0.780814</td>\n      <td>0.651400</td>\n    </tr>\n    <tr>\n      <th>282</th>\n      <td>19.797630</td>\n      <td>1.041981</td>\n      <td>1.164300</td>\n      <td>1.35450</td>\n      <td>0.652840</td>\n      <td>1.080208</td>\n      <td>1.164000</td>\n    </tr>\n    <tr>\n      <th>283</th>\n      <td>-10.072715</td>\n      <td>-0.530143</td>\n      <td>-0.483480</td>\n      <td>0.16297</td>\n      <td>-1.073000</td>\n      <td>0.687050</td>\n      <td>-0.574060</td>\n    </tr>\n    <tr>\n      <th>284</th>\n      <td>10.009600</td>\n      <td>0.526821</td>\n      <td>0.652840</td>\n      <td>0.90393</td>\n      <td>0.262220</td>\n      <td>0.572749</td>\n      <td>0.267660</td>\n    </tr>\n  </tbody>\n</table>\n<p>285 rows × 7 columns</p>\n</div>"
     },
     "execution_count": 50,
     "metadata": {},
     "output_type": "execute_result"
    }
   ],
   "source": [
    "finaldata = selected\n",
    "finaldata[\"y\"] = my_y.values\n",
    "finaldata\n",
    "\n"
   ],
   "metadata": {
    "collapsed": false,
    "pycharm": {
     "name": "#%%\n"
    }
   }
  },
  {
   "cell_type": "code",
   "execution_count": 52,
   "outputs": [],
   "source": [
    "train, test = train_test_split(finaldata, test_size=0.5)\n",
    "#print(test.head())\n",
    "train.to_csv(path_or_buf=\"train_data_ts.csv\", header=list(finaldata.columns), index=True)\n",
    "test.to_csv(path_or_buf=\"test_data_ts.csv\", header=list(finaldata.columns), index=True)"
   ],
   "metadata": {
    "collapsed": false,
    "pycharm": {
     "name": "#%%\n"
    }
   }
  },
  {
   "cell_type": "code",
   "execution_count": 55,
   "outputs": [],
   "source": [
    "with open(\"data_ts_desc.txt\", \"w\") as file:\n",
    "    file.write(\"train_data_ts.csv\")\n",
    "    file.write(\"\\nNA\")\n",
    "    file.write(\"\\n2\")\n",
    "    file.write(\"\\n1 index x\")\n",
    "    for count,i in enumerate(list(finaldata.columns)[:-1]):\n",
    "        file.write(\"\\n\"+str(count+2)+\" \"+str(i)+\" n\")\n",
    "    file.write(\"\\n\"+str(finaldata.shape[1]+1)+ \" y d\")"
   ],
   "metadata": {
    "collapsed": false,
    "pycharm": {
     "name": "#%%\n"
    }
   }
  },
  {
   "cell_type": "code",
   "execution_count": null,
   "outputs": [],
   "source": [],
   "metadata": {
    "collapsed": false,
    "pycharm": {
     "name": "#%%\n"
    }
   }
  }
 ],
 "metadata": {
  "kernelspec": {
   "name": "pycharm-8ff8065b",
   "language": "python",
   "display_name": "PyCharm (Python)"
  },
  "language_info": {
   "codemirror_mode": {
    "name": "ipython",
    "version": 2
   },
   "file_extension": ".py",
   "mimetype": "text/x-python",
   "name": "python",
   "nbconvert_exporter": "python",
   "pygments_lexer": "ipython2",
   "version": "2.7.6"
  }
 },
 "nbformat": 4,
 "nbformat_minor": 0
}