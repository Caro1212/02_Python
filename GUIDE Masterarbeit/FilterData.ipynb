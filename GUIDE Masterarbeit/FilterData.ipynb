{
 "cells": [
  {
   "cell_type": "code",
   "execution_count": 7,
   "metadata": {
    "collapsed": true
   },
   "outputs": [
    {
     "ename": "ModuleNotFoundError",
     "evalue": "No module named 'tsfresh'",
     "output_type": "error",
     "traceback": [
      "\u001B[1;31m---------------------------------------------------------------------------\u001B[0m",
      "\u001B[1;31mModuleNotFoundError\u001B[0m                       Traceback (most recent call last)",
      "\u001B[1;32m<ipython-input-7-d2f6fb764281>\u001B[0m in \u001B[0;36m<module>\u001B[1;34m\u001B[0m\n\u001B[0;32m      6\u001B[0m \u001B[1;32mimport\u001B[0m \u001B[0mReadDrugsData\u001B[0m\u001B[1;33m\u001B[0m\u001B[1;33m\u001B[0m\u001B[0m\n\u001B[0;32m      7\u001B[0m \u001B[1;32mimport\u001B[0m \u001B[0mReadVitalData\u001B[0m\u001B[1;33m\u001B[0m\u001B[1;33m\u001B[0m\u001B[0m\n\u001B[1;32m----> 8\u001B[1;33m \u001B[1;32mfrom\u001B[0m \u001B[0mtsfresh\u001B[0m \u001B[1;32mimport\u001B[0m \u001B[0mextract_relevant_features\u001B[0m\u001B[1;33m\u001B[0m\u001B[1;33m\u001B[0m\u001B[0m\n\u001B[0m\u001B[0;32m      9\u001B[0m \u001B[1;32mfrom\u001B[0m \u001B[0mmultiprocessing\u001B[0m \u001B[1;32mimport\u001B[0m \u001B[0mfreeze_support\u001B[0m\u001B[1;33m\u001B[0m\u001B[1;33m\u001B[0m\u001B[0m\n\u001B[0;32m     10\u001B[0m \u001B[1;32mfrom\u001B[0m \u001B[0mtsfresh\u001B[0m \u001B[1;32mimport\u001B[0m \u001B[0mextract_features\u001B[0m\u001B[1;33m\u001B[0m\u001B[1;33m\u001B[0m\u001B[0m\n",
      "\u001B[1;31mModuleNotFoundError\u001B[0m: No module named 'tsfresh'"
     ]
    }
   ],
   "source": [
    "from multiprocessing import freeze_support\n",
    "from Guide_ausführen import run_guide\n",
    "import pandas as pd\n",
    "import PreprocessingData\n",
    "from datetime import datetime, timedelta\n",
    "import ReadDrugsData\n",
    "import ReadVitalData"
   ]
  },
  {
   "cell_type": "code",
   "execution_count": 4,
   "outputs": [
    {
     "name": "stderr",
     "output_type": "stream",
     "text": [
      "C:\\Users\\Caroline Kries\\sciebo\\Forschungsprojekt Medikamenteninteraktion\\04_Quellcode\\02_Python\\GUIDE Masterarbeit\\PreprocessingData.py:22: SettingWithCopyWarning: \n",
      "A value is trying to be set on a copy of a slice from a DataFrame.\n",
      "Try using .loc[row_indexer,col_indexer] = value instead\n",
      "\n",
      "See the caveats in the documentation: https://pandas.pydata.org/pandas-docs/stable/user_guide/indexing.html#returning-a-view-versus-a-copy\n",
      "  bz[\"wert\"] = num\n",
      "C:\\Users\\Caroline Kries\\sciebo\\Forschungsprojekt Medikamenteninteraktion\\04_Quellcode\\02_Python\\GUIDE Masterarbeit\\PreprocessingData.py:23: SettingWithCopyWarning: \n",
      "A value is trying to be set on a copy of a slice from a DataFrame\n",
      "\n",
      "See the caveats in the documentation: https://pandas.pydata.org/pandas-docs/stable/user_guide/indexing.html#returning-a-view-versus-a-copy\n",
      "  bz.sort_values(by='datum',inplace=True)\n",
      "C:\\Users\\Caroline Kries\\sciebo\\Forschungsprojekt Medikamenteninteraktion\\04_Quellcode\\02_Python\\GUIDE Masterarbeit\\PreprocessingData.py:33: SettingWithCopyWarning: \n",
      "A value is trying to be set on a copy of a slice from a DataFrame.\n",
      "Try using .loc[row_indexer,col_indexer] = value instead\n",
      "\n",
      "See the caveats in the documentation: https://pandas.pydata.org/pandas-docs/stable/user_guide/indexing.html#returning-a-view-versus-a-copy\n",
      "  gw[\"wert\"] = num\n",
      "C:\\Users\\Caroline Kries\\sciebo\\Forschungsprojekt Medikamenteninteraktion\\04_Quellcode\\02_Python\\GUIDE Masterarbeit\\PreprocessingData.py:34: SettingWithCopyWarning: \n",
      "A value is trying to be set on a copy of a slice from a DataFrame\n",
      "\n",
      "See the caveats in the documentation: https://pandas.pydata.org/pandas-docs/stable/user_guide/indexing.html#returning-a-view-versus-a-copy\n",
      "  gw.sort_values(by='datum',inplace=True)\n",
      "C:\\Users\\Caroline Kries\\sciebo\\Forschungsprojekt Medikamenteninteraktion\\04_Quellcode\\02_Python\\GUIDE Masterarbeit\\PreprocessingData.py:43: SettingWithCopyWarning: \n",
      "A value is trying to be set on a copy of a slice from a DataFrame.\n",
      "Try using .loc[row_indexer,col_indexer] = value instead\n",
      "\n",
      "See the caveats in the documentation: https://pandas.pydata.org/pandas-docs/stable/user_guide/indexing.html#returning-a-view-versus-a-copy\n",
      "  bmi[\"wert\"] = num\n",
      "C:\\Users\\Caroline Kries\\sciebo\\Forschungsprojekt Medikamenteninteraktion\\04_Quellcode\\02_Python\\GUIDE Masterarbeit\\PreprocessingData.py:44: SettingWithCopyWarning: \n",
      "A value is trying to be set on a copy of a slice from a DataFrame\n",
      "\n",
      "See the caveats in the documentation: https://pandas.pydata.org/pandas-docs/stable/user_guide/indexing.html#returning-a-view-versus-a-copy\n",
      "  bmi.sort_values(by='datum',inplace=True)\n",
      "C:\\Users\\Caroline Kries\\sciebo\\Forschungsprojekt Medikamenteninteraktion\\04_Quellcode\\02_Python\\GUIDE Masterarbeit\\PreprocessingData.py:57: SettingWithCopyWarning: \n",
      "A value is trying to be set on a copy of a slice from a DataFrame.\n",
      "Try using .loc[row_indexer,col_indexer] = value instead\n",
      "\n",
      "See the caveats in the documentation: https://pandas.pydata.org/pandas-docs/stable/user_guide/indexing.html#returning-a-view-versus-a-copy\n",
      "  bd[\"sys\"] = sys\n",
      "C:\\Users\\Caroline Kries\\sciebo\\Forschungsprojekt Medikamenteninteraktion\\04_Quellcode\\02_Python\\GUIDE Masterarbeit\\PreprocessingData.py:58: SettingWithCopyWarning: \n",
      "A value is trying to be set on a copy of a slice from a DataFrame.\n",
      "Try using .loc[row_indexer,col_indexer] = value instead\n",
      "\n",
      "See the caveats in the documentation: https://pandas.pydata.org/pandas-docs/stable/user_guide/indexing.html#returning-a-view-versus-a-copy\n",
      "  bd[\"dia\"] = dia\n",
      "C:\\Users\\Caroline Kries\\sciebo\\Forschungsprojekt Medikamenteninteraktion\\04_Quellcode\\02_Python\\GUIDE Masterarbeit\\PreprocessingData.py:59: SettingWithCopyWarning: \n",
      "A value is trying to be set on a copy of a slice from a DataFrame\n",
      "\n",
      "See the caveats in the documentation: https://pandas.pydata.org/pandas-docs/stable/user_guide/indexing.html#returning-a-view-versus-a-copy\n",
      "  bd.sort_values(by='datum',inplace=True)\n"
     ]
    },
    {
     "data": {
      "text/plain": "            Torasemid  Insulin aspart  Metamizol natrium-1-Wasser  \\\n2013-10-06  15.000000    33840.000000                         0.0   \n2013-10-13  12.857143    27771.428571                         0.0   \n2013-10-20  15.000000    42300.000000                         0.0   \n2013-10-27  12.857143    36642.857143                         0.0   \n2013-11-03  12.857143    29700.000000                         0.0   \n...               ...             ...                         ...   \n2016-04-17   0.000000        0.000000                         0.0   \n2016-04-24   0.000000        0.000000                         0.0   \n2016-05-01   0.000000        0.000000                         0.0   \n2016-05-08   0.000000        0.000000                         0.0   \n2016-05-15   0.000000        0.000000                      1000.0   \n\n            Amlodipin besilat  Acetylsalicylsäure  Insulin glargin  \\\n2013-10-06              27.72          300.000000     18000.000000   \n2013-10-13              23.76          257.142857     12857.142857   \n2013-10-20              27.72          300.000000     12857.142857   \n2013-10-27              23.76          257.142857     10285.714286   \n2013-11-03              23.76          257.142857      2571.428571   \n...                       ...                 ...              ...   \n2016-04-17               0.00            0.000000      7714.285714   \n2016-04-24               0.00            0.000000      5785.714286   \n2016-05-01               0.00            0.000000      4500.000000   \n2016-05-08               0.00            0.000000      3857.142857   \n2016-05-15               0.00            0.000000      1500.000000   \n\n            Pantoprazol natrium-1,5-Wasser  Carbidopa-1-Wasser     Levodopa  \\\n2013-10-06                      135.330000            0.000000   900.000000   \n2013-10-13                      115.997143            0.000000   728.571429   \n2013-10-20                      135.330000            0.000000   857.142857   \n2013-10-27                      115.997143            0.000000   728.571429   \n2013-11-03                      115.997143            0.000000   728.571429   \n...                                    ...                 ...          ...   \n2016-04-17                        0.000000          312.312857  1457.142857   \n2016-04-24                        0.000000          335.447143  1542.857143   \n2016-05-01                        0.000000          289.178571  1371.428571   \n2016-05-08                        0.000000          323.880000  1500.000000   \n2016-05-15                        0.000000          323.880000  1400.000000   \n\n            Insulin, normal (human)  ...  Hydrochlorothiazid  \\\n2013-10-06                 0.000000  ...                 0.0   \n2013-10-13                 0.000000  ...                 0.0   \n2013-10-20                 0.000000  ...                 0.0   \n2013-10-27                 0.000000  ...                 0.0   \n2013-11-03                 0.000000  ...                 0.0   \n...                             ...  ...                 ...   \n2016-04-17              9900.000000  ...                 0.0   \n2016-04-24              8485.714286  ...                 0.0   \n2016-05-01              6685.714286  ...                 0.0   \n2016-05-08              8871.428571  ...                 0.0   \n2016-05-15             12900.000000  ...                 0.0   \n\n            Glyceroltrinitrat  Levetiracetam  Morphin sulfat  \\\n2013-10-06                0.0       0.000000             0.0   \n2013-10-13                0.0       0.000000             0.0   \n2013-10-20                0.0       0.000000             0.0   \n2013-10-27                0.0       0.000000             0.0   \n2013-11-03                0.0       0.000000             0.0   \n...                       ...            ...             ...   \n2016-04-17                0.0     428.571429             0.0   \n2016-04-24                0.0    2857.142857             0.0   \n2016-05-01                0.0    2785.714286             0.0   \n2016-05-08                0.0    3000.000000             0.0   \n2016-05-15                0.0    3000.000000            10.0   \n\n            Enoxaparin natrium  blutzucker         sys    dia    gewicht  \\\n2013-10-06                 0.0  263.583333  130.000000   80.0  82.800000   \n2013-10-13                 0.0  222.476190  130.000000   80.0  82.600000   \n2013-10-20                 0.0  290.483333  131.666667   80.0  81.066667   \n2013-10-27                 0.0  292.166667  133.333333   80.0  79.533333   \n2013-11-03                 0.0  276.183333  135.000000   80.0  78.000000   \n...                        ...         ...         ...    ...        ...   \n2016-04-17                 0.0  141.857143  170.000000  100.0  61.600000   \n2016-04-24                 0.0  144.178571  100.000000   60.0  61.600000   \n2016-05-01                 0.0  182.618367  120.000000   90.0  61.600000   \n2016-05-08                 0.0  189.971429  120.000000   90.0  61.600000   \n2016-05-15                 0.0  224.583333  120.000000   90.0  61.600000   \n\n                  bmi  \n2013-10-06  30.410000  \n2013-10-13  30.340000  \n2013-10-20  29.776667  \n2013-10-27  29.213333  \n2013-11-03  28.650000  \n...               ...  \n2016-04-17  22.630000  \n2016-04-24  22.630000  \n2016-05-01  22.630000  \n2016-05-08  22.630000  \n2016-05-15  22.630000  \n\n[137 rows x 34 columns]",
      "text/html": "<div>\n<style scoped>\n    .dataframe tbody tr th:only-of-type {\n        vertical-align: middle;\n    }\n\n    .dataframe tbody tr th {\n        vertical-align: top;\n    }\n\n    .dataframe thead th {\n        text-align: right;\n    }\n</style>\n<table border=\"1\" class=\"dataframe\">\n  <thead>\n    <tr style=\"text-align: right;\">\n      <th></th>\n      <th>Torasemid</th>\n      <th>Insulin aspart</th>\n      <th>Metamizol natrium-1-Wasser</th>\n      <th>Amlodipin besilat</th>\n      <th>Acetylsalicylsäure</th>\n      <th>Insulin glargin</th>\n      <th>Pantoprazol natrium-1,5-Wasser</th>\n      <th>Carbidopa-1-Wasser</th>\n      <th>Levodopa</th>\n      <th>Insulin, normal (human)</th>\n      <th>...</th>\n      <th>Hydrochlorothiazid</th>\n      <th>Glyceroltrinitrat</th>\n      <th>Levetiracetam</th>\n      <th>Morphin sulfat</th>\n      <th>Enoxaparin natrium</th>\n      <th>blutzucker</th>\n      <th>sys</th>\n      <th>dia</th>\n      <th>gewicht</th>\n      <th>bmi</th>\n    </tr>\n  </thead>\n  <tbody>\n    <tr>\n      <th>2013-10-06</th>\n      <td>15.000000</td>\n      <td>33840.000000</td>\n      <td>0.0</td>\n      <td>27.72</td>\n      <td>300.000000</td>\n      <td>18000.000000</td>\n      <td>135.330000</td>\n      <td>0.000000</td>\n      <td>900.000000</td>\n      <td>0.000000</td>\n      <td>...</td>\n      <td>0.0</td>\n      <td>0.0</td>\n      <td>0.000000</td>\n      <td>0.0</td>\n      <td>0.0</td>\n      <td>263.583333</td>\n      <td>130.000000</td>\n      <td>80.0</td>\n      <td>82.800000</td>\n      <td>30.410000</td>\n    </tr>\n    <tr>\n      <th>2013-10-13</th>\n      <td>12.857143</td>\n      <td>27771.428571</td>\n      <td>0.0</td>\n      <td>23.76</td>\n      <td>257.142857</td>\n      <td>12857.142857</td>\n      <td>115.997143</td>\n      <td>0.000000</td>\n      <td>728.571429</td>\n      <td>0.000000</td>\n      <td>...</td>\n      <td>0.0</td>\n      <td>0.0</td>\n      <td>0.000000</td>\n      <td>0.0</td>\n      <td>0.0</td>\n      <td>222.476190</td>\n      <td>130.000000</td>\n      <td>80.0</td>\n      <td>82.600000</td>\n      <td>30.340000</td>\n    </tr>\n    <tr>\n      <th>2013-10-20</th>\n      <td>15.000000</td>\n      <td>42300.000000</td>\n      <td>0.0</td>\n      <td>27.72</td>\n      <td>300.000000</td>\n      <td>12857.142857</td>\n      <td>135.330000</td>\n      <td>0.000000</td>\n      <td>857.142857</td>\n      <td>0.000000</td>\n      <td>...</td>\n      <td>0.0</td>\n      <td>0.0</td>\n      <td>0.000000</td>\n      <td>0.0</td>\n      <td>0.0</td>\n      <td>290.483333</td>\n      <td>131.666667</td>\n      <td>80.0</td>\n      <td>81.066667</td>\n      <td>29.776667</td>\n    </tr>\n    <tr>\n      <th>2013-10-27</th>\n      <td>12.857143</td>\n      <td>36642.857143</td>\n      <td>0.0</td>\n      <td>23.76</td>\n      <td>257.142857</td>\n      <td>10285.714286</td>\n      <td>115.997143</td>\n      <td>0.000000</td>\n      <td>728.571429</td>\n      <td>0.000000</td>\n      <td>...</td>\n      <td>0.0</td>\n      <td>0.0</td>\n      <td>0.000000</td>\n      <td>0.0</td>\n      <td>0.0</td>\n      <td>292.166667</td>\n      <td>133.333333</td>\n      <td>80.0</td>\n      <td>79.533333</td>\n      <td>29.213333</td>\n    </tr>\n    <tr>\n      <th>2013-11-03</th>\n      <td>12.857143</td>\n      <td>29700.000000</td>\n      <td>0.0</td>\n      <td>23.76</td>\n      <td>257.142857</td>\n      <td>2571.428571</td>\n      <td>115.997143</td>\n      <td>0.000000</td>\n      <td>728.571429</td>\n      <td>0.000000</td>\n      <td>...</td>\n      <td>0.0</td>\n      <td>0.0</td>\n      <td>0.000000</td>\n      <td>0.0</td>\n      <td>0.0</td>\n      <td>276.183333</td>\n      <td>135.000000</td>\n      <td>80.0</td>\n      <td>78.000000</td>\n      <td>28.650000</td>\n    </tr>\n    <tr>\n      <th>...</th>\n      <td>...</td>\n      <td>...</td>\n      <td>...</td>\n      <td>...</td>\n      <td>...</td>\n      <td>...</td>\n      <td>...</td>\n      <td>...</td>\n      <td>...</td>\n      <td>...</td>\n      <td>...</td>\n      <td>...</td>\n      <td>...</td>\n      <td>...</td>\n      <td>...</td>\n      <td>...</td>\n      <td>...</td>\n      <td>...</td>\n      <td>...</td>\n      <td>...</td>\n      <td>...</td>\n    </tr>\n    <tr>\n      <th>2016-04-17</th>\n      <td>0.000000</td>\n      <td>0.000000</td>\n      <td>0.0</td>\n      <td>0.00</td>\n      <td>0.000000</td>\n      <td>7714.285714</td>\n      <td>0.000000</td>\n      <td>312.312857</td>\n      <td>1457.142857</td>\n      <td>9900.000000</td>\n      <td>...</td>\n      <td>0.0</td>\n      <td>0.0</td>\n      <td>428.571429</td>\n      <td>0.0</td>\n      <td>0.0</td>\n      <td>141.857143</td>\n      <td>170.000000</td>\n      <td>100.0</td>\n      <td>61.600000</td>\n      <td>22.630000</td>\n    </tr>\n    <tr>\n      <th>2016-04-24</th>\n      <td>0.000000</td>\n      <td>0.000000</td>\n      <td>0.0</td>\n      <td>0.00</td>\n      <td>0.000000</td>\n      <td>5785.714286</td>\n      <td>0.000000</td>\n      <td>335.447143</td>\n      <td>1542.857143</td>\n      <td>8485.714286</td>\n      <td>...</td>\n      <td>0.0</td>\n      <td>0.0</td>\n      <td>2857.142857</td>\n      <td>0.0</td>\n      <td>0.0</td>\n      <td>144.178571</td>\n      <td>100.000000</td>\n      <td>60.0</td>\n      <td>61.600000</td>\n      <td>22.630000</td>\n    </tr>\n    <tr>\n      <th>2016-05-01</th>\n      <td>0.000000</td>\n      <td>0.000000</td>\n      <td>0.0</td>\n      <td>0.00</td>\n      <td>0.000000</td>\n      <td>4500.000000</td>\n      <td>0.000000</td>\n      <td>289.178571</td>\n      <td>1371.428571</td>\n      <td>6685.714286</td>\n      <td>...</td>\n      <td>0.0</td>\n      <td>0.0</td>\n      <td>2785.714286</td>\n      <td>0.0</td>\n      <td>0.0</td>\n      <td>182.618367</td>\n      <td>120.000000</td>\n      <td>90.0</td>\n      <td>61.600000</td>\n      <td>22.630000</td>\n    </tr>\n    <tr>\n      <th>2016-05-08</th>\n      <td>0.000000</td>\n      <td>0.000000</td>\n      <td>0.0</td>\n      <td>0.00</td>\n      <td>0.000000</td>\n      <td>3857.142857</td>\n      <td>0.000000</td>\n      <td>323.880000</td>\n      <td>1500.000000</td>\n      <td>8871.428571</td>\n      <td>...</td>\n      <td>0.0</td>\n      <td>0.0</td>\n      <td>3000.000000</td>\n      <td>0.0</td>\n      <td>0.0</td>\n      <td>189.971429</td>\n      <td>120.000000</td>\n      <td>90.0</td>\n      <td>61.600000</td>\n      <td>22.630000</td>\n    </tr>\n    <tr>\n      <th>2016-05-15</th>\n      <td>0.000000</td>\n      <td>0.000000</td>\n      <td>1000.0</td>\n      <td>0.00</td>\n      <td>0.000000</td>\n      <td>1500.000000</td>\n      <td>0.000000</td>\n      <td>323.880000</td>\n      <td>1400.000000</td>\n      <td>12900.000000</td>\n      <td>...</td>\n      <td>0.0</td>\n      <td>0.0</td>\n      <td>3000.000000</td>\n      <td>10.0</td>\n      <td>0.0</td>\n      <td>224.583333</td>\n      <td>120.000000</td>\n      <td>90.0</td>\n      <td>61.600000</td>\n      <td>22.630000</td>\n    </tr>\n  </tbody>\n</table>\n<p>137 rows × 34 columns</p>\n</div>"
     },
     "execution_count": 4,
     "metadata": {},
     "output_type": "execute_result"
    }
   ],
   "source": [
    "vital = ReadVitalData.vital\n",
    "mydi = ReadDrugsData.di\n",
    "klients = ReadVitalData.klients\n",
    "n=3\n",
    "df = PreprocessingData.get_final_klient_data(97, klients, vital, mydi)\n",
    "df"
   ],
   "metadata": {
    "collapsed": false,
    "pycharm": {
     "name": "#%%\n"
    }
   }
  },
  {
   "cell_type": "code",
   "execution_count": 5,
   "outputs": [],
   "source": [
    "spalten = [x for x in df.columns if x.startswith(\"Insulin\") or x in [\"bmi\",\"blutzucker\",\"gewicht\",\"sys\",\"dia\"]]\n",
    "\n",
    "df = df[spalten]"
   ],
   "metadata": {
    "collapsed": false,
    "pycharm": {
     "name": "#%%\n"
    }
   }
  },
  {
   "cell_type": "code",
   "execution_count": 6,
   "outputs": [],
   "source": [
    "x,y = PreprocessingData.get_train_data(df, n, m=\"max\")\n",
    "\n"
   ],
   "metadata": {
    "collapsed": false,
    "pycharm": {
     "name": "#%%\n"
    }
   }
  },
  {
   "cell_type": "code",
   "execution_count": null,
   "outputs": [],
   "source": [
    "guide_data = PreprocessingData.get_guide_data(x,y,n)\n",
    "guide_data.columns = [x.replace(\",\",\"_\") for x in guide_data.columns]\n",
    "guide_data.columns = [x.replace(\" \",\"_\") for x in guide_data.columns]\n"
   ],
   "metadata": {
    "collapsed": false,
    "pycharm": {
     "name": "#%%\n"
    }
   }
  },
  {
   "cell_type": "code",
   "execution_count": null,
   "outputs": [],
   "source": [
    "guide_data.to_csv(path_or_buf=\"train_data.csv\", header=list(guide_data.columns), index=False)\n",
    "with open(\"data_desc.txt\",\"w\") as file:\n",
    "    file.write(\"train_data.csv\")\n",
    "    file.write(\"\\nNaN\")\n",
    "    file.write(\"\\n2\")\n",
    "    for count, col in enumerate(list(guide_data.columns)[:-1]):\n",
    "        file.write(\"\\n\" + str(count+1) + \" \" + col + \" n\") #alle variablen dürfen splitten und regressor sein\n",
    "    file.write(\"\\n\" + str(len(list(guide_data.columns))) + \" y d\")"
   ],
   "metadata": {
    "collapsed": false,
    "pycharm": {
     "name": "#%%\n"
    }
   }
  },
  {
   "cell_type": "code",
   "execution_count": 8,
   "outputs": [],
   "source": [
    "import CreateInputfile"
   ],
   "metadata": {
    "collapsed": false,
    "pycharm": {
     "name": "#%%\n"
    }
   }
  },
  {
   "cell_type": "code",
   "execution_count": null,
   "outputs": [],
   "source": [
    "input_file = \"Input.txt\"\n",
    "output_file = \"Output.txt\"\n",
    "r_file = \"predict.r\"\n",
    "train_data = \"train_data.csv\"\n",
    "test_data = \"train_data.csv\"\n",
    "latex_file_name = \"tree\"\n",
    "model = \"multiple\"  #must be one of constant, simple or multiple\n",
    "\n",
    "run_guide(input_file, r_file, train_data, test_data, latex_file_name)\n",
    "\n"
   ],
   "metadata": {
    "collapsed": false,
    "pycharm": {
     "name": "#%%\n"
    }
   }
  },
  {
   "cell_type": "code",
   "execution_count": null,
   "outputs": [],
   "source": [],
   "metadata": {
    "collapsed": false,
    "pycharm": {
     "name": "#%%\n"
    }
   }
  }
 ],
 "metadata": {
  "kernelspec": {
   "display_name": "Python 3",
   "language": "python",
   "name": "python3"
  },
  "language_info": {
   "codemirror_mode": {
    "name": "ipython",
    "version": 2
   },
   "file_extension": ".py",
   "mimetype": "text/x-python",
   "name": "python",
   "nbconvert_exporter": "python",
   "pygments_lexer": "ipython2",
   "version": "2.7.6"
  }
 },
 "nbformat": 4,
 "nbformat_minor": 0
}