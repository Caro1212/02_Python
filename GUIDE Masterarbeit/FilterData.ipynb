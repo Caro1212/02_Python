{
 "cells": [
  {
   "cell_type": "code",
   "execution_count": 1,
   "metadata": {
    "collapsed": true
   },
   "outputs": [
    {
     "name": "stderr",
     "output_type": "stream",
     "text": [
      "C:\\Users\\Caroline Kries\\sciebo\\Forschungsprojekt Medikamenteninteraktion\\04_Quellcode\\02_Python\\GUIDE Masterarbeit\\PreprocessingData.py:21: SettingWithCopyWarning: \n",
      "A value is trying to be set on a copy of a slice from a DataFrame.\n",
      "Try using .loc[row_indexer,col_indexer] = value instead\n",
      "\n",
      "See the caveats in the documentation: https://pandas.pydata.org/pandas-docs/stable/user_guide/indexing.html#returning-a-view-versus-a-copy\n",
      "  bz[\"wert\"] = num\n",
      "C:\\Users\\Caroline Kries\\sciebo\\Forschungsprojekt Medikamenteninteraktion\\04_Quellcode\\02_Python\\GUIDE Masterarbeit\\PreprocessingData.py:22: SettingWithCopyWarning: \n",
      "A value is trying to be set on a copy of a slice from a DataFrame\n",
      "\n",
      "See the caveats in the documentation: https://pandas.pydata.org/pandas-docs/stable/user_guide/indexing.html#returning-a-view-versus-a-copy\n",
      "  bz.sort_values(by='datum',inplace=True)\n",
      "C:\\Users\\Caroline Kries\\sciebo\\Forschungsprojekt Medikamenteninteraktion\\04_Quellcode\\02_Python\\GUIDE Masterarbeit\\PreprocessingData.py:32: SettingWithCopyWarning: \n",
      "A value is trying to be set on a copy of a slice from a DataFrame.\n",
      "Try using .loc[row_indexer,col_indexer] = value instead\n",
      "\n",
      "See the caveats in the documentation: https://pandas.pydata.org/pandas-docs/stable/user_guide/indexing.html#returning-a-view-versus-a-copy\n",
      "  gw[\"wert\"] = num\n",
      "C:\\Users\\Caroline Kries\\sciebo\\Forschungsprojekt Medikamenteninteraktion\\04_Quellcode\\02_Python\\GUIDE Masterarbeit\\PreprocessingData.py:33: SettingWithCopyWarning: \n",
      "A value is trying to be set on a copy of a slice from a DataFrame\n",
      "\n",
      "See the caveats in the documentation: https://pandas.pydata.org/pandas-docs/stable/user_guide/indexing.html#returning-a-view-versus-a-copy\n",
      "  gw.sort_values(by='datum',inplace=True)\n",
      "C:\\Users\\Caroline Kries\\sciebo\\Forschungsprojekt Medikamenteninteraktion\\04_Quellcode\\02_Python\\GUIDE Masterarbeit\\PreprocessingData.py:42: SettingWithCopyWarning: \n",
      "A value is trying to be set on a copy of a slice from a DataFrame.\n",
      "Try using .loc[row_indexer,col_indexer] = value instead\n",
      "\n",
      "See the caveats in the documentation: https://pandas.pydata.org/pandas-docs/stable/user_guide/indexing.html#returning-a-view-versus-a-copy\n",
      "  bmi[\"wert\"] = num\n",
      "C:\\Users\\Caroline Kries\\sciebo\\Forschungsprojekt Medikamenteninteraktion\\04_Quellcode\\02_Python\\GUIDE Masterarbeit\\PreprocessingData.py:43: SettingWithCopyWarning: \n",
      "A value is trying to be set on a copy of a slice from a DataFrame\n",
      "\n",
      "See the caveats in the documentation: https://pandas.pydata.org/pandas-docs/stable/user_guide/indexing.html#returning-a-view-versus-a-copy\n",
      "  bmi.sort_values(by='datum',inplace=True)\n",
      "C:\\Users\\Caroline Kries\\sciebo\\Forschungsprojekt Medikamenteninteraktion\\04_Quellcode\\02_Python\\GUIDE Masterarbeit\\PreprocessingData.py:56: SettingWithCopyWarning: \n",
      "A value is trying to be set on a copy of a slice from a DataFrame.\n",
      "Try using .loc[row_indexer,col_indexer] = value instead\n",
      "\n",
      "See the caveats in the documentation: https://pandas.pydata.org/pandas-docs/stable/user_guide/indexing.html#returning-a-view-versus-a-copy\n",
      "  bd[\"sys\"] = sys\n",
      "C:\\Users\\Caroline Kries\\sciebo\\Forschungsprojekt Medikamenteninteraktion\\04_Quellcode\\02_Python\\GUIDE Masterarbeit\\PreprocessingData.py:57: SettingWithCopyWarning: \n",
      "A value is trying to be set on a copy of a slice from a DataFrame.\n",
      "Try using .loc[row_indexer,col_indexer] = value instead\n",
      "\n",
      "See the caveats in the documentation: https://pandas.pydata.org/pandas-docs/stable/user_guide/indexing.html#returning-a-view-versus-a-copy\n",
      "  bd[\"dia\"] = dia\n",
      "C:\\Users\\Caroline Kries\\sciebo\\Forschungsprojekt Medikamenteninteraktion\\04_Quellcode\\02_Python\\GUIDE Masterarbeit\\PreprocessingData.py:58: SettingWithCopyWarning: \n",
      "A value is trying to be set on a copy of a slice from a DataFrame\n",
      "\n",
      "See the caveats in the documentation: https://pandas.pydata.org/pandas-docs/stable/user_guide/indexing.html#returning-a-view-versus-a-copy\n",
      "  bd.sort_values(by='datum',inplace=True)\n"
     ]
    }
   ],
   "source": [
    "import pandas as pd\n",
    "import PreprocessingData\n",
    "from datetime import datetime, timedelta"
   ]
  },
  {
   "cell_type": "code",
   "execution_count": 2,
   "outputs": [
    {
     "data": {
      "text/plain": "             Ramipril  Pantoprazol natrium-1,5-Wasser  Insulin glargin  \\\n2017-02-19  11.250000                      101.497500     16200.000000   \n2017-02-26  15.000000                      135.330000     18514.285714   \n2017-03-05  15.000000                      135.330000     16200.000000   \n2017-03-12  15.000000                      135.330000     13885.714286   \n2017-03-19  12.857143                      115.997143     16200.000000   \n...               ...                             ...              ...   \n2021-11-28   0.000000                      115.997143         0.000000   \n2021-12-05   0.000000                      135.330000         0.000000   \n2021-12-12   0.000000                       96.664286         0.000000   \n2021-12-19   0.000000                      115.997143         0.000000   \n2021-12-26   0.000000                      135.330000         0.000000   \n\n            Simvastatin  Colecalciferol  Torasemid  Natriumchlorid  \\\n2017-02-19          0.0        0.056250  11.250000             0.0   \n2017-02-26          0.0        0.075000  15.000000             0.0   \n2017-03-05          0.0        0.075000  15.000000             0.0   \n2017-03-12          0.0        0.075000  15.000000             0.0   \n2017-03-19          0.0        0.064286  12.857143             0.0   \n...                 ...             ...        ...             ...   \n2021-11-28          0.0        0.064286   0.000000             0.0   \n2021-12-05          0.0        0.075000   0.000000             0.0   \n2021-12-12          0.0        0.053571   0.000000             0.0   \n2021-12-19          0.0        0.064286   0.000000             0.0   \n2021-12-26          0.0        0.075000   0.000000             0.0   \n\n            Natriumhydrogencarbonat  Macrogol 3350  Kaliumchlorid  ...  \\\n2017-02-19                      0.0            0.0            0.0  ...   \n2017-02-26                      0.0            0.0            0.0  ...   \n2017-03-05                      0.0            0.0            0.0  ...   \n2017-03-12                      0.0            0.0            0.0  ...   \n2017-03-19                      0.0            0.0            0.0  ...   \n...                             ...            ...            ...  ...   \n2021-11-28                      0.0            0.0            0.0  ...   \n2021-12-05                      0.0            0.0            0.0  ...   \n2021-12-12                      0.0            0.0            0.0  ...   \n2021-12-19                      0.0            0.0            0.0  ...   \n2021-12-26                      0.0            0.0            0.0  ...   \n\n             Apixaban  Melperon hydrochlorid  Allopurinol  Insulin glulisin  \\\n2017-02-19   0.000000            1125.000000   225.000000      14850.000000   \n2017-02-26   0.000000            1125.000000   300.000000      18128.571429   \n2017-03-05   0.000000            1125.000000   300.000000      27900.000000   \n2017-03-12   0.000000             964.285714   300.000000      18128.571429   \n2017-03-19   0.000000            1125.000000   257.142857      17100.000000   \n...               ...                    ...          ...               ...   \n2021-11-28  13.928571            1017.857143     0.000000      15171.428571   \n2021-12-05  15.000000            1125.000000     0.000000      13500.000000   \n2021-12-12  12.857143             910.714286     0.000000      12342.857143   \n2021-12-19  13.928571            1017.857143     0.000000      11700.000000   \n2021-12-26  13.125000             843.750000     0.000000      11250.000000   \n\n            Rivaroxaban  blutzucker         sys        dia  gewicht      bmi  \n2017-02-19    22.500000  203.833333  125.000000  65.000000   61.300  27.2400  \n2017-02-26    30.000000  208.619048  121.428571  58.571429   63.500  28.2200  \n2017-03-05    30.000000  228.833333  120.000000  60.000000   65.700  29.2000  \n2017-03-12    30.000000  220.761905  120.000000  66.666667   65.875  29.2775  \n2017-03-19    25.714286  214.809524  122.000000  65.000000   66.050  29.3550  \n...                 ...         ...         ...        ...      ...      ...  \n2021-11-28     0.000000  170.476190  120.000000  70.000000   65.500  29.1100  \n2021-12-05     0.000000  164.630952  120.000000  70.000000   65.700  29.2000  \n2021-12-12     0.000000  172.940476  120.000000  70.000000   65.700  29.2000  \n2021-12-19     0.000000  178.380952  120.000000  70.000000   65.700  29.2000  \n2021-12-26     0.000000  176.291667  120.000000  70.000000   65.700  29.2000  \n\n[254 rows x 22 columns]",
      "text/html": "<div>\n<style scoped>\n    .dataframe tbody tr th:only-of-type {\n        vertical-align: middle;\n    }\n\n    .dataframe tbody tr th {\n        vertical-align: top;\n    }\n\n    .dataframe thead th {\n        text-align: right;\n    }\n</style>\n<table border=\"1\" class=\"dataframe\">\n  <thead>\n    <tr style=\"text-align: right;\">\n      <th></th>\n      <th>Ramipril</th>\n      <th>Pantoprazol natrium-1,5-Wasser</th>\n      <th>Insulin glargin</th>\n      <th>Simvastatin</th>\n      <th>Colecalciferol</th>\n      <th>Torasemid</th>\n      <th>Natriumchlorid</th>\n      <th>Natriumhydrogencarbonat</th>\n      <th>Macrogol 3350</th>\n      <th>Kaliumchlorid</th>\n      <th>...</th>\n      <th>Apixaban</th>\n      <th>Melperon hydrochlorid</th>\n      <th>Allopurinol</th>\n      <th>Insulin glulisin</th>\n      <th>Rivaroxaban</th>\n      <th>blutzucker</th>\n      <th>sys</th>\n      <th>dia</th>\n      <th>gewicht</th>\n      <th>bmi</th>\n    </tr>\n  </thead>\n  <tbody>\n    <tr>\n      <th>2017-02-19</th>\n      <td>11.250000</td>\n      <td>101.497500</td>\n      <td>16200.000000</td>\n      <td>0.0</td>\n      <td>0.056250</td>\n      <td>11.250000</td>\n      <td>0.0</td>\n      <td>0.0</td>\n      <td>0.0</td>\n      <td>0.0</td>\n      <td>...</td>\n      <td>0.000000</td>\n      <td>1125.000000</td>\n      <td>225.000000</td>\n      <td>14850.000000</td>\n      <td>22.500000</td>\n      <td>203.833333</td>\n      <td>125.000000</td>\n      <td>65.000000</td>\n      <td>61.300</td>\n      <td>27.2400</td>\n    </tr>\n    <tr>\n      <th>2017-02-26</th>\n      <td>15.000000</td>\n      <td>135.330000</td>\n      <td>18514.285714</td>\n      <td>0.0</td>\n      <td>0.075000</td>\n      <td>15.000000</td>\n      <td>0.0</td>\n      <td>0.0</td>\n      <td>0.0</td>\n      <td>0.0</td>\n      <td>...</td>\n      <td>0.000000</td>\n      <td>1125.000000</td>\n      <td>300.000000</td>\n      <td>18128.571429</td>\n      <td>30.000000</td>\n      <td>208.619048</td>\n      <td>121.428571</td>\n      <td>58.571429</td>\n      <td>63.500</td>\n      <td>28.2200</td>\n    </tr>\n    <tr>\n      <th>2017-03-05</th>\n      <td>15.000000</td>\n      <td>135.330000</td>\n      <td>16200.000000</td>\n      <td>0.0</td>\n      <td>0.075000</td>\n      <td>15.000000</td>\n      <td>0.0</td>\n      <td>0.0</td>\n      <td>0.0</td>\n      <td>0.0</td>\n      <td>...</td>\n      <td>0.000000</td>\n      <td>1125.000000</td>\n      <td>300.000000</td>\n      <td>27900.000000</td>\n      <td>30.000000</td>\n      <td>228.833333</td>\n      <td>120.000000</td>\n      <td>60.000000</td>\n      <td>65.700</td>\n      <td>29.2000</td>\n    </tr>\n    <tr>\n      <th>2017-03-12</th>\n      <td>15.000000</td>\n      <td>135.330000</td>\n      <td>13885.714286</td>\n      <td>0.0</td>\n      <td>0.075000</td>\n      <td>15.000000</td>\n      <td>0.0</td>\n      <td>0.0</td>\n      <td>0.0</td>\n      <td>0.0</td>\n      <td>...</td>\n      <td>0.000000</td>\n      <td>964.285714</td>\n      <td>300.000000</td>\n      <td>18128.571429</td>\n      <td>30.000000</td>\n      <td>220.761905</td>\n      <td>120.000000</td>\n      <td>66.666667</td>\n      <td>65.875</td>\n      <td>29.2775</td>\n    </tr>\n    <tr>\n      <th>2017-03-19</th>\n      <td>12.857143</td>\n      <td>115.997143</td>\n      <td>16200.000000</td>\n      <td>0.0</td>\n      <td>0.064286</td>\n      <td>12.857143</td>\n      <td>0.0</td>\n      <td>0.0</td>\n      <td>0.0</td>\n      <td>0.0</td>\n      <td>...</td>\n      <td>0.000000</td>\n      <td>1125.000000</td>\n      <td>257.142857</td>\n      <td>17100.000000</td>\n      <td>25.714286</td>\n      <td>214.809524</td>\n      <td>122.000000</td>\n      <td>65.000000</td>\n      <td>66.050</td>\n      <td>29.3550</td>\n    </tr>\n    <tr>\n      <th>...</th>\n      <td>...</td>\n      <td>...</td>\n      <td>...</td>\n      <td>...</td>\n      <td>...</td>\n      <td>...</td>\n      <td>...</td>\n      <td>...</td>\n      <td>...</td>\n      <td>...</td>\n      <td>...</td>\n      <td>...</td>\n      <td>...</td>\n      <td>...</td>\n      <td>...</td>\n      <td>...</td>\n      <td>...</td>\n      <td>...</td>\n      <td>...</td>\n      <td>...</td>\n      <td>...</td>\n    </tr>\n    <tr>\n      <th>2021-11-28</th>\n      <td>0.000000</td>\n      <td>115.997143</td>\n      <td>0.000000</td>\n      <td>0.0</td>\n      <td>0.064286</td>\n      <td>0.000000</td>\n      <td>0.0</td>\n      <td>0.0</td>\n      <td>0.0</td>\n      <td>0.0</td>\n      <td>...</td>\n      <td>13.928571</td>\n      <td>1017.857143</td>\n      <td>0.000000</td>\n      <td>15171.428571</td>\n      <td>0.000000</td>\n      <td>170.476190</td>\n      <td>120.000000</td>\n      <td>70.000000</td>\n      <td>65.500</td>\n      <td>29.1100</td>\n    </tr>\n    <tr>\n      <th>2021-12-05</th>\n      <td>0.000000</td>\n      <td>135.330000</td>\n      <td>0.000000</td>\n      <td>0.0</td>\n      <td>0.075000</td>\n      <td>0.000000</td>\n      <td>0.0</td>\n      <td>0.0</td>\n      <td>0.0</td>\n      <td>0.0</td>\n      <td>...</td>\n      <td>15.000000</td>\n      <td>1125.000000</td>\n      <td>0.000000</td>\n      <td>13500.000000</td>\n      <td>0.000000</td>\n      <td>164.630952</td>\n      <td>120.000000</td>\n      <td>70.000000</td>\n      <td>65.700</td>\n      <td>29.2000</td>\n    </tr>\n    <tr>\n      <th>2021-12-12</th>\n      <td>0.000000</td>\n      <td>96.664286</td>\n      <td>0.000000</td>\n      <td>0.0</td>\n      <td>0.053571</td>\n      <td>0.000000</td>\n      <td>0.0</td>\n      <td>0.0</td>\n      <td>0.0</td>\n      <td>0.0</td>\n      <td>...</td>\n      <td>12.857143</td>\n      <td>910.714286</td>\n      <td>0.000000</td>\n      <td>12342.857143</td>\n      <td>0.000000</td>\n      <td>172.940476</td>\n      <td>120.000000</td>\n      <td>70.000000</td>\n      <td>65.700</td>\n      <td>29.2000</td>\n    </tr>\n    <tr>\n      <th>2021-12-19</th>\n      <td>0.000000</td>\n      <td>115.997143</td>\n      <td>0.000000</td>\n      <td>0.0</td>\n      <td>0.064286</td>\n      <td>0.000000</td>\n      <td>0.0</td>\n      <td>0.0</td>\n      <td>0.0</td>\n      <td>0.0</td>\n      <td>...</td>\n      <td>13.928571</td>\n      <td>1017.857143</td>\n      <td>0.000000</td>\n      <td>11700.000000</td>\n      <td>0.000000</td>\n      <td>178.380952</td>\n      <td>120.000000</td>\n      <td>70.000000</td>\n      <td>65.700</td>\n      <td>29.2000</td>\n    </tr>\n    <tr>\n      <th>2021-12-26</th>\n      <td>0.000000</td>\n      <td>135.330000</td>\n      <td>0.000000</td>\n      <td>0.0</td>\n      <td>0.075000</td>\n      <td>0.000000</td>\n      <td>0.0</td>\n      <td>0.0</td>\n      <td>0.0</td>\n      <td>0.0</td>\n      <td>...</td>\n      <td>13.125000</td>\n      <td>843.750000</td>\n      <td>0.000000</td>\n      <td>11250.000000</td>\n      <td>0.000000</td>\n      <td>176.291667</td>\n      <td>120.000000</td>\n      <td>70.000000</td>\n      <td>65.700</td>\n      <td>29.2000</td>\n    </tr>\n  </tbody>\n</table>\n<p>254 rows × 22 columns</p>\n</div>"
     },
     "execution_count": 2,
     "metadata": {},
     "output_type": "execute_result"
    }
   ],
   "source": [
    "df = PreprocessingData.final_df\n",
    "df"
   ],
   "metadata": {
    "collapsed": false,
    "pycharm": {
     "name": "#%%\n"
    }
   }
  },
  {
   "cell_type": "code",
   "execution_count": 41,
   "outputs": [],
   "source": [
    "def get_train_data(df, n, m=\"max\"):\n",
    "    \"\"\"\n",
    "    generiert trainingsdaten.\n",
    "    die einzelnen trainingsdatensätze werden durch\n",
    "    die timeseries_id bestimmt\n",
    "    :param df: dataframe aus PrepocessingData\n",
    "    :param n: anzahl an wochen zwischen start und end datum je trainingsdateneinheit\n",
    "    :param m: anzahl an trainingsdaten, default : \"max\"\n",
    "    :return: x und y\n",
    "    \"\"\"\n",
    "    min_date = df.index.min()\n",
    "    max_date = df.index.max()\n",
    "\n",
    "    anzahl_mögliche_wochen = (max_date - min_date).days / 7\n",
    "\n",
    "    if m == \"max\":\n",
    "        m = int(anzahl_mögliche_wochen - 2)\n",
    "\n",
    "    length = timedelta(weeks=n)#days or weeks\n",
    "    shift = timedelta(days=0)\n",
    "\n",
    "    y_list = []\n",
    "\n",
    "    start_date = (min_date + shift)\n",
    "    end_date = (start_date + length)\n",
    "\n",
    "    x = df.loc[start_date: end_date][:]\n",
    "    x = x.iloc[:-1][:]\n",
    "    x[\"timeseries_id\"] = 0\n",
    "\n",
    "    y = df.loc[end_date][\"blutzucker\"]\n",
    "    y_list.append(y)\n",
    "\n",
    "\n",
    "    for id, shift in enumerate([timedelta(days = x) for x in range(7,7*m,7)]):\n",
    "        start_date = (min_date + shift)\n",
    "        end_date = (start_date + length)\n",
    "\n",
    "        x_temp = df.loc[start_date: end_date][:]\n",
    "        x_temp = x_temp.iloc[:-1][:]\n",
    "        x_temp[\"timeseries_id\"] = id+1\n",
    "\n",
    "        x = pd.concat([x, x_temp])\n",
    "\n",
    "        y = df.loc[end_date][\"blutzucker\"]\n",
    "        y_list.append(y)\n",
    "\n",
    "    y = pd.Series(y_list)\n",
    "\n",
    "    return x,y"
   ],
   "metadata": {
    "collapsed": false,
    "pycharm": {
     "name": "#%%\n"
    }
   }
  },
  {
   "cell_type": "code",
   "execution_count": 42,
   "outputs": [
    {
     "data": {
      "text/plain": "(            Ramipril  Pantoprazol natrium-1,5-Wasser  Insulin glargin  \\\n 2017-02-19     11.25                      101.497500     16200.000000   \n 2017-02-26     15.00                      135.330000     18514.285714   \n 2017-03-05     15.00                      135.330000     16200.000000   \n 2017-02-26     15.00                      135.330000     18514.285714   \n 2017-03-05     15.00                      135.330000     16200.000000   \n ...              ...                             ...              ...   \n 2021-12-05      0.00                      135.330000         0.000000   \n 2021-12-12      0.00                       96.664286         0.000000   \n 2021-12-05      0.00                      135.330000         0.000000   \n 2021-12-12      0.00                       96.664286         0.000000   \n 2021-12-19      0.00                      115.997143         0.000000   \n \n             Simvastatin  Colecalciferol  Torasemid  Natriumchlorid  \\\n 2017-02-19          0.0        0.056250      11.25             0.0   \n 2017-02-26          0.0        0.075000      15.00             0.0   \n 2017-03-05          0.0        0.075000      15.00             0.0   \n 2017-02-26          0.0        0.075000      15.00             0.0   \n 2017-03-05          0.0        0.075000      15.00             0.0   \n ...                 ...             ...        ...             ...   \n 2021-12-05          0.0        0.075000       0.00             0.0   \n 2021-12-12          0.0        0.053571       0.00             0.0   \n 2021-12-05          0.0        0.075000       0.00             0.0   \n 2021-12-12          0.0        0.053571       0.00             0.0   \n 2021-12-19          0.0        0.064286       0.00             0.0   \n \n             Natriumhydrogencarbonat  Macrogol 3350  Kaliumchlorid  ...  \\\n 2017-02-19                      0.0            0.0            0.0  ...   \n 2017-02-26                      0.0            0.0            0.0  ...   \n 2017-03-05                      0.0            0.0            0.0  ...   \n 2017-02-26                      0.0            0.0            0.0  ...   \n 2017-03-05                      0.0            0.0            0.0  ...   \n ...                             ...            ...            ...  ...   \n 2021-12-05                      0.0            0.0            0.0  ...   \n 2021-12-12                      0.0            0.0            0.0  ...   \n 2021-12-05                      0.0            0.0            0.0  ...   \n 2021-12-12                      0.0            0.0            0.0  ...   \n 2021-12-19                      0.0            0.0            0.0  ...   \n \n             Melperon hydrochlorid  Allopurinol  Insulin glulisin  Rivaroxaban  \\\n 2017-02-19            1125.000000        225.0      14850.000000         22.5   \n 2017-02-26            1125.000000        300.0      18128.571429         30.0   \n 2017-03-05            1125.000000        300.0      27900.000000         30.0   \n 2017-02-26            1125.000000        300.0      18128.571429         30.0   \n 2017-03-05            1125.000000        300.0      27900.000000         30.0   \n ...                           ...          ...               ...          ...   \n 2021-12-05            1125.000000          0.0      13500.000000          0.0   \n 2021-12-12             910.714286          0.0      12342.857143          0.0   \n 2021-12-05            1125.000000          0.0      13500.000000          0.0   \n 2021-12-12             910.714286          0.0      12342.857143          0.0   \n 2021-12-19            1017.857143          0.0      11700.000000          0.0   \n \n             blutzucker         sys        dia  gewicht    bmi  timeseries_id  \n 2017-02-19  203.833333  125.000000  65.000000     61.3  27.24              0  \n 2017-02-26  208.619048  121.428571  58.571429     63.5  28.22              0  \n 2017-03-05  228.833333  120.000000  60.000000     65.7  29.20              0  \n 2017-02-26  208.619048  121.428571  58.571429     63.5  28.22              1  \n 2017-03-05  228.833333  120.000000  60.000000     65.7  29.20              1  \n ...                ...         ...        ...      ...    ...            ...  \n 2021-12-05  164.630952  120.000000  70.000000     65.7  29.20            249  \n 2021-12-12  172.940476  120.000000  70.000000     65.7  29.20            249  \n 2021-12-05  164.630952  120.000000  70.000000     65.7  29.20            250  \n 2021-12-12  172.940476  120.000000  70.000000     65.7  29.20            250  \n 2021-12-19  178.380952  120.000000  70.000000     65.7  29.20            250  \n \n [753 rows x 23 columns],\n 0      220.761905\n 1      214.809524\n 2      218.476190\n 3      229.511905\n 4      259.190476\n           ...    \n 246    170.476190\n 247    164.630952\n 248    172.940476\n 249    178.380952\n 250    176.291667\n Length: 251, dtype: float64)"
     },
     "execution_count": 42,
     "metadata": {},
     "output_type": "execute_result"
    }
   ],
   "source": [
    "n=3\n",
    "x,y = get_train_data(df, n, \"max\")"
   ],
   "metadata": {
    "collapsed": false,
    "pycharm": {
     "name": "#%%\n"
    }
   }
  },
  {
   "cell_type": "code",
   "execution_count": 101,
   "outputs": [],
   "source": [
    "def get_guide_data(x,y):\n",
    "    guide_columns = []\n",
    "    for col in x.columns[:-1]:\n",
    "        for i in range(n):\n",
    "            name = col+\"_\"+str(i)\n",
    "            guide_columns.append(name)\n",
    "    guide_data = pd.DataFrame(columns = guide_columns)\n",
    "\n",
    "\n",
    "    for id in list(x.timeseries_id.unique()):\n",
    "        x_data = x[x.timeseries_id == id].drop(\"timeseries_id\",axis=1)\n",
    "        data = list(x_data.values.transpose().reshape(1,-1)[0])\n",
    "        guide_data.loc[len(guide_data)] = data\n",
    "\n",
    "    guide_data[\"y\"] = y\n",
    "    return guide_data"
   ],
   "metadata": {
    "collapsed": false,
    "pycharm": {
     "name": "#%%\n"
    }
   }
  },
  {
   "cell_type": "code",
   "execution_count": 102,
   "outputs": [
    {
     "data": {
      "text/plain": "    Ramipril_0  Ramipril_1  Ramipril_2  Pantoprazol natrium-1,5-Wasser_0  \\\n0    11.250000   15.000000   15.000000                        101.497500   \n1    15.000000   15.000000   15.000000                        135.330000   \n2    15.000000   15.000000   12.857143                        135.330000   \n3    15.000000   12.857143   15.000000                        135.330000   \n4    12.857143   15.000000   15.000000                        115.997143   \n..         ...         ...         ...                               ...   \n95   15.000000   15.000000   15.000000                        135.330000   \n96   15.000000   15.000000   15.000000                        135.330000   \n97   15.000000   15.000000   15.000000                        135.330000   \n98   15.000000   15.000000   15.000000                        135.330000   \n99   15.000000   15.000000   12.857143                        135.330000   \n\n    Pantoprazol natrium-1,5-Wasser_1  Pantoprazol natrium-1,5-Wasser_2  \\\n0                         135.330000                        135.330000   \n1                         135.330000                        135.330000   \n2                         135.330000                        115.997143   \n3                         115.997143                        135.330000   \n4                         135.330000                        135.330000   \n..                               ...                               ...   \n95                        135.330000                        135.330000   \n96                        135.330000                        135.330000   \n97                        135.330000                        135.330000   \n98                        135.330000                        135.330000   \n99                        135.330000                        115.997143   \n\n    Insulin glargin_0  Insulin glargin_1  Insulin glargin_2  Simvastatin_0  \\\n0        16200.000000       18514.285714       16200.000000            0.0   \n1        18514.285714       16200.000000       13885.714286            0.0   \n2        16200.000000       13885.714286       16200.000000            0.0   \n3        13885.714286       16200.000000       16200.000000            0.0   \n4        16200.000000       16200.000000       16200.000000            0.0   \n..                ...                ...                ...            ...   \n95           0.000000           0.000000           0.000000            0.0   \n96           0.000000           0.000000           0.000000            0.0   \n97           0.000000           0.000000           0.000000            0.0   \n98           0.000000           0.000000           0.000000            0.0   \n99           0.000000           0.000000           0.000000            0.0   \n\n    ...      dia_0      dia_1      dia_2  gewicht_0  gewicht_1  gewicht_2  \\\n0   ...  65.000000  58.571429  60.000000     61.300     63.500     65.700   \n1   ...  58.571429  60.000000  66.666667     63.500     65.700     65.875   \n2   ...  60.000000  66.666667  65.000000     65.700     65.875     66.050   \n3   ...  66.666667  65.000000  66.666667     65.875     66.050     66.225   \n4   ...  65.000000  66.666667  75.000000     66.050     66.225     66.400   \n..  ...        ...        ...        ...        ...        ...        ...   \n95  ...  60.810811  60.540541  60.270270     60.500     60.600     60.700   \n96  ...  60.540541  60.270270  60.000000     60.600     60.700     60.800   \n97  ...  60.270270  60.000000  56.666667     60.700     60.800     60.900   \n98  ...  60.000000  56.666667  53.333333     60.800     60.900     60.970   \n99  ...  56.666667  53.333333  50.000000     60.900     60.970     61.040   \n\n      bmi_0    bmi_1    bmi_2           y  \n0   27.2400  28.2200  29.2000  220.761905  \n1   28.2200  29.2000  29.2775  214.809524  \n2   29.2000  29.2775  29.3550  218.476190  \n3   29.2775  29.3550  29.4325  229.511905  \n4   29.3550  29.4325  29.5100  259.190476  \n..      ...      ...      ...         ...  \n95  26.8900  26.9350  26.9800  142.988095  \n96  26.9350  26.9800  27.0250  149.333333  \n97  26.9800  27.0250  27.0700  146.238095  \n98  27.0250  27.0700  27.1010  136.871429  \n99  27.0700  27.1010  27.1320  153.619048  \n\n[100 rows x 67 columns]",
      "text/html": "<div>\n<style scoped>\n    .dataframe tbody tr th:only-of-type {\n        vertical-align: middle;\n    }\n\n    .dataframe tbody tr th {\n        vertical-align: top;\n    }\n\n    .dataframe thead th {\n        text-align: right;\n    }\n</style>\n<table border=\"1\" class=\"dataframe\">\n  <thead>\n    <tr style=\"text-align: right;\">\n      <th></th>\n      <th>Ramipril_0</th>\n      <th>Ramipril_1</th>\n      <th>Ramipril_2</th>\n      <th>Pantoprazol natrium-1,5-Wasser_0</th>\n      <th>Pantoprazol natrium-1,5-Wasser_1</th>\n      <th>Pantoprazol natrium-1,5-Wasser_2</th>\n      <th>Insulin glargin_0</th>\n      <th>Insulin glargin_1</th>\n      <th>Insulin glargin_2</th>\n      <th>Simvastatin_0</th>\n      <th>...</th>\n      <th>dia_0</th>\n      <th>dia_1</th>\n      <th>dia_2</th>\n      <th>gewicht_0</th>\n      <th>gewicht_1</th>\n      <th>gewicht_2</th>\n      <th>bmi_0</th>\n      <th>bmi_1</th>\n      <th>bmi_2</th>\n      <th>y</th>\n    </tr>\n  </thead>\n  <tbody>\n    <tr>\n      <th>0</th>\n      <td>11.250000</td>\n      <td>15.000000</td>\n      <td>15.000000</td>\n      <td>101.497500</td>\n      <td>135.330000</td>\n      <td>135.330000</td>\n      <td>16200.000000</td>\n      <td>18514.285714</td>\n      <td>16200.000000</td>\n      <td>0.0</td>\n      <td>...</td>\n      <td>65.000000</td>\n      <td>58.571429</td>\n      <td>60.000000</td>\n      <td>61.300</td>\n      <td>63.500</td>\n      <td>65.700</td>\n      <td>27.2400</td>\n      <td>28.2200</td>\n      <td>29.2000</td>\n      <td>220.761905</td>\n    </tr>\n    <tr>\n      <th>1</th>\n      <td>15.000000</td>\n      <td>15.000000</td>\n      <td>15.000000</td>\n      <td>135.330000</td>\n      <td>135.330000</td>\n      <td>135.330000</td>\n      <td>18514.285714</td>\n      <td>16200.000000</td>\n      <td>13885.714286</td>\n      <td>0.0</td>\n      <td>...</td>\n      <td>58.571429</td>\n      <td>60.000000</td>\n      <td>66.666667</td>\n      <td>63.500</td>\n      <td>65.700</td>\n      <td>65.875</td>\n      <td>28.2200</td>\n      <td>29.2000</td>\n      <td>29.2775</td>\n      <td>214.809524</td>\n    </tr>\n    <tr>\n      <th>2</th>\n      <td>15.000000</td>\n      <td>15.000000</td>\n      <td>12.857143</td>\n      <td>135.330000</td>\n      <td>135.330000</td>\n      <td>115.997143</td>\n      <td>16200.000000</td>\n      <td>13885.714286</td>\n      <td>16200.000000</td>\n      <td>0.0</td>\n      <td>...</td>\n      <td>60.000000</td>\n      <td>66.666667</td>\n      <td>65.000000</td>\n      <td>65.700</td>\n      <td>65.875</td>\n      <td>66.050</td>\n      <td>29.2000</td>\n      <td>29.2775</td>\n      <td>29.3550</td>\n      <td>218.476190</td>\n    </tr>\n    <tr>\n      <th>3</th>\n      <td>15.000000</td>\n      <td>12.857143</td>\n      <td>15.000000</td>\n      <td>135.330000</td>\n      <td>115.997143</td>\n      <td>135.330000</td>\n      <td>13885.714286</td>\n      <td>16200.000000</td>\n      <td>16200.000000</td>\n      <td>0.0</td>\n      <td>...</td>\n      <td>66.666667</td>\n      <td>65.000000</td>\n      <td>66.666667</td>\n      <td>65.875</td>\n      <td>66.050</td>\n      <td>66.225</td>\n      <td>29.2775</td>\n      <td>29.3550</td>\n      <td>29.4325</td>\n      <td>229.511905</td>\n    </tr>\n    <tr>\n      <th>4</th>\n      <td>12.857143</td>\n      <td>15.000000</td>\n      <td>15.000000</td>\n      <td>115.997143</td>\n      <td>135.330000</td>\n      <td>135.330000</td>\n      <td>16200.000000</td>\n      <td>16200.000000</td>\n      <td>16200.000000</td>\n      <td>0.0</td>\n      <td>...</td>\n      <td>65.000000</td>\n      <td>66.666667</td>\n      <td>75.000000</td>\n      <td>66.050</td>\n      <td>66.225</td>\n      <td>66.400</td>\n      <td>29.3550</td>\n      <td>29.4325</td>\n      <td>29.5100</td>\n      <td>259.190476</td>\n    </tr>\n    <tr>\n      <th>...</th>\n      <td>...</td>\n      <td>...</td>\n      <td>...</td>\n      <td>...</td>\n      <td>...</td>\n      <td>...</td>\n      <td>...</td>\n      <td>...</td>\n      <td>...</td>\n      <td>...</td>\n      <td>...</td>\n      <td>...</td>\n      <td>...</td>\n      <td>...</td>\n      <td>...</td>\n      <td>...</td>\n      <td>...</td>\n      <td>...</td>\n      <td>...</td>\n      <td>...</td>\n      <td>...</td>\n    </tr>\n    <tr>\n      <th>95</th>\n      <td>15.000000</td>\n      <td>15.000000</td>\n      <td>15.000000</td>\n      <td>135.330000</td>\n      <td>135.330000</td>\n      <td>135.330000</td>\n      <td>0.000000</td>\n      <td>0.000000</td>\n      <td>0.000000</td>\n      <td>0.0</td>\n      <td>...</td>\n      <td>60.810811</td>\n      <td>60.540541</td>\n      <td>60.270270</td>\n      <td>60.500</td>\n      <td>60.600</td>\n      <td>60.700</td>\n      <td>26.8900</td>\n      <td>26.9350</td>\n      <td>26.9800</td>\n      <td>142.988095</td>\n    </tr>\n    <tr>\n      <th>96</th>\n      <td>15.000000</td>\n      <td>15.000000</td>\n      <td>15.000000</td>\n      <td>135.330000</td>\n      <td>135.330000</td>\n      <td>135.330000</td>\n      <td>0.000000</td>\n      <td>0.000000</td>\n      <td>0.000000</td>\n      <td>0.0</td>\n      <td>...</td>\n      <td>60.540541</td>\n      <td>60.270270</td>\n      <td>60.000000</td>\n      <td>60.600</td>\n      <td>60.700</td>\n      <td>60.800</td>\n      <td>26.9350</td>\n      <td>26.9800</td>\n      <td>27.0250</td>\n      <td>149.333333</td>\n    </tr>\n    <tr>\n      <th>97</th>\n      <td>15.000000</td>\n      <td>15.000000</td>\n      <td>15.000000</td>\n      <td>135.330000</td>\n      <td>135.330000</td>\n      <td>135.330000</td>\n      <td>0.000000</td>\n      <td>0.000000</td>\n      <td>0.000000</td>\n      <td>0.0</td>\n      <td>...</td>\n      <td>60.270270</td>\n      <td>60.000000</td>\n      <td>56.666667</td>\n      <td>60.700</td>\n      <td>60.800</td>\n      <td>60.900</td>\n      <td>26.9800</td>\n      <td>27.0250</td>\n      <td>27.0700</td>\n      <td>146.238095</td>\n    </tr>\n    <tr>\n      <th>98</th>\n      <td>15.000000</td>\n      <td>15.000000</td>\n      <td>15.000000</td>\n      <td>135.330000</td>\n      <td>135.330000</td>\n      <td>135.330000</td>\n      <td>0.000000</td>\n      <td>0.000000</td>\n      <td>0.000000</td>\n      <td>0.0</td>\n      <td>...</td>\n      <td>60.000000</td>\n      <td>56.666667</td>\n      <td>53.333333</td>\n      <td>60.800</td>\n      <td>60.900</td>\n      <td>60.970</td>\n      <td>27.0250</td>\n      <td>27.0700</td>\n      <td>27.1010</td>\n      <td>136.871429</td>\n    </tr>\n    <tr>\n      <th>99</th>\n      <td>15.000000</td>\n      <td>15.000000</td>\n      <td>12.857143</td>\n      <td>135.330000</td>\n      <td>135.330000</td>\n      <td>115.997143</td>\n      <td>0.000000</td>\n      <td>0.000000</td>\n      <td>0.000000</td>\n      <td>0.0</td>\n      <td>...</td>\n      <td>56.666667</td>\n      <td>53.333333</td>\n      <td>50.000000</td>\n      <td>60.900</td>\n      <td>60.970</td>\n      <td>61.040</td>\n      <td>27.0700</td>\n      <td>27.1010</td>\n      <td>27.1320</td>\n      <td>153.619048</td>\n    </tr>\n  </tbody>\n</table>\n<p>100 rows × 67 columns</p>\n</div>"
     },
     "execution_count": 102,
     "metadata": {},
     "output_type": "execute_result"
    }
   ],
   "source": [
    "get_guide_data(x,y)\n",
    "\n"
   ],
   "metadata": {
    "collapsed": false,
    "pycharm": {
     "name": "#%%\n"
    }
   }
  },
  {
   "cell_type": "code",
   "execution_count": null,
   "outputs": [],
   "source": [],
   "metadata": {
    "collapsed": false,
    "pycharm": {
     "name": "#%%\n"
    }
   }
  }
 ],
 "metadata": {
  "kernelspec": {
   "display_name": "Python 3",
   "language": "python",
   "name": "python3"
  },
  "language_info": {
   "codemirror_mode": {
    "name": "ipython",
    "version": 2
   },
   "file_extension": ".py",
   "mimetype": "text/x-python",
   "name": "python",
   "nbconvert_exporter": "python",
   "pygments_lexer": "ipython2",
   "version": "2.7.6"
  }
 },
 "nbformat": 4,
 "nbformat_minor": 0
}