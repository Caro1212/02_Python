{
 "cells": [
  {
   "cell_type": "code",
   "execution_count": 1,
   "metadata": {
    "collapsed": true
   },
   "outputs": [
    {
     "data": {
      "text/plain": "    Unnamed: 0  1_weeks_tsfresh  5_weeks_tsfresh  10_weeks_tsfresh  \\\n0          180                4                3                 4   \n1          175                2                1                 5   \n2          161                7                1                19   \n3          157                1                1                 6   \n4          156               11               14                26   \n5          149                8                4                 7   \n6          147                1                2                 2   \n7          138                3                1                 4   \n8          126                1                1                 9   \n9          118                4                2                 2   \n10          97                1                1                 1   \n11          90                1                4                 4   \n12          70                1                5                 9   \n13          69                1                1                 1   \n14          60                7                2                 4   \n15          39                5                6                 3   \n16          25                2                1                10   \n17          18                1                3                 5   \n18          13                1                2                 5   \n19          12                1                3                 1   \n20           8                1                4                11   \n\n    20_weeks_tsfresh  1week_end2end  5week_end2end  10week_end2end  \\\n0                  8              2              1               1   \n1                  1              1              1               1   \n2                 18             15              3               2   \n3                  7              7              1               1   \n4                 12             13             14              13   \n5                  2              1              4               2   \n6                 13              3              1               1   \n7                  5             15              2               2   \n8                  3              1              1               1   \n9                  8              2              2               2   \n10                 1              3              1               5   \n11                 2              1              1               1   \n12                14              2              1               1   \n13                11              1              1               7   \n14                 6              2              2               1   \n15                 5              9              3               6   \n16                 2              1              1               1   \n17                 9              1              1               2   \n18                 2              2              1               1   \n19                 7              1              1               1   \n20                 3              2              1               1   \n\n    20week_end2end  \n0                1  \n1                1  \n2                1  \n3                1  \n4                4  \n5                1  \n6                1  \n7                5  \n8                1  \n9                2  \n10               1  \n11               1  \n12               1  \n13               1  \n14               1  \n15               2  \n16               1  \n17               1  \n18               1  \n19               1  \n20               1  ",
      "text/html": "<div>\n<style scoped>\n    .dataframe tbody tr th:only-of-type {\n        vertical-align: middle;\n    }\n\n    .dataframe tbody tr th {\n        vertical-align: top;\n    }\n\n    .dataframe thead th {\n        text-align: right;\n    }\n</style>\n<table border=\"1\" class=\"dataframe\">\n  <thead>\n    <tr style=\"text-align: right;\">\n      <th></th>\n      <th>Unnamed: 0</th>\n      <th>1_weeks_tsfresh</th>\n      <th>5_weeks_tsfresh</th>\n      <th>10_weeks_tsfresh</th>\n      <th>20_weeks_tsfresh</th>\n      <th>1week_end2end</th>\n      <th>5week_end2end</th>\n      <th>10week_end2end</th>\n      <th>20week_end2end</th>\n    </tr>\n  </thead>\n  <tbody>\n    <tr>\n      <th>0</th>\n      <td>180</td>\n      <td>4</td>\n      <td>3</td>\n      <td>4</td>\n      <td>8</td>\n      <td>2</td>\n      <td>1</td>\n      <td>1</td>\n      <td>1</td>\n    </tr>\n    <tr>\n      <th>1</th>\n      <td>175</td>\n      <td>2</td>\n      <td>1</td>\n      <td>5</td>\n      <td>1</td>\n      <td>1</td>\n      <td>1</td>\n      <td>1</td>\n      <td>1</td>\n    </tr>\n    <tr>\n      <th>2</th>\n      <td>161</td>\n      <td>7</td>\n      <td>1</td>\n      <td>19</td>\n      <td>18</td>\n      <td>15</td>\n      <td>3</td>\n      <td>2</td>\n      <td>1</td>\n    </tr>\n    <tr>\n      <th>3</th>\n      <td>157</td>\n      <td>1</td>\n      <td>1</td>\n      <td>6</td>\n      <td>7</td>\n      <td>7</td>\n      <td>1</td>\n      <td>1</td>\n      <td>1</td>\n    </tr>\n    <tr>\n      <th>4</th>\n      <td>156</td>\n      <td>11</td>\n      <td>14</td>\n      <td>26</td>\n      <td>12</td>\n      <td>13</td>\n      <td>14</td>\n      <td>13</td>\n      <td>4</td>\n    </tr>\n    <tr>\n      <th>5</th>\n      <td>149</td>\n      <td>8</td>\n      <td>4</td>\n      <td>7</td>\n      <td>2</td>\n      <td>1</td>\n      <td>4</td>\n      <td>2</td>\n      <td>1</td>\n    </tr>\n    <tr>\n      <th>6</th>\n      <td>147</td>\n      <td>1</td>\n      <td>2</td>\n      <td>2</td>\n      <td>13</td>\n      <td>3</td>\n      <td>1</td>\n      <td>1</td>\n      <td>1</td>\n    </tr>\n    <tr>\n      <th>7</th>\n      <td>138</td>\n      <td>3</td>\n      <td>1</td>\n      <td>4</td>\n      <td>5</td>\n      <td>15</td>\n      <td>2</td>\n      <td>2</td>\n      <td>5</td>\n    </tr>\n    <tr>\n      <th>8</th>\n      <td>126</td>\n      <td>1</td>\n      <td>1</td>\n      <td>9</td>\n      <td>3</td>\n      <td>1</td>\n      <td>1</td>\n      <td>1</td>\n      <td>1</td>\n    </tr>\n    <tr>\n      <th>9</th>\n      <td>118</td>\n      <td>4</td>\n      <td>2</td>\n      <td>2</td>\n      <td>8</td>\n      <td>2</td>\n      <td>2</td>\n      <td>2</td>\n      <td>2</td>\n    </tr>\n    <tr>\n      <th>10</th>\n      <td>97</td>\n      <td>1</td>\n      <td>1</td>\n      <td>1</td>\n      <td>1</td>\n      <td>3</td>\n      <td>1</td>\n      <td>5</td>\n      <td>1</td>\n    </tr>\n    <tr>\n      <th>11</th>\n      <td>90</td>\n      <td>1</td>\n      <td>4</td>\n      <td>4</td>\n      <td>2</td>\n      <td>1</td>\n      <td>1</td>\n      <td>1</td>\n      <td>1</td>\n    </tr>\n    <tr>\n      <th>12</th>\n      <td>70</td>\n      <td>1</td>\n      <td>5</td>\n      <td>9</td>\n      <td>14</td>\n      <td>2</td>\n      <td>1</td>\n      <td>1</td>\n      <td>1</td>\n    </tr>\n    <tr>\n      <th>13</th>\n      <td>69</td>\n      <td>1</td>\n      <td>1</td>\n      <td>1</td>\n      <td>11</td>\n      <td>1</td>\n      <td>1</td>\n      <td>7</td>\n      <td>1</td>\n    </tr>\n    <tr>\n      <th>14</th>\n      <td>60</td>\n      <td>7</td>\n      <td>2</td>\n      <td>4</td>\n      <td>6</td>\n      <td>2</td>\n      <td>2</td>\n      <td>1</td>\n      <td>1</td>\n    </tr>\n    <tr>\n      <th>15</th>\n      <td>39</td>\n      <td>5</td>\n      <td>6</td>\n      <td>3</td>\n      <td>5</td>\n      <td>9</td>\n      <td>3</td>\n      <td>6</td>\n      <td>2</td>\n    </tr>\n    <tr>\n      <th>16</th>\n      <td>25</td>\n      <td>2</td>\n      <td>1</td>\n      <td>10</td>\n      <td>2</td>\n      <td>1</td>\n      <td>1</td>\n      <td>1</td>\n      <td>1</td>\n    </tr>\n    <tr>\n      <th>17</th>\n      <td>18</td>\n      <td>1</td>\n      <td>3</td>\n      <td>5</td>\n      <td>9</td>\n      <td>1</td>\n      <td>1</td>\n      <td>2</td>\n      <td>1</td>\n    </tr>\n    <tr>\n      <th>18</th>\n      <td>13</td>\n      <td>1</td>\n      <td>2</td>\n      <td>5</td>\n      <td>2</td>\n      <td>2</td>\n      <td>1</td>\n      <td>1</td>\n      <td>1</td>\n    </tr>\n    <tr>\n      <th>19</th>\n      <td>12</td>\n      <td>1</td>\n      <td>3</td>\n      <td>1</td>\n      <td>7</td>\n      <td>1</td>\n      <td>1</td>\n      <td>1</td>\n      <td>1</td>\n    </tr>\n    <tr>\n      <th>20</th>\n      <td>8</td>\n      <td>1</td>\n      <td>4</td>\n      <td>11</td>\n      <td>3</td>\n      <td>2</td>\n      <td>1</td>\n      <td>1</td>\n      <td>1</td>\n    </tr>\n  </tbody>\n</table>\n</div>"
     },
     "execution_count": 1,
     "metadata": {},
     "output_type": "execute_result"
    }
   ],
   "source": [
    "import pandas as pd\n",
    "results = pd.read_csv(\"results.csv\")\n",
    "results"
   ]
  },
  {
   "cell_type": "code",
   "execution_count": 2,
   "outputs": [
    {
     "data": {
      "text/plain": "       Unnamed: 0  1_weeks_tsfresh  5_weeks_tsfresh  10_weeks_tsfresh  \\\ncount   21.000000        21.000000        21.000000         21.000000   \nmean    95.619048         3.047619         2.952381          6.571429   \nstd     60.082840         2.940683         2.940683          6.152816   \nmin      8.000000         1.000000         1.000000          1.000000   \n25%     39.000000         1.000000         1.000000          3.000000   \n50%     97.000000         1.000000         2.000000          5.000000   \n75%    149.000000         4.000000         4.000000          9.000000   \nmax    180.000000        11.000000        14.000000         26.000000   \n\n       20_weeks_tsfresh  1week_end2end  5week_end2end  10week_end2end  \\\ncount         21.000000      21.000000      21.000000       21.000000   \nmean           6.619048       4.047619       2.095238        2.523810   \nstd            4.811197       4.769446       2.861901        2.976895   \nmin            1.000000       1.000000       1.000000        1.000000   \n25%            2.000000       1.000000       1.000000        1.000000   \n50%            6.000000       2.000000       1.000000        1.000000   \n75%            9.000000       3.000000       2.000000        2.000000   \nmax           18.000000      15.000000      14.000000       13.000000   \n\n       20week_end2end  \ncount       21.000000  \nmean         1.428571  \nstd          1.075706  \nmin          1.000000  \n25%          1.000000  \n50%          1.000000  \n75%          1.000000  \nmax          5.000000  ",
      "text/html": "<div>\n<style scoped>\n    .dataframe tbody tr th:only-of-type {\n        vertical-align: middle;\n    }\n\n    .dataframe tbody tr th {\n        vertical-align: top;\n    }\n\n    .dataframe thead th {\n        text-align: right;\n    }\n</style>\n<table border=\"1\" class=\"dataframe\">\n  <thead>\n    <tr style=\"text-align: right;\">\n      <th></th>\n      <th>Unnamed: 0</th>\n      <th>1_weeks_tsfresh</th>\n      <th>5_weeks_tsfresh</th>\n      <th>10_weeks_tsfresh</th>\n      <th>20_weeks_tsfresh</th>\n      <th>1week_end2end</th>\n      <th>5week_end2end</th>\n      <th>10week_end2end</th>\n      <th>20week_end2end</th>\n    </tr>\n  </thead>\n  <tbody>\n    <tr>\n      <th>count</th>\n      <td>21.000000</td>\n      <td>21.000000</td>\n      <td>21.000000</td>\n      <td>21.000000</td>\n      <td>21.000000</td>\n      <td>21.000000</td>\n      <td>21.000000</td>\n      <td>21.000000</td>\n      <td>21.000000</td>\n    </tr>\n    <tr>\n      <th>mean</th>\n      <td>95.619048</td>\n      <td>3.047619</td>\n      <td>2.952381</td>\n      <td>6.571429</td>\n      <td>6.619048</td>\n      <td>4.047619</td>\n      <td>2.095238</td>\n      <td>2.523810</td>\n      <td>1.428571</td>\n    </tr>\n    <tr>\n      <th>std</th>\n      <td>60.082840</td>\n      <td>2.940683</td>\n      <td>2.940683</td>\n      <td>6.152816</td>\n      <td>4.811197</td>\n      <td>4.769446</td>\n      <td>2.861901</td>\n      <td>2.976895</td>\n      <td>1.075706</td>\n    </tr>\n    <tr>\n      <th>min</th>\n      <td>8.000000</td>\n      <td>1.000000</td>\n      <td>1.000000</td>\n      <td>1.000000</td>\n      <td>1.000000</td>\n      <td>1.000000</td>\n      <td>1.000000</td>\n      <td>1.000000</td>\n      <td>1.000000</td>\n    </tr>\n    <tr>\n      <th>25%</th>\n      <td>39.000000</td>\n      <td>1.000000</td>\n      <td>1.000000</td>\n      <td>3.000000</td>\n      <td>2.000000</td>\n      <td>1.000000</td>\n      <td>1.000000</td>\n      <td>1.000000</td>\n      <td>1.000000</td>\n    </tr>\n    <tr>\n      <th>50%</th>\n      <td>97.000000</td>\n      <td>1.000000</td>\n      <td>2.000000</td>\n      <td>5.000000</td>\n      <td>6.000000</td>\n      <td>2.000000</td>\n      <td>1.000000</td>\n      <td>1.000000</td>\n      <td>1.000000</td>\n    </tr>\n    <tr>\n      <th>75%</th>\n      <td>149.000000</td>\n      <td>4.000000</td>\n      <td>4.000000</td>\n      <td>9.000000</td>\n      <td>9.000000</td>\n      <td>3.000000</td>\n      <td>2.000000</td>\n      <td>2.000000</td>\n      <td>1.000000</td>\n    </tr>\n    <tr>\n      <th>max</th>\n      <td>180.000000</td>\n      <td>11.000000</td>\n      <td>14.000000</td>\n      <td>26.000000</td>\n      <td>18.000000</td>\n      <td>15.000000</td>\n      <td>14.000000</td>\n      <td>13.000000</td>\n      <td>5.000000</td>\n    </tr>\n  </tbody>\n</table>\n</div>"
     },
     "execution_count": 2,
     "metadata": {},
     "output_type": "execute_result"
    }
   ],
   "source": [
    "results.describe()"
   ],
   "metadata": {
    "collapsed": false,
    "pycharm": {
     "name": "#%%\n"
    }
   }
  },
  {
   "cell_type": "code",
   "execution_count": null,
   "outputs": [],
   "source": [],
   "metadata": {
    "collapsed": false,
    "pycharm": {
     "name": "#%%\n"
    }
   }
  }
 ],
 "metadata": {
  "kernelspec": {
   "display_name": "Python 3",
   "language": "python",
   "name": "python3"
  },
  "language_info": {
   "codemirror_mode": {
    "name": "ipython",
    "version": 2
   },
   "file_extension": ".py",
   "mimetype": "text/x-python",
   "name": "python",
   "nbconvert_exporter": "python",
   "pygments_lexer": "ipython2",
   "version": "2.7.6"
  }
 },
 "nbformat": 4,
 "nbformat_minor": 0
}