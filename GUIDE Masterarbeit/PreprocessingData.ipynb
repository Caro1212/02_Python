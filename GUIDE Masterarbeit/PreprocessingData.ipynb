{
 "cells": [
  {
   "cell_type": "code",
   "execution_count": 45,
   "metadata": {
    "collapsed": true
   },
   "outputs": [],
   "source": [
    "import matplotlib.pyplot as plt\n",
    "import numpy as np\n",
    "from datetime import datetime, timedelta\n",
    "import ReadVitalData\n",
    "import ReadDrugsData\n",
    "import pandas as pd\n",
    "from functools import reduce"
   ]
  },
  {
   "cell_type": "code",
   "execution_count": 6,
   "outputs": [],
   "source": [
    "vital = ReadVitalData.vital\n",
    "mydi = ReadDrugsData.di\n",
    "klients = ReadVitalData.klients\n"
   ],
   "metadata": {
    "collapsed": false,
    "pycharm": {
     "name": "#%%\n"
    }
   }
  },
  {
   "cell_type": "code",
   "execution_count": 70,
   "outputs": [
    {
     "name": "stderr",
     "output_type": "stream",
     "text": [
      "<ipython-input-70-bafa7c265aef>:8: SettingWithCopyWarning: \n",
      "A value is trying to be set on a copy of a slice from a DataFrame.\n",
      "Try using .loc[row_indexer,col_indexer] = value instead\n",
      "\n",
      "See the caveats in the documentation: https://pandas.pydata.org/pandas-docs/stable/user_guide/indexing.html#returning-a-view-versus-a-copy\n",
      "  bz[\"wert\"] = num\n",
      "<ipython-input-70-bafa7c265aef>:9: SettingWithCopyWarning: \n",
      "A value is trying to be set on a copy of a slice from a DataFrame\n",
      "\n",
      "See the caveats in the documentation: https://pandas.pydata.org/pandas-docs/stable/user_guide/indexing.html#returning-a-view-versus-a-copy\n",
      "  bz.sort_values(by='datum',inplace=True)\n",
      "<ipython-input-70-bafa7c265aef>:19: SettingWithCopyWarning: \n",
      "A value is trying to be set on a copy of a slice from a DataFrame.\n",
      "Try using .loc[row_indexer,col_indexer] = value instead\n",
      "\n",
      "See the caveats in the documentation: https://pandas.pydata.org/pandas-docs/stable/user_guide/indexing.html#returning-a-view-versus-a-copy\n",
      "  gw[\"wert\"] = num\n",
      "<ipython-input-70-bafa7c265aef>:20: SettingWithCopyWarning: \n",
      "A value is trying to be set on a copy of a slice from a DataFrame\n",
      "\n",
      "See the caveats in the documentation: https://pandas.pydata.org/pandas-docs/stable/user_guide/indexing.html#returning-a-view-versus-a-copy\n",
      "  gw.sort_values(by='datum',inplace=True)\n",
      "<ipython-input-70-bafa7c265aef>:29: SettingWithCopyWarning: \n",
      "A value is trying to be set on a copy of a slice from a DataFrame.\n",
      "Try using .loc[row_indexer,col_indexer] = value instead\n",
      "\n",
      "See the caveats in the documentation: https://pandas.pydata.org/pandas-docs/stable/user_guide/indexing.html#returning-a-view-versus-a-copy\n",
      "  bmi[\"wert\"] = num\n",
      "<ipython-input-70-bafa7c265aef>:30: SettingWithCopyWarning: \n",
      "A value is trying to be set on a copy of a slice from a DataFrame\n",
      "\n",
      "See the caveats in the documentation: https://pandas.pydata.org/pandas-docs/stable/user_guide/indexing.html#returning-a-view-versus-a-copy\n",
      "  bmi.sort_values(by='datum',inplace=True)\n",
      "<ipython-input-70-bafa7c265aef>:44: SettingWithCopyWarning: \n",
      "A value is trying to be set on a copy of a slice from a DataFrame.\n",
      "Try using .loc[row_indexer,col_indexer] = value instead\n",
      "\n",
      "See the caveats in the documentation: https://pandas.pydata.org/pandas-docs/stable/user_guide/indexing.html#returning-a-view-versus-a-copy\n",
      "  bd[\"sys\"] = sys\n",
      "<ipython-input-70-bafa7c265aef>:45: SettingWithCopyWarning: \n",
      "A value is trying to be set on a copy of a slice from a DataFrame.\n",
      "Try using .loc[row_indexer,col_indexer] = value instead\n",
      "\n",
      "See the caveats in the documentation: https://pandas.pydata.org/pandas-docs/stable/user_guide/indexing.html#returning-a-view-versus-a-copy\n",
      "  bd[\"dia\"] = dia\n",
      "<ipython-input-70-bafa7c265aef>:46: SettingWithCopyWarning: \n",
      "A value is trying to be set on a copy of a slice from a DataFrame\n",
      "\n",
      "See the caveats in the documentation: https://pandas.pydata.org/pandas-docs/stable/user_guide/indexing.html#returning-a-view-versus-a-copy\n",
      "  bd.sort_values(by='datum',inplace=True)\n"
     ]
    },
    {
     "data": {
      "text/plain": "             Ramipril  Pantoprazol natrium-1,5-Wasser  Insulin glargin  \\\n2017-02-19  11.250000                      101.497500     16200.000000   \n2017-02-26  15.000000                      135.330000     18514.285714   \n2017-03-05  15.000000                      135.330000     16200.000000   \n2017-03-12  15.000000                      135.330000     13885.714286   \n2017-03-19  12.857143                      115.997143     16200.000000   \n...               ...                             ...              ...   \n2021-11-28   0.000000                      115.997143         0.000000   \n2021-12-05   0.000000                      135.330000         0.000000   \n2021-12-12   0.000000                       96.664286         0.000000   \n2021-12-19   0.000000                      115.997143         0.000000   \n2021-12-26   0.000000                      135.330000         0.000000   \n\n            Simvastatin  Colecalciferol  Torasemid  Natriumchlorid  \\\n2017-02-19          0.0        0.056250  11.250000             0.0   \n2017-02-26          0.0        0.075000  15.000000             0.0   \n2017-03-05          0.0        0.075000  15.000000             0.0   \n2017-03-12          0.0        0.075000  15.000000             0.0   \n2017-03-19          0.0        0.064286  12.857143             0.0   \n...                 ...             ...        ...             ...   \n2021-11-28          0.0        0.064286   0.000000             0.0   \n2021-12-05          0.0        0.075000   0.000000             0.0   \n2021-12-12          0.0        0.053571   0.000000             0.0   \n2021-12-19          0.0        0.064286   0.000000             0.0   \n2021-12-26          0.0        0.075000   0.000000             0.0   \n\n            Natriumhydrogencarbonat  Macrogol 3350  Kaliumchlorid  ...  \\\n2017-02-19                      0.0            0.0            0.0  ...   \n2017-02-26                      0.0            0.0            0.0  ...   \n2017-03-05                      0.0            0.0            0.0  ...   \n2017-03-12                      0.0            0.0            0.0  ...   \n2017-03-19                      0.0            0.0            0.0  ...   \n...                             ...            ...            ...  ...   \n2021-11-28                      0.0            0.0            0.0  ...   \n2021-12-05                      0.0            0.0            0.0  ...   \n2021-12-12                      0.0            0.0            0.0  ...   \n2021-12-19                      0.0            0.0            0.0  ...   \n2021-12-26                      0.0            0.0            0.0  ...   \n\n             Apixaban  Allopurinol  Melperon hydrochlorid  Insulin glulisin  \\\n2017-02-19   0.000000   225.000000            1125.000000      14850.000000   \n2017-02-26   0.000000   300.000000            1125.000000      18128.571429   \n2017-03-05   0.000000   300.000000            1125.000000      27900.000000   \n2017-03-12   0.000000   300.000000             964.285714      18128.571429   \n2017-03-19   0.000000   257.142857            1125.000000      17100.000000   \n...               ...          ...                    ...               ...   \n2021-11-28  13.928571     0.000000            1017.857143      15171.428571   \n2021-12-05  15.000000     0.000000            1125.000000      13500.000000   \n2021-12-12  12.857143     0.000000             910.714286      12342.857143   \n2021-12-19  13.928571     0.000000            1017.857143      11700.000000   \n2021-12-26  13.125000     0.000000             843.750000      11250.000000   \n\n            Rivaroxaban  blutzucker         sys        dia  gewicht    bmi  \n2017-02-19    22.500000  203.833333  125.000000  65.000000     61.3  27.24  \n2017-02-26    30.000000  208.619048  121.428571  58.571429      NaN    NaN  \n2017-03-05    30.000000  228.833333  120.000000  60.000000     65.7  29.20  \n2017-03-12    30.000000  220.761905  120.000000  66.666667      NaN    NaN  \n2017-03-19    25.714286  214.809524  122.000000  65.000000      NaN    NaN  \n...                 ...         ...         ...        ...      ...    ...  \n2021-11-28     0.000000  170.476190         NaN        NaN     65.5  29.11  \n2021-12-05     0.000000  164.630952         NaN        NaN     65.7  29.20  \n2021-12-12     0.000000  172.940476         NaN        NaN      NaN    NaN  \n2021-12-19     0.000000  178.380952         NaN        NaN      NaN    NaN  \n2021-12-26     0.000000  176.291667         NaN        NaN      NaN    NaN  \n\n[254 rows x 22 columns]",
      "text/html": "<div>\n<style scoped>\n    .dataframe tbody tr th:only-of-type {\n        vertical-align: middle;\n    }\n\n    .dataframe tbody tr th {\n        vertical-align: top;\n    }\n\n    .dataframe thead th {\n        text-align: right;\n    }\n</style>\n<table border=\"1\" class=\"dataframe\">\n  <thead>\n    <tr style=\"text-align: right;\">\n      <th></th>\n      <th>Ramipril</th>\n      <th>Pantoprazol natrium-1,5-Wasser</th>\n      <th>Insulin glargin</th>\n      <th>Simvastatin</th>\n      <th>Colecalciferol</th>\n      <th>Torasemid</th>\n      <th>Natriumchlorid</th>\n      <th>Natriumhydrogencarbonat</th>\n      <th>Macrogol 3350</th>\n      <th>Kaliumchlorid</th>\n      <th>...</th>\n      <th>Apixaban</th>\n      <th>Allopurinol</th>\n      <th>Melperon hydrochlorid</th>\n      <th>Insulin glulisin</th>\n      <th>Rivaroxaban</th>\n      <th>blutzucker</th>\n      <th>sys</th>\n      <th>dia</th>\n      <th>gewicht</th>\n      <th>bmi</th>\n    </tr>\n  </thead>\n  <tbody>\n    <tr>\n      <th>2017-02-19</th>\n      <td>11.250000</td>\n      <td>101.497500</td>\n      <td>16200.000000</td>\n      <td>0.0</td>\n      <td>0.056250</td>\n      <td>11.250000</td>\n      <td>0.0</td>\n      <td>0.0</td>\n      <td>0.0</td>\n      <td>0.0</td>\n      <td>...</td>\n      <td>0.000000</td>\n      <td>225.000000</td>\n      <td>1125.000000</td>\n      <td>14850.000000</td>\n      <td>22.500000</td>\n      <td>203.833333</td>\n      <td>125.000000</td>\n      <td>65.000000</td>\n      <td>61.3</td>\n      <td>27.24</td>\n    </tr>\n    <tr>\n      <th>2017-02-26</th>\n      <td>15.000000</td>\n      <td>135.330000</td>\n      <td>18514.285714</td>\n      <td>0.0</td>\n      <td>0.075000</td>\n      <td>15.000000</td>\n      <td>0.0</td>\n      <td>0.0</td>\n      <td>0.0</td>\n      <td>0.0</td>\n      <td>...</td>\n      <td>0.000000</td>\n      <td>300.000000</td>\n      <td>1125.000000</td>\n      <td>18128.571429</td>\n      <td>30.000000</td>\n      <td>208.619048</td>\n      <td>121.428571</td>\n      <td>58.571429</td>\n      <td>NaN</td>\n      <td>NaN</td>\n    </tr>\n    <tr>\n      <th>2017-03-05</th>\n      <td>15.000000</td>\n      <td>135.330000</td>\n      <td>16200.000000</td>\n      <td>0.0</td>\n      <td>0.075000</td>\n      <td>15.000000</td>\n      <td>0.0</td>\n      <td>0.0</td>\n      <td>0.0</td>\n      <td>0.0</td>\n      <td>...</td>\n      <td>0.000000</td>\n      <td>300.000000</td>\n      <td>1125.000000</td>\n      <td>27900.000000</td>\n      <td>30.000000</td>\n      <td>228.833333</td>\n      <td>120.000000</td>\n      <td>60.000000</td>\n      <td>65.7</td>\n      <td>29.20</td>\n    </tr>\n    <tr>\n      <th>2017-03-12</th>\n      <td>15.000000</td>\n      <td>135.330000</td>\n      <td>13885.714286</td>\n      <td>0.0</td>\n      <td>0.075000</td>\n      <td>15.000000</td>\n      <td>0.0</td>\n      <td>0.0</td>\n      <td>0.0</td>\n      <td>0.0</td>\n      <td>...</td>\n      <td>0.000000</td>\n      <td>300.000000</td>\n      <td>964.285714</td>\n      <td>18128.571429</td>\n      <td>30.000000</td>\n      <td>220.761905</td>\n      <td>120.000000</td>\n      <td>66.666667</td>\n      <td>NaN</td>\n      <td>NaN</td>\n    </tr>\n    <tr>\n      <th>2017-03-19</th>\n      <td>12.857143</td>\n      <td>115.997143</td>\n      <td>16200.000000</td>\n      <td>0.0</td>\n      <td>0.064286</td>\n      <td>12.857143</td>\n      <td>0.0</td>\n      <td>0.0</td>\n      <td>0.0</td>\n      <td>0.0</td>\n      <td>...</td>\n      <td>0.000000</td>\n      <td>257.142857</td>\n      <td>1125.000000</td>\n      <td>17100.000000</td>\n      <td>25.714286</td>\n      <td>214.809524</td>\n      <td>122.000000</td>\n      <td>65.000000</td>\n      <td>NaN</td>\n      <td>NaN</td>\n    </tr>\n    <tr>\n      <th>...</th>\n      <td>...</td>\n      <td>...</td>\n      <td>...</td>\n      <td>...</td>\n      <td>...</td>\n      <td>...</td>\n      <td>...</td>\n      <td>...</td>\n      <td>...</td>\n      <td>...</td>\n      <td>...</td>\n      <td>...</td>\n      <td>...</td>\n      <td>...</td>\n      <td>...</td>\n      <td>...</td>\n      <td>...</td>\n      <td>...</td>\n      <td>...</td>\n      <td>...</td>\n      <td>...</td>\n    </tr>\n    <tr>\n      <th>2021-11-28</th>\n      <td>0.000000</td>\n      <td>115.997143</td>\n      <td>0.000000</td>\n      <td>0.0</td>\n      <td>0.064286</td>\n      <td>0.000000</td>\n      <td>0.0</td>\n      <td>0.0</td>\n      <td>0.0</td>\n      <td>0.0</td>\n      <td>...</td>\n      <td>13.928571</td>\n      <td>0.000000</td>\n      <td>1017.857143</td>\n      <td>15171.428571</td>\n      <td>0.000000</td>\n      <td>170.476190</td>\n      <td>NaN</td>\n      <td>NaN</td>\n      <td>65.5</td>\n      <td>29.11</td>\n    </tr>\n    <tr>\n      <th>2021-12-05</th>\n      <td>0.000000</td>\n      <td>135.330000</td>\n      <td>0.000000</td>\n      <td>0.0</td>\n      <td>0.075000</td>\n      <td>0.000000</td>\n      <td>0.0</td>\n      <td>0.0</td>\n      <td>0.0</td>\n      <td>0.0</td>\n      <td>...</td>\n      <td>15.000000</td>\n      <td>0.000000</td>\n      <td>1125.000000</td>\n      <td>13500.000000</td>\n      <td>0.000000</td>\n      <td>164.630952</td>\n      <td>NaN</td>\n      <td>NaN</td>\n      <td>65.7</td>\n      <td>29.20</td>\n    </tr>\n    <tr>\n      <th>2021-12-12</th>\n      <td>0.000000</td>\n      <td>96.664286</td>\n      <td>0.000000</td>\n      <td>0.0</td>\n      <td>0.053571</td>\n      <td>0.000000</td>\n      <td>0.0</td>\n      <td>0.0</td>\n      <td>0.0</td>\n      <td>0.0</td>\n      <td>...</td>\n      <td>12.857143</td>\n      <td>0.000000</td>\n      <td>910.714286</td>\n      <td>12342.857143</td>\n      <td>0.000000</td>\n      <td>172.940476</td>\n      <td>NaN</td>\n      <td>NaN</td>\n      <td>NaN</td>\n      <td>NaN</td>\n    </tr>\n    <tr>\n      <th>2021-12-19</th>\n      <td>0.000000</td>\n      <td>115.997143</td>\n      <td>0.000000</td>\n      <td>0.0</td>\n      <td>0.064286</td>\n      <td>0.000000</td>\n      <td>0.0</td>\n      <td>0.0</td>\n      <td>0.0</td>\n      <td>0.0</td>\n      <td>...</td>\n      <td>13.928571</td>\n      <td>0.000000</td>\n      <td>1017.857143</td>\n      <td>11700.000000</td>\n      <td>0.000000</td>\n      <td>178.380952</td>\n      <td>NaN</td>\n      <td>NaN</td>\n      <td>NaN</td>\n      <td>NaN</td>\n    </tr>\n    <tr>\n      <th>2021-12-26</th>\n      <td>0.000000</td>\n      <td>135.330000</td>\n      <td>0.000000</td>\n      <td>0.0</td>\n      <td>0.075000</td>\n      <td>0.000000</td>\n      <td>0.0</td>\n      <td>0.0</td>\n      <td>0.0</td>\n      <td>0.0</td>\n      <td>...</td>\n      <td>13.125000</td>\n      <td>0.000000</td>\n      <td>843.750000</td>\n      <td>11250.000000</td>\n      <td>0.000000</td>\n      <td>176.291667</td>\n      <td>NaN</td>\n      <td>NaN</td>\n      <td>NaN</td>\n      <td>NaN</td>\n    </tr>\n  </tbody>\n</table>\n<p>254 rows × 22 columns</p>\n</div>"
     },
     "execution_count": 70,
     "metadata": {},
     "output_type": "execute_result"
    }
   ],
   "source": [
    "myklient = klients[133]\n",
    "df = vital[vital.klientid2 == myklient]\n",
    "\n",
    "#Blutzucker\n",
    "bz = df[df.bezeichnung.isin([\"Blutzucker\", \"Blutzucker mmol/l\"])]\n",
    "num = pd.to_numeric(bz.wert,errors='coerce')\n",
    "bz[\"wert\"] = num\n",
    "bz.sort_values(by='datum',inplace=True)\n",
    "bz = bz[[\"datum\",\"wert\"]]\n",
    "bz.columns = [\"datum\", \"blutzucker\"]\n",
    "bz = bz.set_index(\"datum\")\n",
    "bz = bz.resample('1d').mean()\n",
    "\n",
    "#Gewicht\n",
    "\n",
    "gw = df[df.bezeichnung == \"Gewicht\"]\n",
    "num = [float(str(x).replace(\",\",\".\")) for x in gw.wert]\n",
    "gw[\"wert\"] = num\n",
    "gw.sort_values(by='datum',inplace=True)\n",
    "gw = gw[[\"datum\",\"wert\"]]\n",
    "gw.columns = [\"datum\", \"gewicht\"]\n",
    "gw = gw.set_index(\"datum\")\n",
    "gw.index = [d.date() for d in gw.index]\n",
    "\n",
    "#bmi\n",
    "bmi = df[df.bezeichnung == \"BMI\"]\n",
    "num = [float(str(x).replace(\",\",\".\")) for x in bmi.wert]\n",
    "bmi[\"wert\"] = num\n",
    "bmi.sort_values(by='datum',inplace=True)\n",
    "bmi = bmi[[\"datum\",\"wert\"]]\n",
    "bmi.columns = [\"datum\", \"bmi\"]\n",
    "bmi = bmi.set_index(\"datum\")\n",
    "bmi.index = [d.date() for d in bmi.index]\n",
    "\n",
    "#Blutdruck\n",
    "\n",
    "bd = df[df.bezeichnung == \"Blutdruck\"]\n",
    "werte = list(bd.wert.apply(str))\n",
    "sys = [float(x.split(\"/\")[0]) if len(x)>1 else np.NaN for x in werte]\n",
    "dia = [float(x.split(\"/\")[1]) if len(x)>1 else np.NaN for x in werte]\n",
    "\n",
    "bd[\"sys\"] = sys\n",
    "bd[\"dia\"] = dia\n",
    "bd.sort_values(by='datum',inplace=True)\n",
    "syst = bd[[\"datum\",\"sys\"]]\n",
    "syst = syst.set_index(\"datum\")\n",
    "syst = syst.resample('1d').mean()\n",
    "\n",
    "dia = bd[[\"datum\",\"dia\"]]\n",
    "dia = dia.set_index(\"datum\")\n",
    "dia = dia.resample('1d').mean()\n",
    "\n",
    "#Medikamente\n",
    "mdf = mydi[mydi.klientid2 == myklient]\n",
    "medi = list(mdf.inhaltsstoff.unique())\n",
    "\n",
    "a = medi[0]\n",
    "adf = mdf[mdf.inhaltsstoff == a]\n",
    "adf = adf[[\"datum\",\"eingenommene_menge\"]]\n",
    "adf.columns = [\"datum\",a]\n",
    "adf.sort_values(by='datum',inplace=True)\n",
    "adf.set_index(\"datum\",inplace=True)\n",
    "adf = adf.resample('1d').sum()\n",
    "\n",
    "for b in medi[1::]:\n",
    "\n",
    "    bdf = mdf[mdf.inhaltsstoff == b]\n",
    "    bdf = bdf[[\"datum\",\"eingenommene_menge\"]]\n",
    "    bdf.columns = [\"datum\",b]\n",
    "    bdf.sort_values(by='datum',inplace=True)\n",
    "    bdf.set_index(\"datum\",inplace=True)\n",
    "    bdf = bdf.resample('1d').sum()\n",
    "\n",
    "    adf = adf.join(bdf, lsuffix='_caller', rsuffix='_other',how='outer').fillna(0)\n",
    "\n",
    "adf = adf.loc[:, (adf != 0).any(axis=0)]\n",
    "\n",
    "dfs = [adf, bz, syst, dia, gw, bmi]\n",
    "final_df = reduce(lambda  left,right: pd.merge(left,right,left_index=True, right_index=True,\n",
    "                                            how='outer'), dfs)\n",
    "final_df.resample('1w').mean()"
   ],
   "metadata": {
    "collapsed": false,
    "pycharm": {
     "name": "#%%\n"
    }
   }
  },
  {
   "cell_type": "code",
   "execution_count": null,
   "outputs": [],
   "source": [
    "\n",
    "#interpolate(method = 'linear')\n",
    "\n"
   ],
   "metadata": {
    "collapsed": false,
    "pycharm": {
     "name": "#%%\n"
    }
   }
  },
  {
   "cell_type": "code",
   "execution_count": null,
   "outputs": [],
   "source": [],
   "metadata": {
    "collapsed": false,
    "pycharm": {
     "name": "#%%\n"
    }
   }
  },
  {
   "cell_type": "code",
   "execution_count": null,
   "outputs": [],
   "source": [],
   "metadata": {
    "collapsed": false,
    "pycharm": {
     "name": "#%%\n"
    }
   }
  }
 ],
 "metadata": {
  "kernelspec": {
   "display_name": "Python 3",
   "language": "python",
   "name": "python3"
  },
  "language_info": {
   "codemirror_mode": {
    "name": "ipython",
    "version": 2
   },
   "file_extension": ".py",
   "mimetype": "text/x-python",
   "name": "python",
   "nbconvert_exporter": "python",
   "pygments_lexer": "ipython2",
   "version": "2.7.6"
  }
 },
 "nbformat": 4,
 "nbformat_minor": 0
}